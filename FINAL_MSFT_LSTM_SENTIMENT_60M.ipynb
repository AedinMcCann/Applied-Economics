{
  "nbformat": 4,
  "nbformat_minor": 0,
  "metadata": {
    "colab": {
      "name": "FINAL MSFT- LSTM SENTIMENT - 60M",
      "provenance": [],
      "collapsed_sections": [],
      "authorship_tag": "ABX9TyOB/S+AogVsOcJbw0PaLXML",
      "include_colab_link": true
    },
    "kernelspec": {
      "display_name": "Python 3",
      "name": "python3"
    },
    "language_info": {
      "name": "python"
    }
  },
  "cells": [
    {
      "cell_type": "markdown",
      "metadata": {
        "id": "view-in-github",
        "colab_type": "text"
      },
      "source": [
        "<a href=\"https://colab.research.google.com/github/AedinMcCann/Applied-Economics/blob/main/FINAL_MSFT_LSTM_SENTIMENT_60M.ipynb\" target=\"_parent\"><img src=\"https://colab.research.google.com/assets/colab-badge.svg\" alt=\"Open In Colab\"/></a>"
      ]
    },
    {
      "cell_type": "code",
      "metadata": {
        "colab": {
          "base_uri": "https://localhost:8080/"
        },
        "id": "7NWzzUVTbmJD",
        "outputId": "30c554ec-c4fb-4c9f-82b6-57f57f79788c"
      },
      "source": [
        "pip install yfinance"
      ],
      "execution_count": null,
      "outputs": [
        {
          "output_type": "stream",
          "text": [
            "Collecting yfinance\n",
            "  Downloading https://files.pythonhosted.org/packages/a7/ee/315752b9ef281ba83c62aa7ec2e2074f85223da6e7e74efb4d3e11c0f510/yfinance-0.1.59.tar.gz\n",
            "Requirement already satisfied: pandas>=0.24 in /usr/local/lib/python3.7/dist-packages (from yfinance) (1.1.5)\n",
            "Requirement already satisfied: numpy>=1.15 in /usr/local/lib/python3.7/dist-packages (from yfinance) (1.19.5)\n",
            "Requirement already satisfied: requests>=2.20 in /usr/local/lib/python3.7/dist-packages (from yfinance) (2.23.0)\n",
            "Requirement already satisfied: multitasking>=0.0.7 in /usr/local/lib/python3.7/dist-packages (from yfinance) (0.0.9)\n",
            "Collecting lxml>=4.5.1\n",
            "\u001b[?25l  Downloading https://files.pythonhosted.org/packages/30/c0/d0526314971fc661b083ab135747dc68446a3022686da8c16d25fcf6ef07/lxml-4.6.3-cp37-cp37m-manylinux2014_x86_64.whl (6.3MB)\n",
            "\u001b[K     |████████████████████████████████| 6.3MB 3.7MB/s \n",
            "\u001b[?25hRequirement already satisfied: pytz>=2017.2 in /usr/local/lib/python3.7/dist-packages (from pandas>=0.24->yfinance) (2018.9)\n",
            "Requirement already satisfied: python-dateutil>=2.7.3 in /usr/local/lib/python3.7/dist-packages (from pandas>=0.24->yfinance) (2.8.1)\n",
            "Requirement already satisfied: certifi>=2017.4.17 in /usr/local/lib/python3.7/dist-packages (from requests>=2.20->yfinance) (2020.12.5)\n",
            "Requirement already satisfied: idna<3,>=2.5 in /usr/local/lib/python3.7/dist-packages (from requests>=2.20->yfinance) (2.10)\n",
            "Requirement already satisfied: urllib3!=1.25.0,!=1.25.1,<1.26,>=1.21.1 in /usr/local/lib/python3.7/dist-packages (from requests>=2.20->yfinance) (1.24.3)\n",
            "Requirement already satisfied: chardet<4,>=3.0.2 in /usr/local/lib/python3.7/dist-packages (from requests>=2.20->yfinance) (3.0.4)\n",
            "Requirement already satisfied: six>=1.5 in /usr/local/lib/python3.7/dist-packages (from python-dateutil>=2.7.3->pandas>=0.24->yfinance) (1.15.0)\n",
            "Building wheels for collected packages: yfinance\n",
            "  Building wheel for yfinance (setup.py) ... \u001b[?25l\u001b[?25hdone\n",
            "  Created wheel for yfinance: filename=yfinance-0.1.59-py2.py3-none-any.whl size=23455 sha256=9f9e79600a30f01ef4e4a7f97542ff6478d9dd07f4d904a915363522029a3cc5\n",
            "  Stored in directory: /root/.cache/pip/wheels/f8/2a/0f/4b5a86e1d52e451757eb6bc17fd899629f0925c777741b6d04\n",
            "Successfully built yfinance\n",
            "Installing collected packages: lxml, yfinance\n",
            "  Found existing installation: lxml 4.2.6\n",
            "    Uninstalling lxml-4.2.6:\n",
            "      Successfully uninstalled lxml-4.2.6\n",
            "Successfully installed lxml-4.6.3 yfinance-0.1.59\n"
          ],
          "name": "stdout"
        }
      ]
    },
    {
      "cell_type": "code",
      "metadata": {
        "colab": {
          "base_uri": "https://localhost:8080/"
        },
        "id": "bxMMLj5JDskT",
        "outputId": "bb9d67ef-2981-4797-8ee3-939e72930ec2"
      },
      "source": [
        "pip install yahoofinancials"
      ],
      "execution_count": null,
      "outputs": [
        {
          "output_type": "stream",
          "text": [
            "Collecting yahoofinancials\n",
            "  Downloading https://files.pythonhosted.org/packages/97/fe/be0f6ea704137848779fc61e7d1c9a901489aaf3423cd7b6f86a350c14c6/yahoofinancials-1.6.tar.gz\n",
            "Requirement already satisfied: beautifulsoup4 in /usr/local/lib/python3.7/dist-packages (from yahoofinancials) (4.6.3)\n",
            "Requirement already satisfied: pytz in /usr/local/lib/python3.7/dist-packages (from yahoofinancials) (2018.9)\n",
            "Building wheels for collected packages: yahoofinancials\n",
            "  Building wheel for yahoofinancials (setup.py) ... \u001b[?25l\u001b[?25hdone\n",
            "  Created wheel for yahoofinancials: filename=yahoofinancials-1.6-cp37-none-any.whl size=15192 sha256=4403d81f81c81667658a78459515c829340bf3096c1018f8e6273119aaa4b166\n",
            "  Stored in directory: /root/.cache/pip/wheels/d9/7e/cf/4977a8572d5247242a4b13018d1d36923024ba84236e0d28bc\n",
            "Successfully built yahoofinancials\n",
            "Installing collected packages: yahoofinancials\n",
            "Successfully installed yahoofinancials-1.6\n"
          ],
          "name": "stdout"
        }
      ]
    },
    {
      "cell_type": "code",
      "metadata": {
        "id": "x5HOlBCAcU8n"
      },
      "source": [
        "# Import necessary packages\n",
        "import tensorflow as tf\n",
        "from tensorflow.keras.callbacks import CSVLogger, EarlyStopping\n",
        "import numpy as np\n",
        "import matplotlib as mpl\n",
        "import matplotlib.pyplot as plt\n",
        "import numpy as np\n",
        "import os\n",
        "import pandas as pd\n",
        "import seaborn as sns\n",
        "import time\n",
        "import gc\n",
        "import sys\n",
        "from sklearn.preprocessing import MinMaxScaler\n",
        "import pandas as pd\n",
        "import yfinance as yf\n",
        "from yahoofinancials import YahooFinancials\n",
        "import seaborn as sns\n",
        "\n",
        "from sklearn.model_selection import TimeSeriesSplit\n",
        "from sklearn.model_selection import KFold\n",
        "import numpy as np\n",
        "import matplotlib.pyplot as plt\n",
        "from matplotlib.patches import Patch\n",
        "import seaborn as sns \n",
        "\n",
        "import sklearn\n",
        "from sklearn.linear_model import ElasticNet\n",
        "from sklearn.multioutput import MultiOutputRegressor\n",
        "from sklearn.model_selection import cross_val_score\n",
        "from sklearn.model_selection import GridSearchCV\n",
        "from keras.wrappers.scikit_learn import KerasClassifier\n"
      ],
      "execution_count": null,
      "outputs": []
    },
    {
      "cell_type": "code",
      "metadata": {
        "id": "GFMJrJwWbzvx",
        "colab": {
          "base_uri": "https://localhost:8080/",
          "height": 480
        },
        "outputId": "2c349065-a95e-4006-d854-b2409d9921ce"
      },
      "source": [
        "# Get stock data\n",
        "start='2020-01-01'\n",
        "end='2021-01-02'\n",
        "df = yf.download(tickers = \"MSFT\",start=start,end=end,interval = \"60m\")\n",
        "df.reset_index(drop=False, inplace=True)\n",
        "\n",
        "nan_value = float(\"NaN\")\n",
        "df.replace(\"\", nan_value, inplace=True)\n",
        "df.tail()\n",
        "df['Next_close'] = df['Close'].shift(-1)\n",
        "df.tail()\n"
      ],
      "execution_count": null,
      "outputs": [
        {
          "output_type": "stream",
          "text": [
            "\r[*********************100%***********************]  1 of 1 completed\n"
          ],
          "name": "stdout"
        },
        {
          "output_type": "execute_result",
          "data": {
            "text/html": [
              "<div>\n",
              "<style scoped>\n",
              "    .dataframe tbody tr th:only-of-type {\n",
              "        vertical-align: middle;\n",
              "    }\n",
              "\n",
              "    .dataframe tbody tr th {\n",
              "        vertical-align: top;\n",
              "    }\n",
              "\n",
              "    .dataframe thead th {\n",
              "        text-align: right;\n",
              "    }\n",
              "</style>\n",
              "<table border=\"1\" class=\"dataframe\">\n",
              "  <thead>\n",
              "    <tr style=\"text-align: right;\">\n",
              "      <th></th>\n",
              "      <th>Datetime</th>\n",
              "      <th>Open</th>\n",
              "      <th>High</th>\n",
              "      <th>Low</th>\n",
              "      <th>Close</th>\n",
              "      <th>Adj Close</th>\n",
              "      <th>Volume</th>\n",
              "      <th>Next_close</th>\n",
              "    </tr>\n",
              "  </thead>\n",
              "  <tbody>\n",
              "    <tr>\n",
              "      <th>1759</th>\n",
              "      <td>2020-12-31 11:30:00-05:00</td>\n",
              "      <td>220.274994</td>\n",
              "      <td>220.460007</td>\n",
              "      <td>219.679993</td>\n",
              "      <td>219.910004</td>\n",
              "      <td>219.910004</td>\n",
              "      <td>2132707</td>\n",
              "      <td>220.285004</td>\n",
              "    </tr>\n",
              "    <tr>\n",
              "      <th>1760</th>\n",
              "      <td>2020-12-31 12:30:00-05:00</td>\n",
              "      <td>219.914993</td>\n",
              "      <td>220.406494</td>\n",
              "      <td>219.800003</td>\n",
              "      <td>220.285004</td>\n",
              "      <td>220.285004</td>\n",
              "      <td>1172462</td>\n",
              "      <td>220.559998</td>\n",
              "    </tr>\n",
              "    <tr>\n",
              "      <th>1761</th>\n",
              "      <td>2020-12-31 13:30:00-05:00</td>\n",
              "      <td>220.286896</td>\n",
              "      <td>220.600006</td>\n",
              "      <td>219.880005</td>\n",
              "      <td>220.559998</td>\n",
              "      <td>220.559998</td>\n",
              "      <td>1402907</td>\n",
              "      <td>221.369995</td>\n",
              "    </tr>\n",
              "    <tr>\n",
              "      <th>1762</th>\n",
              "      <td>2020-12-31 14:30:00-05:00</td>\n",
              "      <td>220.559998</td>\n",
              "      <td>221.630005</td>\n",
              "      <td>220.529999</td>\n",
              "      <td>221.369995</td>\n",
              "      <td>221.369995</td>\n",
              "      <td>1800116</td>\n",
              "      <td>222.449997</td>\n",
              "    </tr>\n",
              "    <tr>\n",
              "      <th>1763</th>\n",
              "      <td>2020-12-31 15:30:00-05:00</td>\n",
              "      <td>221.369995</td>\n",
              "      <td>223.000000</td>\n",
              "      <td>221.160095</td>\n",
              "      <td>222.449997</td>\n",
              "      <td>222.449997</td>\n",
              "      <td>3623446</td>\n",
              "      <td>NaN</td>\n",
              "    </tr>\n",
              "  </tbody>\n",
              "</table>\n",
              "</div>"
            ],
            "text/plain": [
              "                      Datetime        Open  ...   Volume  Next_close\n",
              "1759 2020-12-31 11:30:00-05:00  220.274994  ...  2132707  220.285004\n",
              "1760 2020-12-31 12:30:00-05:00  219.914993  ...  1172462  220.559998\n",
              "1761 2020-12-31 13:30:00-05:00  220.286896  ...  1402907  221.369995\n",
              "1762 2020-12-31 14:30:00-05:00  220.559998  ...  1800116  222.449997\n",
              "1763 2020-12-31 15:30:00-05:00  221.369995  ...  3623446         NaN\n",
              "\n",
              "[5 rows x 8 columns]"
            ]
          },
          "metadata": {
            "tags": []
          },
          "execution_count": 4
        }
      ]
    },
    {
      "cell_type": "code",
      "metadata": {
        "id": "cnIoHw6wkZRy",
        "colab": {
          "base_uri": "https://localhost:8080/",
          "height": 375
        },
        "outputId": "e95bbdb8-f234-44f3-dad6-3697089aa297"
      },
      "source": [
        "# Add in some technical indicators\n",
        "# Simple moving average (SMA)\n",
        "# 3 day period\n",
        "Close = df[['Close']]\n",
        "df['SMA'] = df.Close.rolling(3, min_periods=1).mean()\n",
        "\n",
        "# Exponential moving average (EMA)\n",
        "df['EMA'] = df.Close.ewm(alpha=0.1, adjust=False).mean()\n",
        "\n",
        "# Colors for the line plot\n",
        "colors = ['green', 'red', 'purple']\n",
        "df_plt = df[['Close', 'SMA', 'EMA']]\n",
        "\n",
        "# line plot\n",
        "df_plt.plot(color=colors, linewidth=3, figsize=(12,6))\n",
        "\n",
        "# modify ticks size\n",
        "plt.xticks(fontsize=14)\n",
        "plt.yticks(fontsize=14)\n",
        "\n",
        "# title and labels\n",
        "plt.title('The Closing Price of MSFT Stock', fontsize=20)\n",
        "plt.xlabel('Date', fontsize=16)\n",
        "plt.ylabel('Cost (USD)', fontsize=16)"
      ],
      "execution_count": null,
      "outputs": [
        {
          "output_type": "execute_result",
          "data": {
            "text/plain": [
              "Text(0, 0.5, 'Cost (USD)')"
            ]
          },
          "metadata": {
            "tags": []
          },
          "execution_count": 5
        },
        {
          "output_type": "display_data",
          "data": {
            "image/png": "[encoded data removed]",
            "text/plain": [
              "<Figure size 864x432 with 1 Axes>"
            ]
          },
          "metadata": {
            "tags": [],
            "needs_background": "light"
          }
        }
      ]
    },
    {
      "cell_type": "code",
      "metadata": {
        "id": "xkcrDDZlqgYT",
        "colab": {
          "base_uri": "https://localhost:8080/",
          "height": 493
        },
        "outputId": "b692528e-8319-43df-cc0d-fb4b9ea159b4"
      },
      "source": [
        "# On Balance Volume\n",
        "# Measures cumulative buying and selling pressure by adding the volume on \"up\" days and subtracting volume on \"down\" days. \n",
        "df['obv'] = (np.sign(df['Close'].diff()) * df['Volume']).fillna(0).cumsum()\n",
        "df = df.set_index('Datetime')\n",
        "df.head()"
      ],
      "execution_count": null,
      "outputs": [
        {
          "output_type": "execute_result",
          "data": {
            "text/html": [
              "<div>\n",
              "<style scoped>\n",
              "    .dataframe tbody tr th:only-of-type {\n",
              "        vertical-align: middle;\n",
              "    }\n",
              "\n",
              "    .dataframe tbody tr th {\n",
              "        vertical-align: top;\n",
              "    }\n",
              "\n",
              "    .dataframe thead th {\n",
              "        text-align: right;\n",
              "    }\n",
              "</style>\n",
              "<table border=\"1\" class=\"dataframe\">\n",
              "  <thead>\n",
              "    <tr style=\"text-align: right;\">\n",
              "      <th></th>\n",
              "      <th>Open</th>\n",
              "      <th>High</th>\n",
              "      <th>Low</th>\n",
              "      <th>Close</th>\n",
              "      <th>Adj Close</th>\n",
              "      <th>Volume</th>\n",
              "      <th>Next_close</th>\n",
              "      <th>SMA</th>\n",
              "      <th>EMA</th>\n",
              "      <th>obv</th>\n",
              "    </tr>\n",
              "    <tr>\n",
              "      <th>Datetime</th>\n",
              "      <th></th>\n",
              "      <th></th>\n",
              "      <th></th>\n",
              "      <th></th>\n",
              "      <th></th>\n",
              "      <th></th>\n",
              "      <th></th>\n",
              "      <th></th>\n",
              "      <th></th>\n",
              "      <th></th>\n",
              "    </tr>\n",
              "  </thead>\n",
              "  <tbody>\n",
              "    <tr>\n",
              "      <th>2020-01-02 09:30:00-05:00</th>\n",
              "      <td>158.779999</td>\n",
              "      <td>159.554993</td>\n",
              "      <td>158.330002</td>\n",
              "      <td>159.100006</td>\n",
              "      <td>159.100006</td>\n",
              "      <td>5598544</td>\n",
              "      <td>159.485001</td>\n",
              "      <td>159.100006</td>\n",
              "      <td>159.100006</td>\n",
              "      <td>0.0</td>\n",
              "    </tr>\n",
              "    <tr>\n",
              "      <th>2020-01-02 10:30:00-05:00</th>\n",
              "      <td>159.095001</td>\n",
              "      <td>159.630005</td>\n",
              "      <td>158.990005</td>\n",
              "      <td>159.485001</td>\n",
              "      <td>159.485001</td>\n",
              "      <td>2349407</td>\n",
              "      <td>159.529999</td>\n",
              "      <td>159.292503</td>\n",
              "      <td>159.138506</td>\n",
              "      <td>2349407.0</td>\n",
              "    </tr>\n",
              "    <tr>\n",
              "      <th>2020-01-02 11:30:00-05:00</th>\n",
              "      <td>159.479996</td>\n",
              "      <td>159.619995</td>\n",
              "      <td>159.110001</td>\n",
              "      <td>159.529999</td>\n",
              "      <td>159.529999</td>\n",
              "      <td>1784440</td>\n",
              "      <td>159.615005</td>\n",
              "      <td>159.371668</td>\n",
              "      <td>159.177655</td>\n",
              "      <td>4133847.0</td>\n",
              "    </tr>\n",
              "    <tr>\n",
              "      <th>2020-01-02 12:30:00-05:00</th>\n",
              "      <td>159.520004</td>\n",
              "      <td>159.800003</td>\n",
              "      <td>159.445007</td>\n",
              "      <td>159.615005</td>\n",
              "      <td>159.615005</td>\n",
              "      <td>1571495</td>\n",
              "      <td>159.934998</td>\n",
              "      <td>159.543335</td>\n",
              "      <td>159.221390</td>\n",
              "      <td>5705342.0</td>\n",
              "    </tr>\n",
              "    <tr>\n",
              "      <th>2020-01-02 13:30:00-05:00</th>\n",
              "      <td>159.615005</td>\n",
              "      <td>159.949997</td>\n",
              "      <td>159.529999</td>\n",
              "      <td>159.934998</td>\n",
              "      <td>159.934998</td>\n",
              "      <td>1508504</td>\n",
              "      <td>160.070007</td>\n",
              "      <td>159.693334</td>\n",
              "      <td>159.292751</td>\n",
              "      <td>7213846.0</td>\n",
              "    </tr>\n",
              "  </tbody>\n",
              "</table>\n",
              "</div>"
            ],
            "text/plain": [
              "                                 Open        High  ...         EMA        obv\n",
              "Datetime                                           ...                       \n",
              "2020-01-02 09:30:00-05:00  158.779999  159.554993  ...  159.100006        0.0\n",
              "2020-01-02 10:30:00-05:00  159.095001  159.630005  ...  159.138506  2349407.0\n",
              "2020-01-02 11:30:00-05:00  159.479996  159.619995  ...  159.177655  4133847.0\n",
              "2020-01-02 12:30:00-05:00  159.520004  159.800003  ...  159.221390  5705342.0\n",
              "2020-01-02 13:30:00-05:00  159.615005  159.949997  ...  159.292751  7213846.0\n",
              "\n",
              "[5 rows x 10 columns]"
            ]
          },
          "metadata": {
            "tags": []
          },
          "execution_count": 6
        }
      ]
    },
    {
      "cell_type": "code",
      "metadata": {
        "id": "Zl_dlyXZeujy",
        "colab": {
          "base_uri": "https://localhost:8080/",
          "height": 916
        },
        "outputId": "c60594b2-6000-49fe-ed9d-055361916231"
      },
      "source": [
        "df = df.reset_index()\n",
        "df['date'] = df['Datetime'].dt.date  # for daily sentiment\n",
        "df['datehour'] = df['Datetime'].dt.hour     #For hourly sentiment\n",
        "df['hour_id'] = df[df.columns[-2:]].apply(\n",
        "    lambda x: '.'.join(x.dropna().astype(str)),\n",
        "    axis=1\n",
        ")\n",
        "df"
      ],
      "execution_count": null,
      "outputs": [
        {
          "output_type": "execute_result",
          "data": {
            "text/html": [
              "<div>\n",
              "<style scoped>\n",
              "    .dataframe tbody tr th:only-of-type {\n",
              "        vertical-align: middle;\n",
              "    }\n",
              "\n",
              "    .dataframe tbody tr th {\n",
              "        vertical-align: top;\n",
              "    }\n",
              "\n",
              "    .dataframe thead th {\n",
              "        text-align: right;\n",
              "    }\n",
              "</style>\n",
              "<table border=\"1\" class=\"dataframe\">\n",
              "  <thead>\n",
              "    <tr style=\"text-align: right;\">\n",
              "      <th></th>\n",
              "      <th>Datetime</th>\n",
              "      <th>Open</th>\n",
              "      <th>High</th>\n",
              "      <th>Low</th>\n",
              "      <th>Close</th>\n",
              "      <th>Adj Close</th>\n",
              "      <th>Volume</th>\n",
              "      <th>Next_close</th>\n",
              "      <th>SMA</th>\n",
              "      <th>EMA</th>\n",
              "      <th>obv</th>\n",
              "      <th>date</th>\n",
              "      <th>datehour</th>\n",
              "      <th>hour_id</th>\n",
              "    </tr>\n",
              "  </thead>\n",
              "  <tbody>\n",
              "    <tr>\n",
              "      <th>0</th>\n",
              "      <td>2020-01-02 09:30:00-05:00</td>\n",
              "      <td>158.779999</td>\n",
              "      <td>159.554993</td>\n",
              "      <td>158.330002</td>\n",
              "      <td>159.100006</td>\n",
              "      <td>159.100006</td>\n",
              "      <td>5598544</td>\n",
              "      <td>159.485001</td>\n",
              "      <td>159.100006</td>\n",
              "      <td>159.100006</td>\n",
              "      <td>0.0</td>\n",
              "      <td>2020-01-02</td>\n",
              "      <td>9</td>\n",
              "      <td>2020-01-02.9</td>\n",
              "    </tr>\n",
              "    <tr>\n",
              "      <th>1</th>\n",
              "      <td>2020-01-02 10:30:00-05:00</td>\n",
              "      <td>159.095001</td>\n",
              "      <td>159.630005</td>\n",
              "      <td>158.990005</td>\n",
              "      <td>159.485001</td>\n",
              "      <td>159.485001</td>\n",
              "      <td>2349407</td>\n",
              "      <td>159.529999</td>\n",
              "      <td>159.292503</td>\n",
              "      <td>159.138506</td>\n",
              "      <td>2349407.0</td>\n",
              "      <td>2020-01-02</td>\n",
              "      <td>10</td>\n",
              "      <td>2020-01-02.10</td>\n",
              "    </tr>\n",
              "    <tr>\n",
              "      <th>2</th>\n",
              "      <td>2020-01-02 11:30:00-05:00</td>\n",
              "      <td>159.479996</td>\n",
              "      <td>159.619995</td>\n",
              "      <td>159.110001</td>\n",
              "      <td>159.529999</td>\n",
              "      <td>159.529999</td>\n",
              "      <td>1784440</td>\n",
              "      <td>159.615005</td>\n",
              "      <td>159.371668</td>\n",
              "      <td>159.177655</td>\n",
              "      <td>4133847.0</td>\n",
              "      <td>2020-01-02</td>\n",
              "      <td>11</td>\n",
              "      <td>2020-01-02.11</td>\n",
              "    </tr>\n",
              "    <tr>\n",
              "      <th>3</th>\n",
              "      <td>2020-01-02 12:30:00-05:00</td>\n",
              "      <td>159.520004</td>\n",
              "      <td>159.800003</td>\n",
              "      <td>159.445007</td>\n",
              "      <td>159.615005</td>\n",
              "      <td>159.615005</td>\n",
              "      <td>1571495</td>\n",
              "      <td>159.934998</td>\n",
              "      <td>159.543335</td>\n",
              "      <td>159.221390</td>\n",
              "      <td>5705342.0</td>\n",
              "      <td>2020-01-02</td>\n",
              "      <td>12</td>\n",
              "      <td>2020-01-02.12</td>\n",
              "    </tr>\n",
              "    <tr>\n",
              "      <th>4</th>\n",
              "      <td>2020-01-02 13:30:00-05:00</td>\n",
              "      <td>159.615005</td>\n",
              "      <td>159.949997</td>\n",
              "      <td>159.529999</td>\n",
              "      <td>159.934998</td>\n",
              "      <td>159.934998</td>\n",
              "      <td>1508504</td>\n",
              "      <td>160.070007</td>\n",
              "      <td>159.693334</td>\n",
              "      <td>159.292751</td>\n",
              "      <td>7213846.0</td>\n",
              "      <td>2020-01-02</td>\n",
              "      <td>13</td>\n",
              "      <td>2020-01-02.13</td>\n",
              "    </tr>\n",
              "    <tr>\n",
              "      <th>...</th>\n",
              "      <td>...</td>\n",
              "      <td>...</td>\n",
              "      <td>...</td>\n",
              "      <td>...</td>\n",
              "      <td>...</td>\n",
              "      <td>...</td>\n",
              "      <td>...</td>\n",
              "      <td>...</td>\n",
              "      <td>...</td>\n",
              "      <td>...</td>\n",
              "      <td>...</td>\n",
              "      <td>...</td>\n",
              "      <td>...</td>\n",
              "      <td>...</td>\n",
              "    </tr>\n",
              "    <tr>\n",
              "      <th>1759</th>\n",
              "      <td>2020-12-31 11:30:00-05:00</td>\n",
              "      <td>220.274994</td>\n",
              "      <td>220.460007</td>\n",
              "      <td>219.679993</td>\n",
              "      <td>219.910004</td>\n",
              "      <td>219.910004</td>\n",
              "      <td>2132707</td>\n",
              "      <td>220.285004</td>\n",
              "      <td>220.563334</td>\n",
              "      <td>222.495879</td>\n",
              "      <td>357081786.0</td>\n",
              "      <td>2020-12-31</td>\n",
              "      <td>11</td>\n",
              "      <td>2020-12-31.11</td>\n",
              "    </tr>\n",
              "    <tr>\n",
              "      <th>1760</th>\n",
              "      <td>2020-12-31 12:30:00-05:00</td>\n",
              "      <td>219.914993</td>\n",
              "      <td>220.406494</td>\n",
              "      <td>219.800003</td>\n",
              "      <td>220.285004</td>\n",
              "      <td>220.285004</td>\n",
              "      <td>1172462</td>\n",
              "      <td>220.559998</td>\n",
              "      <td>220.158335</td>\n",
              "      <td>222.274791</td>\n",
              "      <td>358254248.0</td>\n",
              "      <td>2020-12-31</td>\n",
              "      <td>12</td>\n",
              "      <td>2020-12-31.12</td>\n",
              "    </tr>\n",
              "    <tr>\n",
              "      <th>1761</th>\n",
              "      <td>2020-12-31 13:30:00-05:00</td>\n",
              "      <td>220.286896</td>\n",
              "      <td>220.600006</td>\n",
              "      <td>219.880005</td>\n",
              "      <td>220.559998</td>\n",
              "      <td>220.559998</td>\n",
              "      <td>1402907</td>\n",
              "      <td>221.369995</td>\n",
              "      <td>220.251668</td>\n",
              "      <td>222.103312</td>\n",
              "      <td>359657155.0</td>\n",
              "      <td>2020-12-31</td>\n",
              "      <td>13</td>\n",
              "      <td>2020-12-31.13</td>\n",
              "    </tr>\n",
              "    <tr>\n",
              "      <th>1762</th>\n",
              "      <td>2020-12-31 14:30:00-05:00</td>\n",
              "      <td>220.559998</td>\n",
              "      <td>221.630005</td>\n",
              "      <td>220.529999</td>\n",
              "      <td>221.369995</td>\n",
              "      <td>221.369995</td>\n",
              "      <td>1800116</td>\n",
              "      <td>222.449997</td>\n",
              "      <td>220.738332</td>\n",
              "      <td>222.029980</td>\n",
              "      <td>361457271.0</td>\n",
              "      <td>2020-12-31</td>\n",
              "      <td>14</td>\n",
              "      <td>2020-12-31.14</td>\n",
              "    </tr>\n",
              "    <tr>\n",
              "      <th>1763</th>\n",
              "      <td>2020-12-31 15:30:00-05:00</td>\n",
              "      <td>221.369995</td>\n",
              "      <td>223.000000</td>\n",
              "      <td>221.160095</td>\n",
              "      <td>222.449997</td>\n",
              "      <td>222.449997</td>\n",
              "      <td>3623446</td>\n",
              "      <td>NaN</td>\n",
              "      <td>221.459997</td>\n",
              "      <td>222.071982</td>\n",
              "      <td>365080717.0</td>\n",
              "      <td>2020-12-31</td>\n",
              "      <td>15</td>\n",
              "      <td>2020-12-31.15</td>\n",
              "    </tr>\n",
              "  </tbody>\n",
              "</table>\n",
              "<p>1764 rows × 14 columns</p>\n",
              "</div>"
            ],
            "text/plain": [
              "                      Datetime        Open  ...  datehour        hour_id\n",
              "0    2020-01-02 09:30:00-05:00  158.779999  ...         9   2020-01-02.9\n",
              "1    2020-01-02 10:30:00-05:00  159.095001  ...        10  2020-01-02.10\n",
              "2    2020-01-02 11:30:00-05:00  159.479996  ...        11  2020-01-02.11\n",
              "3    2020-01-02 12:30:00-05:00  159.520004  ...        12  2020-01-02.12\n",
              "4    2020-01-02 13:30:00-05:00  159.615005  ...        13  2020-01-02.13\n",
              "...                        ...         ...  ...       ...            ...\n",
              "1759 2020-12-31 11:30:00-05:00  220.274994  ...        11  2020-12-31.11\n",
              "1760 2020-12-31 12:30:00-05:00  219.914993  ...        12  2020-12-31.12\n",
              "1761 2020-12-31 13:30:00-05:00  220.286896  ...        13  2020-12-31.13\n",
              "1762 2020-12-31 14:30:00-05:00  220.559998  ...        14  2020-12-31.14\n",
              "1763 2020-12-31 15:30:00-05:00  221.369995  ...        15  2020-12-31.15\n",
              "\n",
              "[1764 rows x 14 columns]"
            ]
          },
          "metadata": {
            "tags": []
          },
          "execution_count": 7
        }
      ]
    },
    {
      "cell_type": "code",
      "metadata": {
        "id": "zKwSmno5eefB",
        "colab": {
          "base_uri": "https://localhost:8080/",
          "height": 408
        },
        "outputId": "2b5ce5fe-686d-483a-8992-390df29a1271"
      },
      "source": [
        "sent = pd.read_csv('MSFT_sentiment_hr.csv')\n",
        "sent"
      ],
      "execution_count": null,
      "outputs": [
        {
          "output_type": "execute_result",
          "data": {
            "text/html": [
              "<div>\n",
              "<style scoped>\n",
              "    .dataframe tbody tr th:only-of-type {\n",
              "        vertical-align: middle;\n",
              "    }\n",
              "\n",
              "    .dataframe tbody tr th {\n",
              "        vertical-align: top;\n",
              "    }\n",
              "\n",
              "    .dataframe thead th {\n",
              "        text-align: right;\n",
              "    }\n",
              "</style>\n",
              "<table border=\"1\" class=\"dataframe\">\n",
              "  <thead>\n",
              "    <tr style=\"text-align: right;\">\n",
              "      <th></th>\n",
              "      <th>Unnamed: 0</th>\n",
              "      <th>hour_id</th>\n",
              "      <th>compound</th>\n",
              "      <th>Count</th>\n",
              "      <th>average</th>\n",
              "    </tr>\n",
              "  </thead>\n",
              "  <tbody>\n",
              "    <tr>\n",
              "      <th>0</th>\n",
              "      <td>0</td>\n",
              "      <td>2019-12-31.23</td>\n",
              "      <td>-0.4019</td>\n",
              "      <td>2</td>\n",
              "      <td>-0.200950</td>\n",
              "    </tr>\n",
              "    <tr>\n",
              "      <th>1</th>\n",
              "      <td>1</td>\n",
              "      <td>2020-01-01.16</td>\n",
              "      <td>-0.1661</td>\n",
              "      <td>1</td>\n",
              "      <td>-0.166100</td>\n",
              "    </tr>\n",
              "    <tr>\n",
              "      <th>2</th>\n",
              "      <td>2</td>\n",
              "      <td>2020-01-01.21</td>\n",
              "      <td>-0.0697</td>\n",
              "      <td>2</td>\n",
              "      <td>-0.034850</td>\n",
              "    </tr>\n",
              "    <tr>\n",
              "      <th>3</th>\n",
              "      <td>3</td>\n",
              "      <td>2020-01-01.22</td>\n",
              "      <td>0.2586</td>\n",
              "      <td>1</td>\n",
              "      <td>0.258600</td>\n",
              "    </tr>\n",
              "    <tr>\n",
              "      <th>4</th>\n",
              "      <td>4</td>\n",
              "      <td>2020-01-01.23</td>\n",
              "      <td>0.3818</td>\n",
              "      <td>1</td>\n",
              "      <td>0.381800</td>\n",
              "    </tr>\n",
              "    <tr>\n",
              "      <th>...</th>\n",
              "      <td>...</td>\n",
              "      <td>...</td>\n",
              "      <td>...</td>\n",
              "      <td>...</td>\n",
              "      <td>...</td>\n",
              "    </tr>\n",
              "    <tr>\n",
              "      <th>7559</th>\n",
              "      <td>7559</td>\n",
              "      <td>2020-12-31.4</td>\n",
              "      <td>1.3475</td>\n",
              "      <td>3</td>\n",
              "      <td>0.449167</td>\n",
              "    </tr>\n",
              "    <tr>\n",
              "      <th>7560</th>\n",
              "      <td>7560</td>\n",
              "      <td>2020-12-31.5</td>\n",
              "      <td>0.8979</td>\n",
              "      <td>4</td>\n",
              "      <td>0.224475</td>\n",
              "    </tr>\n",
              "    <tr>\n",
              "      <th>7561</th>\n",
              "      <td>7561</td>\n",
              "      <td>2020-12-31.7</td>\n",
              "      <td>-0.2924</td>\n",
              "      <td>1</td>\n",
              "      <td>-0.292400</td>\n",
              "    </tr>\n",
              "    <tr>\n",
              "      <th>7562</th>\n",
              "      <td>7562</td>\n",
              "      <td>2020-12-31.8</td>\n",
              "      <td>0.0000</td>\n",
              "      <td>2</td>\n",
              "      <td>0.000000</td>\n",
              "    </tr>\n",
              "    <tr>\n",
              "      <th>7563</th>\n",
              "      <td>7563</td>\n",
              "      <td>2020-12-31.9</td>\n",
              "      <td>0.1794</td>\n",
              "      <td>2</td>\n",
              "      <td>0.089700</td>\n",
              "    </tr>\n",
              "  </tbody>\n",
              "</table>\n",
              "<p>7564 rows × 5 columns</p>\n",
              "</div>"
            ],
            "text/plain": [
              "      Unnamed: 0        hour_id  compound  Count   average\n",
              "0              0  2019-12-31.23   -0.4019      2 -0.200950\n",
              "1              1  2020-01-01.16   -0.1661      1 -0.166100\n",
              "2              2  2020-01-01.21   -0.0697      2 -0.034850\n",
              "3              3  2020-01-01.22    0.2586      1  0.258600\n",
              "4              4  2020-01-01.23    0.3818      1  0.381800\n",
              "...          ...            ...       ...    ...       ...\n",
              "7559        7559   2020-12-31.4    1.3475      3  0.449167\n",
              "7560        7560   2020-12-31.5    0.8979      4  0.224475\n",
              "7561        7561   2020-12-31.7   -0.2924      1 -0.292400\n",
              "7562        7562   2020-12-31.8    0.0000      2  0.000000\n",
              "7563        7563   2020-12-31.9    0.1794      2  0.089700\n",
              "\n",
              "[7564 rows x 5 columns]"
            ]
          },
          "metadata": {
            "tags": []
          },
          "execution_count": 8
        }
      ]
    },
    {
      "cell_type": "code",
      "metadata": {
        "id": "tG1ncl8eeIds",
        "colab": {
          "base_uri": "https://localhost:8080/",
          "height": 932
        },
        "outputId": "a278057c-1fe2-4946-d163-fd437b6d88c9"
      },
      "source": [
        "# Import sentiment data\n",
        "#df = df.reset_index()\n",
        "#df['Date'] = pd.to_datetime(df['Date'])\n",
        "#sent = pd.read_csv('MSFT_sentiment_hr.csv')\n",
        "#sent = sent.rename(columns={'date':'Date'})\n",
        "#sent['Date'] = pd.to_datetime(sent['Date'])\n",
        "\n",
        "df = pd.merge(df, sent, on = 'hour_id')\n",
        "df"
      ],
      "execution_count": null,
      "outputs": [
        {
          "output_type": "execute_result",
          "data": {
            "text/html": [
              "<div>\n",
              "<style scoped>\n",
              "    .dataframe tbody tr th:only-of-type {\n",
              "        vertical-align: middle;\n",
              "    }\n",
              "\n",
              "    .dataframe tbody tr th {\n",
              "        vertical-align: top;\n",
              "    }\n",
              "\n",
              "    .dataframe thead th {\n",
              "        text-align: right;\n",
              "    }\n",
              "</style>\n",
              "<table border=\"1\" class=\"dataframe\">\n",
              "  <thead>\n",
              "    <tr style=\"text-align: right;\">\n",
              "      <th></th>\n",
              "      <th>Datetime</th>\n",
              "      <th>Open</th>\n",
              "      <th>High</th>\n",
              "      <th>Low</th>\n",
              "      <th>Close</th>\n",
              "      <th>Adj Close</th>\n",
              "      <th>Volume</th>\n",
              "      <th>Next_close</th>\n",
              "      <th>SMA</th>\n",
              "      <th>EMA</th>\n",
              "      <th>obv</th>\n",
              "      <th>date</th>\n",
              "      <th>datehour</th>\n",
              "      <th>hour_id</th>\n",
              "      <th>Unnamed: 0</th>\n",
              "      <th>compound</th>\n",
              "      <th>Count</th>\n",
              "      <th>average</th>\n",
              "    </tr>\n",
              "  </thead>\n",
              "  <tbody>\n",
              "    <tr>\n",
              "      <th>0</th>\n",
              "      <td>2020-01-02 10:30:00-05:00</td>\n",
              "      <td>159.095001</td>\n",
              "      <td>159.630005</td>\n",
              "      <td>158.990005</td>\n",
              "      <td>159.485001</td>\n",
              "      <td>159.485001</td>\n",
              "      <td>2349407</td>\n",
              "      <td>159.529999</td>\n",
              "      <td>159.292503</td>\n",
              "      <td>159.138506</td>\n",
              "      <td>2349407.0</td>\n",
              "      <td>2020-01-02</td>\n",
              "      <td>10</td>\n",
              "      <td>2020-01-02.10</td>\n",
              "      <td>8</td>\n",
              "      <td>0.5106</td>\n",
              "      <td>2</td>\n",
              "      <td>0.255300</td>\n",
              "    </tr>\n",
              "    <tr>\n",
              "      <th>1</th>\n",
              "      <td>2020-01-02 11:30:00-05:00</td>\n",
              "      <td>159.479996</td>\n",
              "      <td>159.619995</td>\n",
              "      <td>159.110001</td>\n",
              "      <td>159.529999</td>\n",
              "      <td>159.529999</td>\n",
              "      <td>1784440</td>\n",
              "      <td>159.615005</td>\n",
              "      <td>159.371668</td>\n",
              "      <td>159.177655</td>\n",
              "      <td>4133847.0</td>\n",
              "      <td>2020-01-02</td>\n",
              "      <td>11</td>\n",
              "      <td>2020-01-02.11</td>\n",
              "      <td>9</td>\n",
              "      <td>0.0000</td>\n",
              "      <td>1</td>\n",
              "      <td>0.000000</td>\n",
              "    </tr>\n",
              "    <tr>\n",
              "      <th>2</th>\n",
              "      <td>2020-01-02 12:30:00-05:00</td>\n",
              "      <td>159.520004</td>\n",
              "      <td>159.800003</td>\n",
              "      <td>159.445007</td>\n",
              "      <td>159.615005</td>\n",
              "      <td>159.615005</td>\n",
              "      <td>1571495</td>\n",
              "      <td>159.934998</td>\n",
              "      <td>159.543335</td>\n",
              "      <td>159.221390</td>\n",
              "      <td>5705342.0</td>\n",
              "      <td>2020-01-02</td>\n",
              "      <td>12</td>\n",
              "      <td>2020-01-02.12</td>\n",
              "      <td>10</td>\n",
              "      <td>0.5267</td>\n",
              "      <td>1</td>\n",
              "      <td>0.526700</td>\n",
              "    </tr>\n",
              "    <tr>\n",
              "      <th>3</th>\n",
              "      <td>2020-01-02 13:30:00-05:00</td>\n",
              "      <td>159.615005</td>\n",
              "      <td>159.949997</td>\n",
              "      <td>159.529999</td>\n",
              "      <td>159.934998</td>\n",
              "      <td>159.934998</td>\n",
              "      <td>1508504</td>\n",
              "      <td>160.070007</td>\n",
              "      <td>159.693334</td>\n",
              "      <td>159.292751</td>\n",
              "      <td>7213846.0</td>\n",
              "      <td>2020-01-02</td>\n",
              "      <td>13</td>\n",
              "      <td>2020-01-02.13</td>\n",
              "      <td>11</td>\n",
              "      <td>1.6208</td>\n",
              "      <td>2</td>\n",
              "      <td>0.810400</td>\n",
              "    </tr>\n",
              "    <tr>\n",
              "      <th>4</th>\n",
              "      <td>2020-01-02 14:30:00-05:00</td>\n",
              "      <td>159.919998</td>\n",
              "      <td>160.100006</td>\n",
              "      <td>159.850006</td>\n",
              "      <td>160.070007</td>\n",
              "      <td>160.070007</td>\n",
              "      <td>2836577</td>\n",
              "      <td>160.729996</td>\n",
              "      <td>159.873337</td>\n",
              "      <td>159.370476</td>\n",
              "      <td>10050423.0</td>\n",
              "      <td>2020-01-02</td>\n",
              "      <td>14</td>\n",
              "      <td>2020-01-02.14</td>\n",
              "      <td>12</td>\n",
              "      <td>-0.0712</td>\n",
              "      <td>6</td>\n",
              "      <td>-0.011867</td>\n",
              "    </tr>\n",
              "    <tr>\n",
              "      <th>...</th>\n",
              "      <td>...</td>\n",
              "      <td>...</td>\n",
              "      <td>...</td>\n",
              "      <td>...</td>\n",
              "      <td>...</td>\n",
              "      <td>...</td>\n",
              "      <td>...</td>\n",
              "      <td>...</td>\n",
              "      <td>...</td>\n",
              "      <td>...</td>\n",
              "      <td>...</td>\n",
              "      <td>...</td>\n",
              "      <td>...</td>\n",
              "      <td>...</td>\n",
              "      <td>...</td>\n",
              "      <td>...</td>\n",
              "      <td>...</td>\n",
              "      <td>...</td>\n",
              "    </tr>\n",
              "    <tr>\n",
              "      <th>1544</th>\n",
              "      <td>2020-12-31 10:30:00-05:00</td>\n",
              "      <td>221.505005</td>\n",
              "      <td>221.615005</td>\n",
              "      <td>220.229996</td>\n",
              "      <td>220.279999</td>\n",
              "      <td>220.279999</td>\n",
              "      <td>1941240</td>\n",
              "      <td>219.910004</td>\n",
              "      <td>221.149999</td>\n",
              "      <td>222.783198</td>\n",
              "      <td>359214493.0</td>\n",
              "      <td>2020-12-31</td>\n",
              "      <td>10</td>\n",
              "      <td>2020-12-31.10</td>\n",
              "      <td>7545</td>\n",
              "      <td>0.6637</td>\n",
              "      <td>1</td>\n",
              "      <td>0.663700</td>\n",
              "    </tr>\n",
              "    <tr>\n",
              "      <th>1545</th>\n",
              "      <td>2020-12-31 11:30:00-05:00</td>\n",
              "      <td>220.274994</td>\n",
              "      <td>220.460007</td>\n",
              "      <td>219.679993</td>\n",
              "      <td>219.910004</td>\n",
              "      <td>219.910004</td>\n",
              "      <td>2132707</td>\n",
              "      <td>220.285004</td>\n",
              "      <td>220.563334</td>\n",
              "      <td>222.495879</td>\n",
              "      <td>357081786.0</td>\n",
              "      <td>2020-12-31</td>\n",
              "      <td>11</td>\n",
              "      <td>2020-12-31.11</td>\n",
              "      <td>7546</td>\n",
              "      <td>0.0000</td>\n",
              "      <td>1</td>\n",
              "      <td>0.000000</td>\n",
              "    </tr>\n",
              "    <tr>\n",
              "      <th>1546</th>\n",
              "      <td>2020-12-31 13:30:00-05:00</td>\n",
              "      <td>220.286896</td>\n",
              "      <td>220.600006</td>\n",
              "      <td>219.880005</td>\n",
              "      <td>220.559998</td>\n",
              "      <td>220.559998</td>\n",
              "      <td>1402907</td>\n",
              "      <td>221.369995</td>\n",
              "      <td>220.251668</td>\n",
              "      <td>222.103312</td>\n",
              "      <td>359657155.0</td>\n",
              "      <td>2020-12-31</td>\n",
              "      <td>13</td>\n",
              "      <td>2020-12-31.13</td>\n",
              "      <td>7547</td>\n",
              "      <td>0.7579</td>\n",
              "      <td>1</td>\n",
              "      <td>0.757900</td>\n",
              "    </tr>\n",
              "    <tr>\n",
              "      <th>1547</th>\n",
              "      <td>2020-12-31 14:30:00-05:00</td>\n",
              "      <td>220.559998</td>\n",
              "      <td>221.630005</td>\n",
              "      <td>220.529999</td>\n",
              "      <td>221.369995</td>\n",
              "      <td>221.369995</td>\n",
              "      <td>1800116</td>\n",
              "      <td>222.449997</td>\n",
              "      <td>220.738332</td>\n",
              "      <td>222.029980</td>\n",
              "      <td>361457271.0</td>\n",
              "      <td>2020-12-31</td>\n",
              "      <td>14</td>\n",
              "      <td>2020-12-31.14</td>\n",
              "      <td>7548</td>\n",
              "      <td>0.0000</td>\n",
              "      <td>2</td>\n",
              "      <td>0.000000</td>\n",
              "    </tr>\n",
              "    <tr>\n",
              "      <th>1548</th>\n",
              "      <td>2020-12-31 15:30:00-05:00</td>\n",
              "      <td>221.369995</td>\n",
              "      <td>223.000000</td>\n",
              "      <td>221.160095</td>\n",
              "      <td>222.449997</td>\n",
              "      <td>222.449997</td>\n",
              "      <td>3623446</td>\n",
              "      <td>NaN</td>\n",
              "      <td>221.459997</td>\n",
              "      <td>222.071982</td>\n",
              "      <td>365080717.0</td>\n",
              "      <td>2020-12-31</td>\n",
              "      <td>15</td>\n",
              "      <td>2020-12-31.15</td>\n",
              "      <td>7549</td>\n",
              "      <td>-0.7215</td>\n",
              "      <td>5</td>\n",
              "      <td>-0.144300</td>\n",
              "    </tr>\n",
              "  </tbody>\n",
              "</table>\n",
              "<p>1549 rows × 18 columns</p>\n",
              "</div>"
            ],
            "text/plain": [
              "                      Datetime        Open  ...  Count   average\n",
              "0    2020-01-02 10:30:00-05:00  159.095001  ...      2  0.255300\n",
              "1    2020-01-02 11:30:00-05:00  159.479996  ...      1  0.000000\n",
              "2    2020-01-02 12:30:00-05:00  159.520004  ...      1  0.526700\n",
              "3    2020-01-02 13:30:00-05:00  159.615005  ...      2  0.810400\n",
              "4    2020-01-02 14:30:00-05:00  159.919998  ...      6 -0.011867\n",
              "...                        ...         ...  ...    ...       ...\n",
              "1544 2020-12-31 10:30:00-05:00  221.505005  ...      1  0.663700\n",
              "1545 2020-12-31 11:30:00-05:00  220.274994  ...      1  0.000000\n",
              "1546 2020-12-31 13:30:00-05:00  220.286896  ...      1  0.757900\n",
              "1547 2020-12-31 14:30:00-05:00  220.559998  ...      2  0.000000\n",
              "1548 2020-12-31 15:30:00-05:00  221.369995  ...      5 -0.144300\n",
              "\n",
              "[1549 rows x 18 columns]"
            ]
          },
          "metadata": {
            "tags": []
          },
          "execution_count": 9
        }
      ]
    },
    {
      "cell_type": "code",
      "metadata": {
        "id": "Xz5N7GlLm8tD",
        "colab": {
          "base_uri": "https://localhost:8080/",
          "height": 310
        },
        "outputId": "44b3fdf5-e528-430d-ace3-3738cdf8991f"
      },
      "source": [
        "df.describe()"
      ],
      "execution_count": null,
      "outputs": [
        {
          "output_type": "execute_result",
          "data": {
            "text/html": [
              "<div>\n",
              "<style scoped>\n",
              "    .dataframe tbody tr th:only-of-type {\n",
              "        vertical-align: middle;\n",
              "    }\n",
              "\n",
              "    .dataframe tbody tr th {\n",
              "        vertical-align: top;\n",
              "    }\n",
              "\n",
              "    .dataframe thead th {\n",
              "        text-align: right;\n",
              "    }\n",
              "</style>\n",
              "<table border=\"1\" class=\"dataframe\">\n",
              "  <thead>\n",
              "    <tr style=\"text-align: right;\">\n",
              "      <th></th>\n",
              "      <th>Open</th>\n",
              "      <th>High</th>\n",
              "      <th>Low</th>\n",
              "      <th>Close</th>\n",
              "      <th>Adj Close</th>\n",
              "      <th>Volume</th>\n",
              "      <th>Next_close</th>\n",
              "      <th>SMA</th>\n",
              "      <th>EMA</th>\n",
              "      <th>obv</th>\n",
              "      <th>datehour</th>\n",
              "      <th>Unnamed: 0</th>\n",
              "      <th>compound</th>\n",
              "      <th>Count</th>\n",
              "      <th>average</th>\n",
              "    </tr>\n",
              "  </thead>\n",
              "  <tbody>\n",
              "    <tr>\n",
              "      <th>count</th>\n",
              "      <td>1549.000000</td>\n",
              "      <td>1549.000000</td>\n",
              "      <td>1549.000000</td>\n",
              "      <td>1549.000000</td>\n",
              "      <td>1549.000000</td>\n",
              "      <td>1.549000e+03</td>\n",
              "      <td>1548.000000</td>\n",
              "      <td>1549.000000</td>\n",
              "      <td>1549.000000</td>\n",
              "      <td>1.549000e+03</td>\n",
              "      <td>1549.000000</td>\n",
              "      <td>1549.000000</td>\n",
              "      <td>1549.000000</td>\n",
              "      <td>1549.000000</td>\n",
              "      <td>1549.000000</td>\n",
              "    </tr>\n",
              "    <tr>\n",
              "      <th>mean</th>\n",
              "      <td>192.529011</td>\n",
              "      <td>193.430876</td>\n",
              "      <td>191.587759</td>\n",
              "      <td>192.533375</td>\n",
              "      <td>192.533375</td>\n",
              "      <td>4.611804e+06</td>\n",
              "      <td>192.547270</td>\n",
              "      <td>192.522803</td>\n",
              "      <td>192.293548</td>\n",
              "      <td>2.304180e+08</td>\n",
              "      <td>12.198838</td>\n",
              "      <td>3787.248547</td>\n",
              "      <td>0.312523</td>\n",
              "      <td>15.728857</td>\n",
              "      <td>0.041792</td>\n",
              "    </tr>\n",
              "    <tr>\n",
              "      <th>std</th>\n",
              "      <td>22.859709</td>\n",
              "      <td>22.650990</td>\n",
              "      <td>23.017500</td>\n",
              "      <td>22.839250</td>\n",
              "      <td>22.839250</td>\n",
              "      <td>3.213947e+06</td>\n",
              "      <td>22.832893</td>\n",
              "      <td>22.791917</td>\n",
              "      <td>22.599242</td>\n",
              "      <td>1.344037e+08</td>\n",
              "      <td>1.970840</td>\n",
              "      <td>2172.138666</td>\n",
              "      <td>1.982829</td>\n",
              "      <td>29.219588</td>\n",
              "      <td>0.225441</td>\n",
              "    </tr>\n",
              "    <tr>\n",
              "      <th>min</th>\n",
              "      <td>134.160004</td>\n",
              "      <td>137.250000</td>\n",
              "      <td>132.520004</td>\n",
              "      <td>134.139999</td>\n",
              "      <td>134.139999</td>\n",
              "      <td>0.000000e+00</td>\n",
              "      <td>134.139999</td>\n",
              "      <td>135.313334</td>\n",
              "      <td>139.093149</td>\n",
              "      <td>-7.974553e+07</td>\n",
              "      <td>9.000000</td>\n",
              "      <td>8.000000</td>\n",
              "      <td>-17.594100</td>\n",
              "      <td>1.000000</td>\n",
              "      <td>-0.845500</td>\n",
              "    </tr>\n",
              "    <tr>\n",
              "      <th>25%</th>\n",
              "      <td>174.050003</td>\n",
              "      <td>174.639999</td>\n",
              "      <td>173.300003</td>\n",
              "      <td>174.009995</td>\n",
              "      <td>174.009995</td>\n",
              "      <td>2.592887e+06</td>\n",
              "      <td>174.024998</td>\n",
              "      <td>174.038335</td>\n",
              "      <td>173.391485</td>\n",
              "      <td>1.173628e+08</td>\n",
              "      <td>11.000000</td>\n",
              "      <td>1910.000000</td>\n",
              "      <td>-0.460600</td>\n",
              "      <td>3.000000</td>\n",
              "      <td>-0.055300</td>\n",
              "    </tr>\n",
              "    <tr>\n",
              "      <th>50%</th>\n",
              "      <td>199.039993</td>\n",
              "      <td>200.000000</td>\n",
              "      <td>197.809998</td>\n",
              "      <td>199.190002</td>\n",
              "      <td>199.190002</td>\n",
              "      <td>3.558186e+06</td>\n",
              "      <td>199.501701</td>\n",
              "      <td>199.059998</td>\n",
              "      <td>199.037288</td>\n",
              "      <td>2.773586e+08</td>\n",
              "      <td>12.000000</td>\n",
              "      <td>3773.000000</td>\n",
              "      <td>0.212600</td>\n",
              "      <td>7.000000</td>\n",
              "      <td>0.023575</td>\n",
              "    </tr>\n",
              "    <tr>\n",
              "      <th>75%</th>\n",
              "      <td>211.990005</td>\n",
              "      <td>212.860001</td>\n",
              "      <td>211.214005</td>\n",
              "      <td>212.042496</td>\n",
              "      <td>212.042496</td>\n",
              "      <td>5.542564e+06</td>\n",
              "      <td>212.027195</td>\n",
              "      <td>211.936330</td>\n",
              "      <td>211.749000</td>\n",
              "      <td>3.429836e+08</td>\n",
              "      <td>14.000000</td>\n",
              "      <td>5671.000000</td>\n",
              "      <td>0.952700</td>\n",
              "      <td>15.000000</td>\n",
              "      <td>0.140094</td>\n",
              "    </tr>\n",
              "    <tr>\n",
              "      <th>max</th>\n",
              "      <td>232.354996</td>\n",
              "      <td>232.860001</td>\n",
              "      <td>231.350006</td>\n",
              "      <td>232.350006</td>\n",
              "      <td>232.350006</td>\n",
              "      <td>2.795370e+07</td>\n",
              "      <td>232.350006</td>\n",
              "      <td>232.180003</td>\n",
              "      <td>228.858003</td>\n",
              "      <td>4.074811e+08</td>\n",
              "      <td>15.000000</td>\n",
              "      <td>7563.000000</td>\n",
              "      <td>22.077400</td>\n",
              "      <td>337.000000</td>\n",
              "      <td>0.955900</td>\n",
              "    </tr>\n",
              "  </tbody>\n",
              "</table>\n",
              "</div>"
            ],
            "text/plain": [
              "              Open         High  ...        Count      average\n",
              "count  1549.000000  1549.000000  ...  1549.000000  1549.000000\n",
              "mean    192.529011   193.430876  ...    15.728857     0.041792\n",
              "std      22.859709    22.650990  ...    29.219588     0.225441\n",
              "min     134.160004   137.250000  ...     1.000000    -0.845500\n",
              "25%     174.050003   174.639999  ...     3.000000    -0.055300\n",
              "50%     199.039993   200.000000  ...     7.000000     0.023575\n",
              "75%     211.990005   212.860001  ...    15.000000     0.140094\n",
              "max     232.354996   232.860001  ...   337.000000     0.955900\n",
              "\n",
              "[8 rows x 15 columns]"
            ]
          },
          "metadata": {
            "tags": []
          },
          "execution_count": 10
        }
      ]
    },
    {
      "cell_type": "code",
      "metadata": {
        "id": "e1Iw5CoG35IS",
        "colab": {
          "base_uri": "https://localhost:8080/"
        },
        "outputId": "47865a1b-edd8-4898-9c9a-43c3500f1473"
      },
      "source": [
        "df.skew()"
      ],
      "execution_count": null,
      "outputs": [
        {
          "output_type": "execute_result",
          "data": {
            "text/plain": [
              "Open         -0.478175\n",
              "High         -0.444976\n",
              "Low          -0.505537\n",
              "Close        -0.479158\n",
              "Adj Close    -0.479158\n",
              "Volume        2.402115\n",
              "Next_close   -0.481485\n",
              "SMA          -0.473824\n",
              "EMA          -0.459114\n",
              "obv          -0.653970\n",
              "datehour     -0.131549\n",
              "Unnamed: 0   -0.014250\n",
              "compound      1.153868\n",
              "Count         5.610992\n",
              "average       0.286361\n",
              "dtype: float64"
            ]
          },
          "metadata": {
            "tags": []
          },
          "execution_count": 11
        }
      ]
    },
    {
      "cell_type": "code",
      "metadata": {
        "id": "3oQbDPVjUrJr",
        "colab": {
          "base_uri": "https://localhost:8080/",
          "height": 575
        },
        "outputId": "22aec0d2-ac59-4843-944f-78c741640fb1"
      },
      "source": [
        "#Using Pearson Correlation\n",
        "plt.figure(figsize=(12,10))\n",
        "cor = df.corr()\n",
        "sns.heatmap(cor, annot=True, cmap=plt.cm.Reds)\n",
        "plt.show()"
      ],
      "execution_count": null,
      "outputs": [
        {
          "output_type": "display_data",
          "data": {
            "image/png": "[encoded data removed]",
            "text/plain": [
              "<Figure size 864x720 with 2 Axes>"
            ]
          },
          "metadata": {
            "tags": [],
            "needs_background": "light"
          }
        }
      ]
    },
    {
      "cell_type": "code",
      "metadata": {
        "id": "8t9qAQ1GUyxb",
        "colab": {
          "base_uri": "https://localhost:8080/"
        },
        "outputId": "c43290ec-d262-40ac-b6c5-61f4454cf4b0"
      },
      "source": [
        "#Correlation with output variable\n",
        "cor_target = abs(cor[\"Next_close\"])\n",
        "#Selecting highly correlated features\n",
        "relevant_features = cor_target[cor_target>0.5]\n",
        "relevant_features"
      ],
      "execution_count": null,
      "outputs": [
        {
          "output_type": "execute_result",
          "data": {
            "text/plain": [
              "Open          0.996011\n",
              "High          0.996448\n",
              "Low           0.996731\n",
              "Close         0.997246\n",
              "Adj Close     0.997246\n",
              "Next_close    1.000000\n",
              "SMA           0.996337\n",
              "EMA           0.989088\n",
              "obv           0.953303\n",
              "Unnamed: 0    0.863408\n",
              "Name: Next_close, dtype: float64"
            ]
          },
          "metadata": {
            "tags": []
          },
          "execution_count": 13
        }
      ]
    },
    {
      "cell_type": "code",
      "metadata": {
        "id": "hGogKpI8nV8-",
        "colab": {
          "base_uri": "https://localhost:8080/",
          "height": 535
        },
        "outputId": "9fce807b-cb2c-4319-9d3a-2b47c1371043"
      },
      "source": [
        "df.plot(subplots=True)\n"
      ],
      "execution_count": null,
      "outputs": [
        {
          "output_type": "execute_result",
          "data": {
            "text/plain": [
              "array([<matplotlib.axes._subplots.AxesSubplot object at 0x7f7250b15d10>,\n",
              "       <matplotlib.axes._subplots.AxesSubplot object at 0x7f7250a980d0>,\n",
              "       <matplotlib.axes._subplots.AxesSubplot object at 0x7f7250a58490>,\n",
              "       <matplotlib.axes._subplots.AxesSubplot object at 0x7f7250a8f850>,\n",
              "       <matplotlib.axes._subplots.AxesSubplot object at 0x7f7250a46c10>,\n",
              "       <matplotlib.axes._subplots.AxesSubplot object at 0x7f72aa3c7cd0>,\n",
              "       <matplotlib.axes._subplots.AxesSubplot object at 0x7f7250af08d0>,\n",
              "       <matplotlib.axes._subplots.AxesSubplot object at 0x7f7250b7e1d0>,\n",
              "       <matplotlib.axes._subplots.AxesSubplot object at 0x7f7250b7e350>,\n",
              "       <matplotlib.axes._subplots.AxesSubplot object at 0x7f72595310d0>,\n",
              "       <matplotlib.axes._subplots.AxesSubplot object at 0x7f72595b47d0>,\n",
              "       <matplotlib.axes._subplots.AxesSubplot object at 0x7f7259577d10>,\n",
              "       <matplotlib.axes._subplots.AxesSubplot object at 0x7f7250b69150>,\n",
              "       <matplotlib.axes._subplots.AxesSubplot object at 0x7f7250bc3510>,\n",
              "       <matplotlib.axes._subplots.AxesSubplot object at 0x7f7250cc58d0>,\n",
              "       <matplotlib.axes._subplots.AxesSubplot object at 0x7f7250c6fc90>],\n",
              "      dtype=object)"
            ]
          },
          "metadata": {
            "tags": []
          },
          "execution_count": 14
        },
        {
          "output_type": "display_data",
          "data": {
            "image/png": "[encoded data removed]",
            "text/plain": [
              "<Figure size 432x288 with 16 Axes>"
            ]
          },
          "metadata": {
            "tags": [],
            "needs_background": "light"
          }
        }
      ]
    },
    {
      "cell_type": "code",
      "metadata": {
        "id": "OLlYLvIBX-Kk",
        "colab": {
          "base_uri": "https://localhost:8080/",
          "height": 265
        },
        "outputId": "333ea724-e479-48ab-c066-7e9a8a67d45a"
      },
      "source": [
        "# Boxplot of month-wise distribution\n",
        "df.reset_index(inplace=True)\n",
        "# Prepare data\n",
        "df['month'] = [d.strftime('%b') for d in df.Datetime]\n",
        "# Draw Plot\n",
        "fig, axes = plt.subplots(1, 1, figsize=(20,7), dpi= 80)\n",
        "sns.boxplot(x='month', y='Close', data=df)\n",
        "# Set Title\n",
        "axes.set_title('Month-wise Box Plot\\n', fontsize=18)\n",
        "plt.show()\n",
        "\n",
        "# This boxplot shows a clear difference between prices at the start of the year and the end. The distribution is high in August, Sept, Nov and Dec. "
      ],
      "execution_count": null,
      "outputs": [
        {
          "output_type": "display_data",
          "data": {
            "image/png": "[encoded data removed]",
            "text/plain": [
              "<Figure size 1600x560 with 1 Axes>"
            ]
          },
          "metadata": {
            "tags": [],
            "needs_background": "light"
          }
        }
      ]
    },
    {
      "cell_type": "code",
      "metadata": {
        "id": "KGZp_WSmquTx"
      },
      "source": [
        "df = df[['Next_close', 'Close','Volume','Open','High','Low', \"SMA\", 'EMA', 'obv', 'average']]"
      ],
      "execution_count": null,
      "outputs": []
    },
    {
      "cell_type": "code",
      "metadata": {
        "id": "r7FYcbAPdye0",
        "colab": {
          "base_uri": "https://localhost:8080/"
        },
        "outputId": "1143dae5-76dc-4f66-a922-0052a0a9350f"
      },
      "source": [
        "# Scale data with MinMaxScaler\n",
        "# define min max scaler\n",
        "scaler = MinMaxScaler()\n",
        "\n",
        "# Data Loader Parameters\n",
        "BATCH_SIZE = 17       # Factors of 1411 (train size):  1, 17, 83, 1411\n",
        "BUFFER_SIZE = 100\n",
        "TRAIN_SPLIT = round(len(df)*0.8)  # 80-20 train-test split \n",
        "print(TRAIN_SPLIT) # Batches should be factor of train size\n",
        "\n",
        "# LSTM Parameters\n",
        "EVALUATION_INTERVAL = 20   \n",
        "EPOCHS = 500 # Early stopping implemented, so this can be artbitrarily high and still work\n",
        "PATIENCE = 10  # number of epochs to wait before early stop if no progress on the validation set. # Tested this out with other values 3 and 5"
      ],
      "execution_count": null,
      "outputs": [
        {
          "output_type": "stream",
          "text": [
            "1239\n"
          ],
          "name": "stdout"
        }
      ]
    },
    {
      "cell_type": "markdown",
      "metadata": {
        "id": "YRm0VWX-_ryu"
      },
      "source": [
        "**Scaling the Data**\n",
        "\n",
        "The values in our datset are of different scales which can increase the difficulty of the problem being modeled. The volume of traders per day is much higher than the value for the previous day's high, open, etc. This high value mayresult in a model that learns large weight values. A model with large weight values is often unstable, meaning that it may suffer from poor performance during learning and sensitivity to input values resulting in higher generalization error. For this reason we scale our data before proceeding\n",
        "\n",
        "MinMaxScaler() subtracts the minimum value in the feature and then divides by the range. The range is the difference between the original maximum and original minimum. This scaling method preserves the shape of the original distribution. It doesn't meaningfully change the information embedded in the original data. Note that MinMaxScaler doesn't reduce the importance of outliers. The default range for the feature returned by MinMaxScaler is 0 to 1\n",
        "\n",
        "Note on activation function:\n",
        "Ensure that the scale of your output variable matches the scale of the activation function (transfer function) on the output layer of your network.\n",
        "If your output activation function has a range of [0,1], then you must ensure that the target values lie within that range. But it is generally better to choose an output activation function suited to the distribution of the targets than to force your data to conform to the output activation function.\n"
      ]
    },
    {
      "cell_type": "code",
      "metadata": {
        "id": "SPSMXoLPt4E0"
      },
      "source": [
        "# Scaled data with MinMaxScaler\n",
        "data = df.values\n",
        "# define min max scaler\n",
        "scaler = MinMaxScaler()\n",
        "# transform data\n",
        "dataset = scaler.fit_transform(data)\n"
      ],
      "execution_count": null,
      "outputs": []
    },
    {
      "cell_type": "markdown",
      "metadata": {
        "id": "D5EEPLDTZ1AS"
      },
      "source": [
        "**Linear Regression**\n",
        "\n",
        "In order to get a measure for which to compare the LSTM model, I will create a control value for MSE using local linear regression. Note that this is a naive regression which is biased. \n",
        "\n"
      ]
    },
    {
      "cell_type": "code",
      "metadata": {
        "id": "TtlwejhtE5f-",
        "colab": {
          "base_uri": "https://localhost:8080/"
        },
        "outputId": "fce9e5cc-0807-41c7-b9a7-6d6827960887"
      },
      "source": [
        "pip install statsmodels"
      ],
      "execution_count": null,
      "outputs": [
        {
          "output_type": "stream",
          "text": [
            "Requirement already satisfied: statsmodels in /usr/local/lib/python3.7/dist-packages (0.10.2)\n",
            "Requirement already satisfied: pandas>=0.19 in /usr/local/lib/python3.7/dist-packages (from statsmodels) (1.1.5)\n",
            "Requirement already satisfied: patsy>=0.4.0 in /usr/local/lib/python3.7/dist-packages (from statsmodels) (0.5.1)\n",
            "Requirement already satisfied: scipy>=0.18 in /usr/local/lib/python3.7/dist-packages (from statsmodels) (1.4.1)\n",
            "Requirement already satisfied: numpy>=1.11 in /usr/local/lib/python3.7/dist-packages (from statsmodels) (1.19.5)\n",
            "Requirement already satisfied: python-dateutil>=2.7.3 in /usr/local/lib/python3.7/dist-packages (from pandas>=0.19->statsmodels) (2.8.1)\n",
            "Requirement already satisfied: pytz>=2017.2 in /usr/local/lib/python3.7/dist-packages (from pandas>=0.19->statsmodels) (2018.9)\n",
            "Requirement already satisfied: six in /usr/local/lib/python3.7/dist-packages (from patsy>=0.4.0->statsmodels) (1.15.0)\n"
          ],
          "name": "stdout"
        }
      ]
    },
    {
      "cell_type": "code",
      "metadata": {
        "id": "Ou8nE5_IJuoR"
      },
      "source": [
        "import numpy as np\n",
        "def mean_absolute_percentage_error(y_test, y_pred): \n",
        "    y_test, y_pred = np.array(y_test), np.array(y_pred)\n",
        "    return np.mean(np.abs((y_test - y_pred) / y_test)) * 100"
      ],
      "execution_count": null,
      "outputs": []
    },
    {
      "cell_type": "code",
      "metadata": {
        "id": "BNiNjLJshQuC",
        "colab": {
          "base_uri": "https://localhost:8080/",
          "height": 542
        },
        "outputId": "9a72d5ed-9a67-4362-9eea-f0b508ea2a6e"
      },
      "source": [
        "# Split data\n",
        "from sklearn.model_selection import train_test_split \n",
        "from sklearn.linear_model import LinearRegression\n",
        "from sklearn import metrics\n",
        "\n",
        "X = dataset[:-1,1:]\n",
        "y = dataset[:-1, 0]\n",
        "\n",
        "X_train, X_test, y_train, y_test = train_test_split(X, y, test_size=0.2, random_state=0)\n",
        "\n",
        "#Train algorithm\n",
        "regressor = LinearRegression()  \n",
        "regressor = regressor.fit(X_train, y_train) \n",
        "\n",
        "#To retrieve the intercept:\n",
        "print('Intercept:', regressor.intercept_)\n",
        "#For retrieving the slope:\n",
        "print('Coefficients:', regressor.coef_)\n",
        "\n",
        "# Predicted value\n",
        "y_pred = regressor.predict(X_test)\n",
        "\n",
        "df_lin = pd.DataFrame({'Actual': y_test, 'Predicted': y_pred})\n",
        "\n",
        "print('Mean Absolute Error:', metrics.mean_absolute_error(y_test, y_pred))  \n",
        "print('Mean Absolute Percentage Error:', mean_absolute_percentage_error(y_test, y_pred))  \n",
        "print('Mean Squared Error:', metrics.mean_squared_error(y_test, y_pred))  \n",
        "print('Root Mean Squared Error:', np.sqrt(metrics.mean_squared_error(y_test, y_pred)))\n",
        "df_lin"
      ],
      "execution_count": null,
      "outputs": [
        {
          "output_type": "stream",
          "text": [
            "Intercept: -0.0028070694104127547\n",
            "Coefficients: [ 0.6717795   0.01029128 -0.0170859   0.00716106  0.33352247 -0.02873204\n",
            "  0.0202962   0.01062816  0.00333647]\n",
            "Mean Absolute Error: 0.01182495532981691\n",
            "Mean Absolute Percentage Error: 5.26889706310436\n",
            "Mean Squared Error: 0.00038608918852095974\n",
            "Root Mean Squared Error: 0.019649152361385966\n"
          ],
          "name": "stdout"
        },
        {
          "output_type": "execute_result",
          "data": {
            "text/html": [
              "<div>\n",
              "<style scoped>\n",
              "    .dataframe tbody tr th:only-of-type {\n",
              "        vertical-align: middle;\n",
              "    }\n",
              "\n",
              "    .dataframe tbody tr th {\n",
              "        vertical-align: top;\n",
              "    }\n",
              "\n",
              "    .dataframe thead th {\n",
              "        text-align: right;\n",
              "    }\n",
              "</style>\n",
              "<table border=\"1\" class=\"dataframe\">\n",
              "  <thead>\n",
              "    <tr style=\"text-align: right;\">\n",
              "      <th></th>\n",
              "      <th>Actual</th>\n",
              "      <th>Predicted</th>\n",
              "    </tr>\n",
              "  </thead>\n",
              "  <tbody>\n",
              "    <tr>\n",
              "      <th>0</th>\n",
              "      <td>0.329244</td>\n",
              "      <td>0.329044</td>\n",
              "    </tr>\n",
              "    <tr>\n",
              "      <th>1</th>\n",
              "      <td>0.665818</td>\n",
              "      <td>0.672522</td>\n",
              "    </tr>\n",
              "    <tr>\n",
              "      <th>2</th>\n",
              "      <td>0.812646</td>\n",
              "      <td>0.834272</td>\n",
              "    </tr>\n",
              "    <tr>\n",
              "      <th>3</th>\n",
              "      <td>0.321963</td>\n",
              "      <td>0.329586</td>\n",
              "    </tr>\n",
              "    <tr>\n",
              "      <th>4</th>\n",
              "      <td>0.541085</td>\n",
              "      <td>0.543482</td>\n",
              "    </tr>\n",
              "    <tr>\n",
              "      <th>...</th>\n",
              "      <td>...</td>\n",
              "      <td>...</td>\n",
              "    </tr>\n",
              "    <tr>\n",
              "      <th>305</th>\n",
              "      <td>0.770492</td>\n",
              "      <td>0.768942</td>\n",
              "    </tr>\n",
              "    <tr>\n",
              "      <th>306</th>\n",
              "      <td>0.768964</td>\n",
              "      <td>0.768118</td>\n",
              "    </tr>\n",
              "    <tr>\n",
              "      <th>307</th>\n",
              "      <td>0.782303</td>\n",
              "      <td>0.803602</td>\n",
              "    </tr>\n",
              "    <tr>\n",
              "      <th>308</th>\n",
              "      <td>0.701354</td>\n",
              "      <td>0.697737</td>\n",
              "    </tr>\n",
              "    <tr>\n",
              "      <th>309</th>\n",
              "      <td>0.779656</td>\n",
              "      <td>0.774304</td>\n",
              "    </tr>\n",
              "  </tbody>\n",
              "</table>\n",
              "<p>310 rows × 2 columns</p>\n",
              "</div>"
            ],
            "text/plain": [
              "       Actual  Predicted\n",
              "0    0.329244   0.329044\n",
              "1    0.665818   0.672522\n",
              "2    0.812646   0.834272\n",
              "3    0.321963   0.329586\n",
              "4    0.541085   0.543482\n",
              "..        ...        ...\n",
              "305  0.770492   0.768942\n",
              "306  0.768964   0.768118\n",
              "307  0.782303   0.803602\n",
              "308  0.701354   0.697737\n",
              "309  0.779656   0.774304\n",
              "\n",
              "[310 rows x 2 columns]"
            ]
          },
          "metadata": {
            "tags": []
          },
          "execution_count": 21
        }
      ]
    },
    {
      "cell_type": "code",
      "metadata": {
        "id": "K9f_3q-_rARe",
        "colab": {
          "base_uri": "https://localhost:8080/",
          "height": 220
        },
        "outputId": "fd165ab7-c335-44ca-cc0c-6022dd57ecb9"
      },
      "source": [
        "display(pd.DataFrame(dataset, columns = df.columns, index= df.index).tail())"
      ],
      "execution_count": null,
      "outputs": [
        {
          "output_type": "display_data",
          "data": {
            "text/html": [
              "<div>\n",
              "<style scoped>\n",
              "    .dataframe tbody tr th:only-of-type {\n",
              "        vertical-align: middle;\n",
              "    }\n",
              "\n",
              "    .dataframe tbody tr th {\n",
              "        vertical-align: top;\n",
              "    }\n",
              "\n",
              "    .dataframe thead th {\n",
              "        text-align: right;\n",
              "    }\n",
              "</style>\n",
              "<table border=\"1\" class=\"dataframe\">\n",
              "  <thead>\n",
              "    <tr style=\"text-align: right;\">\n",
              "      <th></th>\n",
              "      <th>Next_close</th>\n",
              "      <th>Close</th>\n",
              "      <th>Volume</th>\n",
              "      <th>Open</th>\n",
              "      <th>High</th>\n",
              "      <th>Low</th>\n",
              "      <th>SMA</th>\n",
              "      <th>EMA</th>\n",
              "      <th>obv</th>\n",
              "      <th>average</th>\n",
              "    </tr>\n",
              "  </thead>\n",
              "  <tbody>\n",
              "    <tr>\n",
              "      <th>1544</th>\n",
              "      <td>0.873333</td>\n",
              "      <td>0.877100</td>\n",
              "      <td>0.069445</td>\n",
              "      <td>0.889506</td>\n",
              "      <td>0.882387</td>\n",
              "      <td>0.887483</td>\n",
              "      <td>0.886132</td>\n",
              "      <td>0.932325</td>\n",
              "      <td>0.900936</td>\n",
              "      <td>0.837793</td>\n",
              "    </tr>\n",
              "    <tr>\n",
              "      <th>1545</th>\n",
              "      <td>0.877151</td>\n",
              "      <td>0.873333</td>\n",
              "      <td>0.076294</td>\n",
              "      <td>0.876979</td>\n",
              "      <td>0.870307</td>\n",
              "      <td>0.881918</td>\n",
              "      <td>0.880076</td>\n",
              "      <td>0.929125</td>\n",
              "      <td>0.896559</td>\n",
              "      <td>0.469357</td>\n",
              "    </tr>\n",
              "    <tr>\n",
              "      <th>1546</th>\n",
              "      <td>0.888199</td>\n",
              "      <td>0.879951</td>\n",
              "      <td>0.050187</td>\n",
              "      <td>0.877101</td>\n",
              "      <td>0.871771</td>\n",
              "      <td>0.883942</td>\n",
              "      <td>0.876858</td>\n",
              "      <td>0.924751</td>\n",
              "      <td>0.901844</td>\n",
              "      <td>0.890085</td>\n",
              "    </tr>\n",
              "    <tr>\n",
              "      <th>1547</th>\n",
              "      <td>0.899196</td>\n",
              "      <td>0.888199</td>\n",
              "      <td>0.064396</td>\n",
              "      <td>0.879882</td>\n",
              "      <td>0.882544</td>\n",
              "      <td>0.890519</td>\n",
              "      <td>0.881882</td>\n",
              "      <td>0.923934</td>\n",
              "      <td>0.905539</td>\n",
              "      <td>0.469357</td>\n",
              "    </tr>\n",
              "    <tr>\n",
              "      <th>1548</th>\n",
              "      <td>NaN</td>\n",
              "      <td>0.899196</td>\n",
              "      <td>0.129623</td>\n",
              "      <td>0.888131</td>\n",
              "      <td>0.896873</td>\n",
              "      <td>0.896895</td>\n",
              "      <td>0.889332</td>\n",
              "      <td>0.924402</td>\n",
              "      <td>0.912976</td>\n",
              "      <td>0.389253</td>\n",
              "    </tr>\n",
              "  </tbody>\n",
              "</table>\n",
              "</div>"
            ],
            "text/plain": [
              "      Next_close     Close    Volume  ...       EMA       obv   average\n",
              "1544    0.873333  0.877100  0.069445  ...  0.932325  0.900936  0.837793\n",
              "1545    0.877151  0.873333  0.076294  ...  0.929125  0.896559  0.469357\n",
              "1546    0.888199  0.879951  0.050187  ...  0.924751  0.901844  0.890085\n",
              "1547    0.899196  0.888199  0.064396  ...  0.923934  0.905539  0.469357\n",
              "1548         NaN  0.899196  0.129623  ...  0.924402  0.912976  0.389253\n",
              "\n",
              "[5 rows x 10 columns]"
            ]
          },
          "metadata": {
            "tags": []
          }
        }
      ]
    },
    {
      "cell_type": "code",
      "metadata": {
        "id": "Amw1KZBDrAVT"
      },
      "source": [
        "def multivariate_data(dataset, target, start_index, end_index, history_size,\n",
        "                      target_size, step, single_step=False):\n",
        "    data = []\n",
        "    labels = []\n",
        "\n",
        "    start_index = start_index + history_size\n",
        "    if end_index is None:\n",
        "        end_index = len(dataset) - target_size\n",
        "\n",
        "    for i in range(start_index, end_index):\n",
        "        indices = range(i-history_size, i, step)\n",
        "        data.append(dataset[indices])\n",
        "\n",
        "        if single_step:\n",
        "            labels.append(target[i+target_size])\n",
        "        else:\n",
        "            labels.append(target[i:i+target_size])\n",
        "\n",
        "    return np.array(data), np.array(labels)"
      ],
      "execution_count": null,
      "outputs": []
    },
    {
      "cell_type": "markdown",
      "metadata": {
        "id": "0tvPd-J-Taa6"
      },
      "source": [
        "Training Dataset: The sample of data used to fit the model.\n",
        "\n",
        "Validation Dataset: The sample of data used to provide an unbiased evaluation of a model fit on the training dataset while tuning model hyperparameters. The evaluation becomes more biased as skill on the validation dataset is incorporated into the model configuration.\n",
        "\n",
        "Test Dataset: The sample of data used to provide an unbiased evaluation of a final model fit on the training dataset."
      ]
    },
    {
      "cell_type": "code",
      "metadata": {
        "id": "tik9qZyDrAYN"
      },
      "source": [
        "past_history = 320    # Decide on a past_history and give reasoning\n",
        "future_target = 1\n",
        "STEP = 1    \n",
        "\n",
        "x_train_single, y_train_single = multivariate_data(dataset[:,1:], dataset[:, 0], 0,\n",
        "                                                   TRAIN_SPLIT, past_history,\n",
        "                                                   future_target, STEP,\n",
        "                                                   single_step=True)\n",
        "\n",
        "x_val_single, y_val_single = multivariate_data(dataset[:,1:], dataset[:, 0], 0,\n",
        "                                                   TRAIN_SPLIT, past_history,\n",
        "                                                   future_target, STEP,\n",
        "                                                   single_step=True)\n"
      ],
      "execution_count": null,
      "outputs": []
    },
    {
      "cell_type": "code",
      "metadata": {
        "id": "zSLSBWrarAaT",
        "colab": {
          "base_uri": "https://localhost:8080/"
        },
        "outputId": "02550d92-59f1-41a7-9692-ca1a09d10ee6"
      },
      "source": [
        "print(x_train_single.shape)\n",
        "print ('Single window of past history : {}'.format(x_train_single[0].shape))\n",
        "print(x_train_single.shape[-2:])"
      ],
      "execution_count": null,
      "outputs": [
        {
          "output_type": "stream",
          "text": [
            "(919, 320, 9)\n",
            "Single window of past history : (320, 9)\n",
            "(320, 9)\n"
          ],
          "name": "stdout"
        }
      ]
    },
    {
      "cell_type": "code",
      "metadata": {
        "id": "r5TRl-6TrAgm"
      },
      "source": [
        "train_data_single = tf.data.Dataset.from_tensor_slices((x_train_single, y_train_single))\n",
        "train_data_single = train_data_single.cache().shuffle(BUFFER_SIZE).batch(BATCH_SIZE).repeat() # Should this shuffle? Timeseries? Or with a sufficient buffer is it advised?\n",
        "#train_data_single = train_data_single.cache().batch(BATCH_SIZE).repeat()\n",
        "\n",
        "val_data_single = tf.data.Dataset.from_tensor_slices((x_val_single, y_val_single))\n",
        "val_data_single = val_data_single.cache().shuffle(BUFFER_SIZE).batch(BATCH_SIZE).repeat()  ## Should this shuffle? Timeseries? Or with a sufficient buffer is it advised?\n",
        "#val_data_single = train_data_single.cache().batch(BATCH_SIZE).repeat()\n",
        "#train_data_single.shape"
      ],
      "execution_count": null,
      "outputs": []
    },
    {
      "cell_type": "markdown",
      "metadata": {
        "id": "b6XTRJi-056-"
      },
      "source": [
        "Choosing the correct optimizer: \n",
        "\n",
        "RMSprop:\n",
        "* Maintain a moving (discounted) average of the square of gradients\n",
        "* Divide the gradient by the root of this average\n",
        "adam: Adam optimization is a stochastic gradient descent method that is based on adaptive estimation of first-order and second-order moments.\n",
        "\n",
        "SGD: Gradient descent (with momentum) optimizer.\n",
        "\n",
        "Choice of Loss:\n",
        "MAPE?\n",
        "Can't use with scaled data\n",
        "\n",
        "Mean absolute scaled error (MASE): \n",
        "\n",
        "a measure of the accuracy of forecasts. It is the mean absolute error of the forecast values, divided by the mean absolute error of the in-sample one-step naive forecast. \n",
        "\n",
        "Mean Squared Log Error:\n",
        "\n"
      ]
    },
    {
      "cell_type": "code",
      "metadata": {
        "id": "odS1BDbxsKVY"
      },
      "source": [
        "from keras import regularizers\n",
        "single_step_model = tf.keras.models.Sequential()\n",
        "single_step_model.add(tf.keras.layers.LSTM(4,    # Capacity best out of:2, 8, 32\n",
        "                                           kernel_regularizer = regularizers.l2(0.001), # Regularization - fight overfitting\n",
        "                                           input_shape=x_train_single.shape[-2:]))    # LSTM layer with input shape of x_train_single.shape[-2:]\n",
        "single_step_model.add(tf.keras.layers.Dropout(0.2))   # Add dropout rate\n",
        "single_step_model.add(tf.keras.layers.Dense(1)) # activation = sigmoid? Because I have normalised it to be between -1 and 1? Or no activation?\n",
        "\n",
        "single_step_model.compile(optimizer='adam', loss='mean_squared_error',  metrics=['mean_absolute_error', 'mape']) #adam said to be best in CV\n"
      ],
      "execution_count": null,
      "outputs": []
    },
    {
      "cell_type": "code",
      "metadata": {
        "id": "plKjEXwUela0"
      },
      "source": [
        "# Grid Search\n",
        "\n",
        "def build_classifier(optimizer):\n",
        "  model = tf.keras.models.Sequential()\n",
        "  model.add(tf.keras.layers.LSTM(4,    # Capacity best out of:2, 8, 32\n",
        "                                 kernel_regularizer = regularizers.l2(0.001), # Regularization - fight overfitting\n",
        "                                 input_shape=x_train_single.shape[-2:]))    # LSTM layer with input shape of x_train_single.shape[-2:]\n",
        "  model.add(tf.keras.layers.Dropout(0.2))   # Add dropout rate\n",
        "  model.add(tf.keras.layers.Dense(1)) # activation = sigmoid? Because I have normalised it to be between -1 and 1? Or no activation?\n",
        "  model.compile(optimizer=tf.keras.optimizers.RMSprop(), loss='mean_squared_error',  metrics=['mean_absolute_error', 'mape']) #\n",
        "  return model\n",
        "\n",
        "grid_model = KerasClassifier(build_fn=build_classifier)\n",
        "parameters = {'batch_size' : [1, 17, 83, 1411],\n",
        "              'optimizer' : ['adam','RMSprop'] }\n",
        "\n",
        "grid_search  = GridSearchCV(estimator = grid_model,\n",
        "                            param_grid = parameters,\n",
        "                            scoring = 'neg_mean_squared_error',\n",
        "                            cv = 2)"
      ],
      "execution_count": null,
      "outputs": []
    },
    {
      "cell_type": "code",
      "metadata": {
        "id": "H_5cpavOfdNr",
        "colab": {
          "base_uri": "https://localhost:8080/"
        },
        "outputId": "ead38c3e-3d24-4d0c-92a6-1c7b37859f68"
      },
      "source": [
        "#GridSearchCV?\n",
        "grid_search = grid_search.fit(x_train_single, y_train_single)"
      ],
      "execution_count": null,
      "outputs": [
        {
          "output_type": "stream",
          "text": [
            "459/459 [==============================] - 26s 52ms/step - loss: 59291.1953 - mean_absolute_error: 210.8893 - mape: 8266132.5000\n"
          ],
          "name": "stdout"
        },
        {
          "output_type": "stream",
          "text": [
            "/usr/local/lib/python3.7/dist-packages/tensorflow/python/keras/engine/sequential.py:455: UserWarning: `model.predict_classes()` is deprecated and will be removed after 2021-01-01. Please use instead:* `np.argmax(model.predict(x), axis=-1)`,   if your model does multi-class classification   (e.g. if it uses a `softmax` last-layer activation).* `(model.predict(x) > 0.5).astype(\"int32\")`,   if your model does binary classification   (e.g. if it uses a `sigmoid` last-layer activation).\n",
            "  warnings.warn('`model.predict_classes()` is deprecated and '\n"
          ],
          "name": "stderr"
        },
        {
          "output_type": "stream",
          "text": [
            "460/460 [==============================] - 26s 52ms/step - loss: 67022.5078 - mean_absolute_error: 224.0438 - mape: 3083870.0000\n"
          ],
          "name": "stdout"
        },
        {
          "output_type": "stream",
          "text": [
            "/usr/local/lib/python3.7/dist-packages/tensorflow/python/keras/engine/sequential.py:455: UserWarning: `model.predict_classes()` is deprecated and will be removed after 2021-01-01. Please use instead:* `np.argmax(model.predict(x), axis=-1)`,   if your model does multi-class classification   (e.g. if it uses a `softmax` last-layer activation).* `(model.predict(x) > 0.5).astype(\"int32\")`,   if your model does binary classification   (e.g. if it uses a `sigmoid` last-layer activation).\n",
            "  warnings.warn('`model.predict_classes()` is deprecated and '\n"
          ],
          "name": "stderr"
        },
        {
          "output_type": "stream",
          "text": [
            "459/459 [==============================] - 25s 52ms/step - loss: 59915.5039 - mean_absolute_error: 212.3934 - mape: 6347779.0000\n"
          ],
          "name": "stdout"
        },
        {
          "output_type": "stream",
          "text": [
            "/usr/local/lib/python3.7/dist-packages/tensorflow/python/keras/engine/sequential.py:455: UserWarning: `model.predict_classes()` is deprecated and will be removed after 2021-01-01. Please use instead:* `np.argmax(model.predict(x), axis=-1)`,   if your model does multi-class classification   (e.g. if it uses a `softmax` last-layer activation).* `(model.predict(x) > 0.5).astype(\"int32\")`,   if your model does binary classification   (e.g. if it uses a `sigmoid` last-layer activation).\n",
            "  warnings.warn('`model.predict_classes()` is deprecated and '\n"
          ],
          "name": "stderr"
        },
        {
          "output_type": "stream",
          "text": [
            "460/460 [==============================] - 26s 52ms/step - loss: 66983.7656 - mean_absolute_error: 223.9159 - mape: 101654.3984\n"
          ],
          "name": "stdout"
        },
        {
          "output_type": "stream",
          "text": [
            "/usr/local/lib/python3.7/dist-packages/tensorflow/python/keras/engine/sequential.py:455: UserWarning: `model.predict_classes()` is deprecated and will be removed after 2021-01-01. Please use instead:* `np.argmax(model.predict(x), axis=-1)`,   if your model does multi-class classification   (e.g. if it uses a `softmax` last-layer activation).* `(model.predict(x) > 0.5).astype(\"int32\")`,   if your model does binary classification   (e.g. if it uses a `sigmoid` last-layer activation).\n",
            "  warnings.warn('`model.predict_classes()` is deprecated and '\n"
          ],
          "name": "stderr"
        },
        {
          "output_type": "stream",
          "text": [
            "27/27 [==============================] - 3s 59ms/step - loss: 60437.5898 - mean_absolute_error: 213.5830 - mape: 697098.0000\n"
          ],
          "name": "stdout"
        },
        {
          "output_type": "stream",
          "text": [
            "/usr/local/lib/python3.7/dist-packages/tensorflow/python/keras/engine/sequential.py:455: UserWarning: `model.predict_classes()` is deprecated and will be removed after 2021-01-01. Please use instead:* `np.argmax(model.predict(x), axis=-1)`,   if your model does multi-class classification   (e.g. if it uses a `softmax` last-layer activation).* `(model.predict(x) > 0.5).astype(\"int32\")`,   if your model does binary classification   (e.g. if it uses a `sigmoid` last-layer activation).\n",
            "  warnings.warn('`model.predict_classes()` is deprecated and '\n"
          ],
          "name": "stderr"
        },
        {
          "output_type": "stream",
          "text": [
            "28/28 [==============================] - 5s 97ms/step - loss: 68141.7031 - mean_absolute_error: 226.4539 - mape: 157833.3906\n"
          ],
          "name": "stdout"
        },
        {
          "output_type": "stream",
          "text": [
            "/usr/local/lib/python3.7/dist-packages/tensorflow/python/keras/engine/sequential.py:455: UserWarning: `model.predict_classes()` is deprecated and will be removed after 2021-01-01. Please use instead:* `np.argmax(model.predict(x), axis=-1)`,   if your model does multi-class classification   (e.g. if it uses a `softmax` last-layer activation).* `(model.predict(x) > 0.5).astype(\"int32\")`,   if your model does binary classification   (e.g. if it uses a `sigmoid` last-layer activation).\n",
            "  warnings.warn('`model.predict_classes()` is deprecated and '\n"
          ],
          "name": "stderr"
        },
        {
          "output_type": "stream",
          "text": [
            "27/27 [==============================] - 3s 58ms/step - loss: 60382.1406 - mean_absolute_error: 213.4529 - mape: 1800043.6250\n"
          ],
          "name": "stdout"
        },
        {
          "output_type": "stream",
          "text": [
            "/usr/local/lib/python3.7/dist-packages/tensorflow/python/keras/engine/sequential.py:455: UserWarning: `model.predict_classes()` is deprecated and will be removed after 2021-01-01. Please use instead:* `np.argmax(model.predict(x), axis=-1)`,   if your model does multi-class classification   (e.g. if it uses a `softmax` last-layer activation).* `(model.predict(x) > 0.5).astype(\"int32\")`,   if your model does binary classification   (e.g. if it uses a `sigmoid` last-layer activation).\n",
            "  warnings.warn('`model.predict_classes()` is deprecated and '\n"
          ],
          "name": "stderr"
        },
        {
          "output_type": "stream",
          "text": [
            "28/28 [==============================] - 5s 96ms/step - loss: 67854.3906 - mean_absolute_error: 225.9157 - mape: 49483.7148\n"
          ],
          "name": "stdout"
        },
        {
          "output_type": "stream",
          "text": [
            "/usr/local/lib/python3.7/dist-packages/tensorflow/python/keras/engine/sequential.py:455: UserWarning: `model.predict_classes()` is deprecated and will be removed after 2021-01-01. Please use instead:* `np.argmax(model.predict(x), axis=-1)`,   if your model does multi-class classification   (e.g. if it uses a `softmax` last-layer activation).* `(model.predict(x) > 0.5).astype(\"int32\")`,   if your model does binary classification   (e.g. if it uses a `sigmoid` last-layer activation).\n",
            "  warnings.warn('`model.predict_classes()` is deprecated and '\n"
          ],
          "name": "stderr"
        },
        {
          "output_type": "stream",
          "text": [
            "6/6 [==============================] - 3s 100ms/step - loss: 60528.9062 - mean_absolute_error: 213.7939 - mape: 544805.6875\n"
          ],
          "name": "stdout"
        },
        {
          "output_type": "stream",
          "text": [
            "/usr/local/lib/python3.7/dist-packages/tensorflow/python/keras/engine/sequential.py:455: UserWarning: `model.predict_classes()` is deprecated and will be removed after 2021-01-01. Please use instead:* `np.argmax(model.predict(x), axis=-1)`,   if your model does multi-class classification   (e.g. if it uses a `softmax` last-layer activation).* `(model.predict(x) > 0.5).astype(\"int32\")`,   if your model does binary classification   (e.g. if it uses a `sigmoid` last-layer activation).\n",
            "  warnings.warn('`model.predict_classes()` is deprecated and '\n"
          ],
          "name": "stderr"
        },
        {
          "output_type": "stream",
          "text": [
            "6/6 [==============================] - 3s 104ms/step - loss: 67753.0703 - mean_absolute_error: 225.6819 - mape: 1070170.7500\n"
          ],
          "name": "stdout"
        },
        {
          "output_type": "stream",
          "text": [
            "/usr/local/lib/python3.7/dist-packages/tensorflow/python/keras/engine/sequential.py:455: UserWarning: `model.predict_classes()` is deprecated and will be removed after 2021-01-01. Please use instead:* `np.argmax(model.predict(x), axis=-1)`,   if your model does multi-class classification   (e.g. if it uses a `softmax` last-layer activation).* `(model.predict(x) > 0.5).astype(\"int32\")`,   if your model does binary classification   (e.g. if it uses a `sigmoid` last-layer activation).\n",
            "  warnings.warn('`model.predict_classes()` is deprecated and '\n"
          ],
          "name": "stderr"
        },
        {
          "output_type": "stream",
          "text": [
            "6/6 [==============================] - 3s 104ms/step - loss: 60546.6133 - mean_absolute_error: 213.8297 - mape: 321736.5000\n"
          ],
          "name": "stdout"
        },
        {
          "output_type": "stream",
          "text": [
            "/usr/local/lib/python3.7/dist-packages/tensorflow/python/keras/engine/sequential.py:455: UserWarning: `model.predict_classes()` is deprecated and will be removed after 2021-01-01. Please use instead:* `np.argmax(model.predict(x), axis=-1)`,   if your model does multi-class classification   (e.g. if it uses a `softmax` last-layer activation).* `(model.predict(x) > 0.5).astype(\"int32\")`,   if your model does binary classification   (e.g. if it uses a `sigmoid` last-layer activation).\n",
            "  warnings.warn('`model.predict_classes()` is deprecated and '\n"
          ],
          "name": "stderr"
        },
        {
          "output_type": "stream",
          "text": [
            "6/6 [==============================] - 3s 107ms/step - loss: 67860.0859 - mean_absolute_error: 225.8922 - mape: 897637.0000\n"
          ],
          "name": "stdout"
        },
        {
          "output_type": "stream",
          "text": [
            "/usr/local/lib/python3.7/dist-packages/tensorflow/python/keras/engine/sequential.py:455: UserWarning: `model.predict_classes()` is deprecated and will be removed after 2021-01-01. Please use instead:* `np.argmax(model.predict(x), axis=-1)`,   if your model does multi-class classification   (e.g. if it uses a `softmax` last-layer activation).* `(model.predict(x) > 0.5).astype(\"int32\")`,   if your model does binary classification   (e.g. if it uses a `sigmoid` last-layer activation).\n",
            "  warnings.warn('`model.predict_classes()` is deprecated and '\n"
          ],
          "name": "stderr"
        },
        {
          "output_type": "stream",
          "text": [
            "1/1 [==============================] - 2s 2s/step - loss: 60760.8438 - mean_absolute_error: 214.3450 - mape: 238208.1875\n"
          ],
          "name": "stdout"
        },
        {
          "output_type": "stream",
          "text": [
            "/usr/local/lib/python3.7/dist-packages/tensorflow/python/keras/engine/sequential.py:455: UserWarning: `model.predict_classes()` is deprecated and will be removed after 2021-01-01. Please use instead:* `np.argmax(model.predict(x), axis=-1)`,   if your model does multi-class classification   (e.g. if it uses a `softmax` last-layer activation).* `(model.predict(x) > 0.5).astype(\"int32\")`,   if your model does binary classification   (e.g. if it uses a `sigmoid` last-layer activation).\n",
            "  warnings.warn('`model.predict_classes()` is deprecated and '\n"
          ],
          "name": "stderr"
        },
        {
          "output_type": "stream",
          "text": [
            "1/1 [==============================] - 2s 2s/step - loss: 68072.1875 - mean_absolute_error: 226.3630 - mape: 334903.5000\n"
          ],
          "name": "stdout"
        },
        {
          "output_type": "stream",
          "text": [
            "/usr/local/lib/python3.7/dist-packages/tensorflow/python/keras/engine/sequential.py:455: UserWarning: `model.predict_classes()` is deprecated and will be removed after 2021-01-01. Please use instead:* `np.argmax(model.predict(x), axis=-1)`,   if your model does multi-class classification   (e.g. if it uses a `softmax` last-layer activation).* `(model.predict(x) > 0.5).astype(\"int32\")`,   if your model does binary classification   (e.g. if it uses a `sigmoid` last-layer activation).\n",
            "  warnings.warn('`model.predict_classes()` is deprecated and '\n"
          ],
          "name": "stderr"
        },
        {
          "output_type": "stream",
          "text": [
            "WARNING:tensorflow:5 out of the last 15 calls to <function Model.make_train_function.<locals>.train_function at 0x7f7243519b90> triggered tf.function retracing. Tracing is expensive and the excessive number of tracings could be due to (1) creating @tf.function repeatedly in a loop, (2) passing tensors with different shapes, (3) passing Python objects instead of tensors. For (1), please define your @tf.function outside of the loop. For (2), @tf.function has experimental_relax_shapes=True option that relaxes argument shapes that can avoid unnecessary retracing. For (3), please refer to https://www.tensorflow.org/guide/function#controlling_retracing and https://www.tensorflow.org/api_docs/python/tf/function for  more details.\n",
            "1/1 [==============================] - 3s 3s/step - loss: 60699.6133 - mean_absolute_error: 214.1741 - mape: 602907.4375\n"
          ],
          "name": "stdout"
        },
        {
          "output_type": "stream",
          "text": [
            "/usr/local/lib/python3.7/dist-packages/tensorflow/python/keras/engine/sequential.py:455: UserWarning: `model.predict_classes()` is deprecated and will be removed after 2021-01-01. Please use instead:* `np.argmax(model.predict(x), axis=-1)`,   if your model does multi-class classification   (e.g. if it uses a `softmax` last-layer activation).* `(model.predict(x) > 0.5).astype(\"int32\")`,   if your model does binary classification   (e.g. if it uses a `sigmoid` last-layer activation).\n",
            "  warnings.warn('`model.predict_classes()` is deprecated and '\n"
          ],
          "name": "stderr"
        },
        {
          "output_type": "stream",
          "text": [
            "WARNING:tensorflow:5 out of the last 15 calls to <function Model.make_predict_function.<locals>.predict_function at 0x7f724466c320> triggered tf.function retracing. Tracing is expensive and the excessive number of tracings could be due to (1) creating @tf.function repeatedly in a loop, (2) passing tensors with different shapes, (3) passing Python objects instead of tensors. For (1), please define your @tf.function outside of the loop. For (2), @tf.function has experimental_relax_shapes=True option that relaxes argument shapes that can avoid unnecessary retracing. For (3), please refer to https://www.tensorflow.org/guide/function#controlling_retracing and https://www.tensorflow.org/api_docs/python/tf/function for  more details.\n",
            "WARNING:tensorflow:6 out of the last 16 calls to <function Model.make_train_function.<locals>.train_function at 0x7f7243da1830> triggered tf.function retracing. Tracing is expensive and the excessive number of tracings could be due to (1) creating @tf.function repeatedly in a loop, (2) passing tensors with different shapes, (3) passing Python objects instead of tensors. For (1), please define your @tf.function outside of the loop. For (2), @tf.function has experimental_relax_shapes=True option that relaxes argument shapes that can avoid unnecessary retracing. For (3), please refer to https://www.tensorflow.org/guide/function#controlling_retracing and https://www.tensorflow.org/api_docs/python/tf/function for  more details.\n",
            "1/1 [==============================] - 2s 2s/step - loss: 68084.2578 - mean_absolute_error: 226.3716 - mape: 662509.6875\n"
          ],
          "name": "stdout"
        },
        {
          "output_type": "stream",
          "text": [
            "/usr/local/lib/python3.7/dist-packages/tensorflow/python/keras/engine/sequential.py:455: UserWarning: `model.predict_classes()` is deprecated and will be removed after 2021-01-01. Please use instead:* `np.argmax(model.predict(x), axis=-1)`,   if your model does multi-class classification   (e.g. if it uses a `softmax` last-layer activation).* `(model.predict(x) > 0.5).astype(\"int32\")`,   if your model does binary classification   (e.g. if it uses a `sigmoid` last-layer activation).\n",
            "  warnings.warn('`model.predict_classes()` is deprecated and '\n"
          ],
          "name": "stderr"
        },
        {
          "output_type": "stream",
          "text": [
            "WARNING:tensorflow:6 out of the last 16 calls to <function Model.make_predict_function.<locals>.predict_function at 0x7f7247a84dd0> triggered tf.function retracing. Tracing is expensive and the excessive number of tracings could be due to (1) creating @tf.function repeatedly in a loop, (2) passing tensors with different shapes, (3) passing Python objects instead of tensors. For (1), please define your @tf.function outside of the loop. For (2), @tf.function has experimental_relax_shapes=True option that relaxes argument shapes that can avoid unnecessary retracing. For (3), please refer to https://www.tensorflow.org/guide/function#controlling_retracing and https://www.tensorflow.org/api_docs/python/tf/function for  more details.\n",
            "12/12 [==============================] - 3s 101ms/step - loss: 261420.2031 - mean_absolute_error: 444.6225 - mape: 169169.8750\n"
          ],
          "name": "stdout"
        }
      ]
    },
    {
      "cell_type": "code",
      "metadata": {
        "id": "avx2KMokhwIL",
        "colab": {
          "base_uri": "https://localhost:8080/"
        },
        "outputId": "afe607c3-bcf0-4883-f22f-88667097a801"
      },
      "source": [
        "print(\"Best accuracy: {}\\nBest combination: {}\".format(-grid_search.best_score_, \n",
        "                             grid_search.best_params_))"
      ],
      "execution_count": null,
      "outputs": [
        {
          "output_type": "stream",
          "text": [
            "Best accuracy: 0.3361818174739634\n",
            "Best combination: {'batch_size': 83, 'optimizer': 'adam'}\n"
          ],
          "name": "stdout"
        }
      ]
    },
    {
      "cell_type": "code",
      "metadata": {
        "id": "Van5J2poyJsS"
      },
      "source": [
        "BATCH_SIZE = 17\n",
        "train_data_single = tf.data.Dataset.from_tensor_slices((x_train_single, y_train_single))\n",
        "train_data_single = train_data_single.cache().shuffle(BUFFER_SIZE).batch(BATCH_SIZE).repeat() # Should this shuffle? Timeseries? Or with a sufficient buffer is it advised?\n",
        "#train_data_single = train_data_single.cache().batch(BATCH_SIZE).repeat()\n",
        "\n",
        "val_data_single = tf.data.Dataset.from_tensor_slices((x_val_single, y_val_single))\n",
        "val_data_single = val_data_single.cache().shuffle(BUFFER_SIZE).batch(BATCH_SIZE).repeat()  ## Should this shuffle? Timeseries? Or with a sufficient buffer is it advised?\n",
        "#val_data_single = train_data_single.cache().batch(BATCH_SIZE).repeat()\n",
        "#train_data_single.shape"
      ],
      "execution_count": null,
      "outputs": []
    },
    {
      "cell_type": "code",
      "metadata": {
        "id": "DRvCMWSPigVb"
      },
      "source": [
        "means = grid_search.cv_results_['mean_test_score']\n",
        "stds = grid_search.cv_results_['std_test_score']\n",
        "params = grid_search.cv_results_['params']\n",
        "# Create table for analysis\n",
        "\n",
        "d=pd.DataFrame(params)\n",
        "d['Mean']=means\n",
        "d['Std. Dev']=stds"
      ],
      "execution_count": null,
      "outputs": []
    },
    {
      "cell_type": "code",
      "metadata": {
        "id": "F0nr-tFQirX1",
        "colab": {
          "base_uri": "https://localhost:8080/",
          "height": 392
        },
        "outputId": "52e13dfb-6bc3-4ca1-d02e-417ac20f54a0"
      },
      "source": [
        "param_ = ['batch_size','optimizer']\n",
        "import matplotlib.pyplot as plt\n",
        "fig, ax = plt.subplots(1,2,figsize=(10,6), squeeze=False)\n",
        "ax = ax.ravel()\n",
        "for i in range(2):\n",
        "    ax[i].set_title('Distribution of mean accuracy with {}'.format(param_[i]))\n",
        "    sns.violinplot(x=param_[i],y='Mean',data=d,ax=ax[i])\n",
        "fig.tight_layout(pad=1.5)"
      ],
      "execution_count": null,
      "outputs": [
        {
          "output_type": "display_data",
          "data": {
            "image/png": "[encoded data removed]",
            "text/plain": [
              "<Figure size 720x432 with 2 Axes>"
            ]
          },
          "metadata": {
            "tags": [],
            "needs_background": "light"
          }
        }
      ]
    },
    {
      "cell_type": "code",
      "metadata": {
        "id": "5X-BhYIdmOOe"
      },
      "source": [
        "single_step_model = tf.keras.models.Sequential()\n",
        "single_step_model.add(tf.keras.layers.LSTM(4,    # Capacity best out of:2, 8, 32\n",
        "                                           kernel_regularizer = regularizers.l2(0.001), # Regularization - fight overfitting\n",
        "                                           input_shape=x_train_single.shape[-2:]))    # LSTM layer with 32 outputs and input shape of x_train_single.shape[-2:]\n",
        "single_step_model.add(tf.keras.layers.Dropout(0.2))   # Add dropout rate\n",
        "single_step_model.add(tf.keras.layers.Dense(1)) # activation = sigmoid? Because I have normalised it to be between -1 and 1? Or no activation?\n",
        "single_step_model.compile(optimizer='adam', loss='mean_squared_error',  metrics=['mean_absolute_error', 'mape']) #\n"
      ],
      "execution_count": null,
      "outputs": []
    },
    {
      "cell_type": "code",
      "metadata": {
        "id": "18uA1e7KsKal",
        "colab": {
          "base_uri": "https://localhost:8080/"
        },
        "outputId": "f850ec50-ee1c-431d-883a-ca6f21a698bb"
      },
      "source": [
        "print(f\"Evaluation Threshold: {EVALUATION_INTERVAL}\",\n",
        "      f\"Epochs: {EPOCHS}\", sep=\"\\n\")\n",
        "\n",
        "early_stopping = EarlyStopping(monitor='val_loss', patience = PATIENCE, restore_best_weights=True) \n",
        "single_step_history = single_step_model.fit(train_data_single,\n",
        "                                            epochs=EPOCHS,\n",
        "                                            steps_per_epoch=EVALUATION_INTERVAL,\n",
        "                                            validation_data=val_data_single,\n",
        "                                            callbacks=[early_stopping],\n",
        "                                            validation_steps=17)    # train_length // batch_size = "
      ],
      "execution_count": null,
      "outputs": [
        {
          "output_type": "stream",
          "text": [
            "Evaluation Threshold: 20\n",
            "Epochs: 500\n",
            "Epoch 1/500\n",
            "20/20 [==============================] - 5s 137ms/step - loss: 0.2572 - mean_absolute_error: 0.4612 - mape: 40778.1953 - val_loss: 0.1729 - val_mean_absolute_error: 0.3604 - val_mape: 347653.5000\n",
            "Epoch 2/500\n",
            "20/20 [==============================] - 2s 109ms/step - loss: 0.4151 - mean_absolute_error: 0.6249 - mape: 90.4268 - val_loss: 0.0807 - val_mean_absolute_error: 0.2360 - val_mape: 623030.7500\n",
            "Epoch 3/500\n",
            "20/20 [==============================] - 2s 114ms/step - loss: 0.2317 - mean_absolute_error: 0.4163 - mape: 817487.6250 - val_loss: 0.0328 - val_mean_absolute_error: 0.1302 - val_mape: 824493.8125\n",
            "Epoch 4/500\n",
            "20/20 [==============================] - 2s 108ms/step - loss: 0.0490 - mean_absolute_error: 0.1485 - mape: 40.8130 - val_loss: 0.0234 - val_mean_absolute_error: 0.0922 - val_mape: 909609.4375\n",
            "Epoch 5/500\n",
            "20/20 [==============================] - 2s 112ms/step - loss: 0.0914 - mean_absolute_error: 0.2241 - mape: 29.3206 - val_loss: 0.0222 - val_mean_absolute_error: 0.0726 - val_mape: 1034104.2500\n",
            "Epoch 6/500\n",
            "20/20 [==============================] - 2s 111ms/step - loss: 0.0563 - mean_absolute_error: 0.1604 - mape: 1151757.2500 - val_loss: 0.0248 - val_mean_absolute_error: 0.0960 - val_mape: 1031305.5000\n",
            "Epoch 7/500\n",
            "20/20 [==============================] - 2s 110ms/step - loss: 0.0364 - mean_absolute_error: 0.1228 - mape: 37.4178 - val_loss: 0.0187 - val_mean_absolute_error: 0.0586 - val_mape: 904959.9375\n",
            "Epoch 8/500\n",
            "20/20 [==============================] - 2s 109ms/step - loss: 0.0555 - mean_absolute_error: 0.1632 - mape: 21.3793 - val_loss: 0.0207 - val_mean_absolute_error: 0.0727 - val_mape: 913165.7500\n",
            "Epoch 9/500\n",
            "20/20 [==============================] - 2s 114ms/step - loss: 0.0367 - mean_absolute_error: 0.1353 - mape: 952871.8750 - val_loss: 0.0174 - val_mean_absolute_error: 0.0556 - val_mape: 82.8519\n",
            "Epoch 10/500\n",
            "20/20 [==============================] - 2s 117ms/step - loss: 0.0355 - mean_absolute_error: 0.1222 - mape: 19.5661 - val_loss: 0.0162 - val_mean_absolute_error: 0.0501 - val_mape: 744607.7500\n",
            "Epoch 11/500\n",
            "20/20 [==============================] - 2s 113ms/step - loss: 0.0501 - mean_absolute_error: 0.1562 - mape: 20.0643 - val_loss: 0.0159 - val_mean_absolute_error: 0.0491 - val_mape: 740104.3750\n",
            "Epoch 12/500\n",
            "20/20 [==============================] - 2s 111ms/step - loss: 0.0242 - mean_absolute_error: 0.0957 - mape: 107058.8672 - val_loss: 0.0143 - val_mean_absolute_error: 0.0431 - val_mape: 643004.8750\n",
            "Epoch 13/500\n",
            "20/20 [==============================] - 2s 109ms/step - loss: 0.0422 - mean_absolute_error: 0.1344 - mape: 19.3390 - val_loss: 0.0143 - val_mean_absolute_error: 0.0429 - val_mape: 642955.2500\n",
            "Epoch 14/500\n",
            "20/20 [==============================] - 2s 110ms/step - loss: 0.0402 - mean_absolute_error: 0.1378 - mape: 754818.1875 - val_loss: 0.0137 - val_mean_absolute_error: 0.0390 - val_mape: 618651.5625\n",
            "Epoch 15/500\n",
            "20/20 [==============================] - 2s 111ms/step - loss: 0.0229 - mean_absolute_error: 0.0896 - mape: 29.7595 - val_loss: 0.0130 - val_mean_absolute_error: 0.0374 - val_mape: 558772.9375\n",
            "Epoch 16/500\n",
            "20/20 [==============================] - 2s 112ms/step - loss: 0.0419 - mean_absolute_error: 0.1397 - mape: 18.9332 - val_loss: 0.0129 - val_mean_absolute_error: 0.0358 - val_mape: 560024.1250\n",
            "Epoch 17/500\n",
            "20/20 [==============================] - 2s 109ms/step - loss: 0.0306 - mean_absolute_error: 0.1114 - mape: 537980.1250 - val_loss: 0.0126 - val_mean_absolute_error: 0.0351 - val_mape: 526653.9375\n",
            "Epoch 18/500\n",
            "20/20 [==============================] - 2s 111ms/step - loss: 0.0280 - mean_absolute_error: 0.0994 - mape: 18.5169 - val_loss: 0.0122 - val_mean_absolute_error: 0.0338 - val_mape: 500470.3125\n",
            "Epoch 19/500\n",
            "20/20 [==============================] - 2s 109ms/step - loss: 0.0462 - mean_absolute_error: 0.1530 - mape: 19.8996 - val_loss: 0.0122 - val_mean_absolute_error: 0.0334 - val_mape: 504659.2812\n",
            "Epoch 20/500\n",
            "20/20 [==============================] - 2s 111ms/step - loss: 0.0275 - mean_absolute_error: 0.0977 - mape: 621957.0625 - val_loss: 0.0122 - val_mean_absolute_error: 0.0386 - val_mape: 475051.4688\n",
            "Epoch 21/500\n",
            "20/20 [==============================] - 2s 108ms/step - loss: 0.0319 - mean_absolute_error: 0.1134 - mape: 18.2852 - val_loss: 0.0119 - val_mean_absolute_error: 0.0336 - val_mape: 493757.2188\n",
            "Epoch 22/500\n",
            "20/20 [==============================] - 2s 109ms/step - loss: 0.0372 - mean_absolute_error: 0.1351 - mape: 17.3084 - val_loss: 0.0116 - val_mean_absolute_error: 0.0330 - val_mape: 496264.7500\n",
            "Epoch 23/500\n",
            "20/20 [==============================] - 2s 109ms/step - loss: 0.0191 - mean_absolute_error: 0.0781 - mape: 250050.0781 - val_loss: 0.0117 - val_mean_absolute_error: 0.0373 - val_mape: 469258.0625\n",
            "Epoch 24/500\n",
            "20/20 [==============================] - 2s 110ms/step - loss: 0.0386 - mean_absolute_error: 0.1347 - mape: 20.2097 - val_loss: 0.0122 - val_mean_absolute_error: 0.0404 - val_mape: 496611.5312\n",
            "Epoch 25/500\n",
            "20/20 [==============================] - 2s 112ms/step - loss: 0.0364 - mean_absolute_error: 0.1239 - mape: 423430.9062 - val_loss: 0.0112 - val_mean_absolute_error: 0.0312 - val_mape: 483205.7500\n",
            "Epoch 26/500\n",
            "20/20 [==============================] - 2s 113ms/step - loss: 0.0197 - mean_absolute_error: 0.0792 - mape: 36.0184 - val_loss: 0.0113 - val_mean_absolute_error: 0.0357 - val_mape: 447624.4688\n",
            "Epoch 27/500\n",
            "20/20 [==============================] - 2s 110ms/step - loss: 0.0363 - mean_absolute_error: 0.1294 - mape: 19.3630 - val_loss: 0.0110 - val_mean_absolute_error: 0.0319 - val_mape: 459629.6562\n",
            "Epoch 28/500\n",
            "20/20 [==============================] - 2s 109ms/step - loss: 0.0265 - mean_absolute_error: 0.0985 - mape: 411210.0938 - val_loss: 0.0108 - val_mean_absolute_error: 0.0315 - val_mape: 453267.7500\n",
            "Epoch 29/500\n",
            "20/20 [==============================] - 2s 111ms/step - loss: 0.0224 - mean_absolute_error: 0.0929 - mape: 35.8935 - val_loss: 0.0106 - val_mean_absolute_error: 0.0331 - val_mape: 420916.0000\n",
            "Epoch 30/500\n",
            "20/20 [==============================] - 2s 109ms/step - loss: 0.0376 - mean_absolute_error: 0.1361 - mape: 17.8315 - val_loss: 0.0104 - val_mean_absolute_error: 0.0311 - val_mape: 428840.7188\n",
            "Epoch 31/500\n",
            "20/20 [==============================] - 2s 109ms/step - loss: 0.0176 - mean_absolute_error: 0.0719 - mape: 359524.9375 - val_loss: 0.0108 - val_mean_absolute_error: 0.0389 - val_mape: 409480.1250\n",
            "Epoch 32/500\n",
            "20/20 [==============================] - 2s 112ms/step - loss: 0.0274 - mean_absolute_error: 0.1053 - mape: 22.0798 - val_loss: 0.0105 - val_mean_absolute_error: 0.0334 - val_mape: 434569.2500\n",
            "Epoch 33/500\n",
            "20/20 [==============================] - 2s 111ms/step - loss: 0.0347 - mean_absolute_error: 0.1310 - mape: 16.8900 - val_loss: 0.0104 - val_mean_absolute_error: 0.0349 - val_mape: 442929.5312\n",
            "Epoch 34/500\n",
            "20/20 [==============================] - 2s 108ms/step - loss: 0.0156 - mean_absolute_error: 0.0653 - mape: 348762.3438 - val_loss: 0.0104 - val_mean_absolute_error: 0.0373 - val_mape: 449621.8125\n",
            "Epoch 35/500\n",
            "20/20 [==============================] - 2s 110ms/step - loss: 0.0320 - mean_absolute_error: 0.1183 - mape: 16.8357 - val_loss: 0.0108 - val_mean_absolute_error: 0.0386 - val_mape: 497711.7188\n",
            "Epoch 36/500\n",
            "20/20 [==============================] - 2s 112ms/step - loss: 0.0299 - mean_absolute_error: 0.1157 - mape: 432305.6875 - val_loss: 0.0101 - val_mean_absolute_error: 0.0325 - val_mape: 491187.8750\n",
            "Epoch 37/500\n",
            "20/20 [==============================] - 2s 111ms/step - loss: 0.0175 - mean_absolute_error: 0.0762 - mape: 20.8494 - val_loss: 0.0098 - val_mean_absolute_error: 0.0333 - val_mape: 448417.3750\n",
            "Epoch 38/500\n",
            "20/20 [==============================] - 2s 110ms/step - loss: 0.0317 - mean_absolute_error: 0.1198 - mape: 16.2544 - val_loss: 0.0097 - val_mean_absolute_error: 0.0321 - val_mape: 465255.0312\n",
            "Epoch 39/500\n",
            "20/20 [==============================] - 2s 110ms/step - loss: 0.0208 - mean_absolute_error: 0.0852 - mape: 576813.5625 - val_loss: 0.0096 - val_mean_absolute_error: 0.0330 - val_mape: 452666.3125\n",
            "Epoch 40/500\n",
            "20/20 [==============================] - 2s 110ms/step - loss: 0.0189 - mean_absolute_error: 0.0833 - mape: 19.3049 - val_loss: 0.0095 - val_mean_absolute_error: 0.0324 - val_mape: 444691.0312\n",
            "Epoch 41/500\n",
            "20/20 [==============================] - 2s 109ms/step - loss: 0.0311 - mean_absolute_error: 0.1205 - mape: 15.6691 - val_loss: 0.0097 - val_mean_absolute_error: 0.0345 - val_mape: 462579.8125\n",
            "Epoch 42/500\n",
            "20/20 [==============================] - 2s 109ms/step - loss: 0.0158 - mean_absolute_error: 0.0715 - mape: 569735.8125 - val_loss: 0.0094 - val_mean_absolute_error: 0.0367 - val_mape: 426071.7188\n",
            "Epoch 43/500\n",
            "20/20 [==============================] - 2s 111ms/step - loss: 0.0198 - mean_absolute_error: 0.0840 - mape: 13.5433 - val_loss: 0.0092 - val_mean_absolute_error: 0.0322 - val_mape: 446271.0625\n",
            "Epoch 44/500\n",
            "20/20 [==============================] - 2s 109ms/step - loss: 0.0310 - mean_absolute_error: 0.1242 - mape: 15.9455 - val_loss: 0.0092 - val_mean_absolute_error: 0.0332 - val_mape: 463838.6562\n",
            "Epoch 45/500\n",
            "20/20 [==============================] - 2s 111ms/step - loss: 0.0136 - mean_absolute_error: 0.0631 - mape: 330569.3125 - val_loss: 0.0088 - val_mean_absolute_error: 0.0325 - val_mape: 429446.7188\n",
            "Epoch 46/500\n",
            "20/20 [==============================] - 2s 111ms/step - loss: 0.0273 - mean_absolute_error: 0.1108 - mape: 15.6715 - val_loss: 0.0094 - val_mean_absolute_error: 0.0371 - val_mape: 451957.4688\n",
            "Epoch 47/500\n",
            "20/20 [==============================] - 2s 111ms/step - loss: 0.0263 - mean_absolute_error: 0.1093 - mape: 215035.0625 - val_loss: 0.0090 - val_mean_absolute_error: 0.0339 - val_mape: 465661.9062\n",
            "Epoch 48/500\n",
            "20/20 [==============================] - 2s 110ms/step - loss: 0.0148 - mean_absolute_error: 0.0685 - mape: 24.4551 - val_loss: 0.0086 - val_mean_absolute_error: 0.0330 - val_mape: 440134.9062\n",
            "Epoch 49/500\n",
            "20/20 [==============================] - 2s 110ms/step - loss: 0.0264 - mean_absolute_error: 0.1126 - mape: 15.1780 - val_loss: 0.0088 - val_mean_absolute_error: 0.0334 - val_mape: 462768.8125\n",
            "Epoch 50/500\n",
            "20/20 [==============================] - 2s 111ms/step - loss: 0.0189 - mean_absolute_error: 0.0864 - mape: 527913.5625 - val_loss: 0.0086 - val_mean_absolute_error: 0.0324 - val_mape: 443719.3438\n",
            "Epoch 51/500\n",
            "20/20 [==============================] - 2s 112ms/step - loss: 0.0169 - mean_absolute_error: 0.0772 - mape: 16.6804 - val_loss: 0.0084 - val_mean_absolute_error: 0.0328 - val_mape: 418504.8438\n",
            "Epoch 52/500\n",
            "20/20 [==============================] - 2s 109ms/step - loss: 0.0273 - mean_absolute_error: 0.1161 - mape: 15.0560 - val_loss: 0.0084 - val_mean_absolute_error: 0.0334 - val_mape: 444411.8750\n",
            "Epoch 53/500\n",
            "20/20 [==============================] - 2s 111ms/step - loss: 0.0154 - mean_absolute_error: 0.0687 - mape: 328516.5000 - val_loss: 0.0082 - val_mean_absolute_error: 0.0317 - val_mape: 436623.0938\n",
            "Epoch 54/500\n",
            "20/20 [==============================] - 2s 110ms/step - loss: 0.0175 - mean_absolute_error: 0.0806 - mape: 12.7472 - val_loss: 0.0082 - val_mean_absolute_error: 0.0345 - val_mape: 426064.8125\n",
            "Epoch 55/500\n",
            "20/20 [==============================] - 2s 111ms/step - loss: 0.0255 - mean_absolute_error: 0.1130 - mape: 14.4210 - val_loss: 0.0081 - val_mean_absolute_error: 0.0330 - val_mape: 445236.5625\n",
            "Epoch 56/500\n",
            "20/20 [==============================] - 2s 108ms/step - loss: 0.0105 - mean_absolute_error: 0.0514 - mape: 569901.6875 - val_loss: 0.0081 - val_mean_absolute_error: 0.0338 - val_mape: 449496.5938\n",
            "Epoch 57/500\n",
            "20/20 [==============================] - 2s 110ms/step - loss: 0.0205 - mean_absolute_error: 0.0941 - mape: 13.6228 - val_loss: 0.0081 - val_mean_absolute_error: 0.0348 - val_mape: 464190.3438\n",
            "Epoch 58/500\n",
            "20/20 [==============================] - 2s 110ms/step - loss: 0.0221 - mean_absolute_error: 0.0955 - mape: 353735.5625 - val_loss: 0.0078 - val_mean_absolute_error: 0.0323 - val_mape: 478171.5000\n",
            "Epoch 59/500\n",
            "20/20 [==============================] - 2s 107ms/step - loss: 0.0135 - mean_absolute_error: 0.0663 - mape: 30.4645 - val_loss: 0.0079 - val_mean_absolute_error: 0.0344 - val_mape: 468391.6875\n",
            "Epoch 60/500\n",
            "20/20 [==============================] - 2s 112ms/step - loss: 0.0243 - mean_absolute_error: 0.1053 - mape: 13.7748 - val_loss: 0.0084 - val_mean_absolute_error: 0.0381 - val_mape: 492425.2500\n",
            "Epoch 61/500\n",
            "20/20 [==============================] - 2s 109ms/step - loss: 0.0156 - mean_absolute_error: 0.0741 - mape: 340281.9375 - val_loss: 0.0081 - val_mean_absolute_error: 0.0384 - val_mape: 471664.3750\n",
            "Epoch 62/500\n",
            "20/20 [==============================] - 2s 112ms/step - loss: 0.0143 - mean_absolute_error: 0.0694 - mape: 13.3993 - val_loss: 0.0077 - val_mean_absolute_error: 0.0329 - val_mape: 495083.9062\n",
            "Epoch 63/500\n",
            "20/20 [==============================] - 2s 112ms/step - loss: 0.0261 - mean_absolute_error: 0.1173 - mape: 15.2758 - val_loss: 0.0085 - val_mean_absolute_error: 0.0401 - val_mape: 524938.1250\n",
            "Epoch 64/500\n",
            "20/20 [==============================] - 2s 114ms/step - loss: 0.0145 - mean_absolute_error: 0.0704 - mape: 653848.3125 - val_loss: 0.0076 - val_mean_absolute_error: 0.0333 - val_mape: 482154.5312\n",
            "Epoch 65/500\n",
            "20/20 [==============================] - 2s 109ms/step - loss: 0.0163 - mean_absolute_error: 0.0805 - mape: 14.8719 - val_loss: 0.0074 - val_mean_absolute_error: 0.0330 - val_mape: 458279.2188\n",
            "Epoch 66/500\n",
            "20/20 [==============================] - 2s 110ms/step - loss: 0.0209 - mean_absolute_error: 0.1004 - mape: 12.7600 - val_loss: 0.0074 - val_mean_absolute_error: 0.0328 - val_mape: 466769.5938\n",
            "Epoch 67/500\n",
            "20/20 [==============================] - 2s 110ms/step - loss: 0.0096 - mean_absolute_error: 0.0500 - mape: 285028.0312 - val_loss: 0.0073 - val_mean_absolute_error: 0.0343 - val_mape: 459262.1875\n",
            "Epoch 68/500\n",
            "20/20 [==============================] - 2s 110ms/step - loss: 0.0168 - mean_absolute_error: 0.0822 - mape: 11.7026 - val_loss: 0.0077 - val_mean_absolute_error: 0.0371 - val_mape: 486240.2812\n",
            "Epoch 69/500\n",
            "20/20 [==============================] - 2s 116ms/step - loss: 0.0170 - mean_absolute_error: 0.0849 - mape: 25.2353 - val_loss: 0.0075 - val_mean_absolute_error: 0.0351 - val_mape: 497727.5625\n",
            "Epoch 70/500\n",
            "20/20 [==============================] - 2s 114ms/step - loss: 0.0107 - mean_absolute_error: 0.0592 - mape: 382545.8438 - val_loss: 0.0071 - val_mean_absolute_error: 0.0341 - val_mape: 447856.3438\n",
            "Epoch 71/500\n",
            "20/20 [==============================] - 2s 112ms/step - loss: 0.0208 - mean_absolute_error: 0.1019 - mape: 13.7262 - val_loss: 0.0076 - val_mean_absolute_error: 0.0378 - val_mape: 476136.0938\n",
            "Epoch 72/500\n",
            "20/20 [==============================] - 2s 112ms/step - loss: 0.0153 - mean_absolute_error: 0.0776 - mape: 569916.7500 - val_loss: 0.0070 - val_mean_absolute_error: 0.0330 - val_mape: 461762.1250\n",
            "Epoch 73/500\n",
            "20/20 [==============================] - 2s 112ms/step - loss: 0.0121 - mean_absolute_error: 0.0643 - mape: 13.6990 - val_loss: 0.0070 - val_mean_absolute_error: 0.0338 - val_mape: 456259.8438\n",
            "Epoch 74/500\n",
            "20/20 [==============================] - 2s 111ms/step - loss: 0.0204 - mean_absolute_error: 0.1000 - mape: 12.9870 - val_loss: 0.0069 - val_mean_absolute_error: 0.0333 - val_mape: 475962.3125\n",
            "Epoch 75/500\n",
            "20/20 [==============================] - 2s 110ms/step - loss: 0.0105 - mean_absolute_error: 0.0577 - mape: 304403.4062 - val_loss: 0.0067 - val_mean_absolute_error: 0.0344 - val_mape: 464355.5625\n",
            "Epoch 76/500\n",
            "20/20 [==============================] - 2s 112ms/step - loss: 0.0143 - mean_absolute_error: 0.0741 - mape: 40.8527 - val_loss: 0.0075 - val_mean_absolute_error: 0.0392 - val_mape: 504410.9688\n",
            "Epoch 77/500\n",
            "20/20 [==============================] - 2s 111ms/step - loss: 0.0232 - mean_absolute_error: 0.1076 - mape: 13.6968 - val_loss: 0.0071 - val_mean_absolute_error: 0.0361 - val_mape: 519776.4375\n",
            "Epoch 78/500\n",
            "20/20 [==============================] - 2s 114ms/step - loss: 0.0085 - mean_absolute_error: 0.0469 - mape: 248784.8750 - val_loss: 0.0068 - val_mean_absolute_error: 0.0361 - val_mape: 446221.2188\n",
            "Epoch 79/500\n",
            "20/20 [==============================] - 2s 110ms/step - loss: 0.0157 - mean_absolute_error: 0.0815 - mape: 13.1481 - val_loss: 0.0066 - val_mean_absolute_error: 0.0343 - val_mape: 463207.1875\n",
            "Epoch 80/500\n",
            "20/20 [==============================] - 2s 113ms/step - loss: 0.0170 - mean_absolute_error: 0.0856 - mape: 607357.9375 - val_loss: 0.0065 - val_mean_absolute_error: 0.0324 - val_mape: 48.5770\n",
            "Epoch 81/500\n",
            "20/20 [==============================] - 2s 112ms/step - loss: 0.0087 - mean_absolute_error: 0.0496 - mape: 31.8346 - val_loss: 0.0064 - val_mean_absolute_error: 0.0328 - val_mape: 460203.2188\n",
            "Epoch 82/500\n",
            "20/20 [==============================] - 2s 110ms/step - loss: 0.0169 - mean_absolute_error: 0.0881 - mape: 11.6684 - val_loss: 0.0067 - val_mean_absolute_error: 0.0354 - val_mape: 488168.1875\n",
            "Epoch 83/500\n",
            "20/20 [==============================] - 2s 113ms/step - loss: 0.0136 - mean_absolute_error: 0.0742 - mape: 300786.5312 - val_loss: 0.0065 - val_mean_absolute_error: 0.0345 - val_mape: 472834.9375\n",
            "Epoch 84/500\n",
            "20/20 [==============================] - 2s 112ms/step - loss: 0.0106 - mean_absolute_error: 0.0599 - mape: 22.3251 - val_loss: 0.0062 - val_mean_absolute_error: 0.0338 - val_mape: 436758.5000\n",
            "Epoch 85/500\n",
            "20/20 [==============================] - 2s 112ms/step - loss: 0.0168 - mean_absolute_error: 0.0894 - mape: 11.4938 - val_loss: 0.0065 - val_mean_absolute_error: 0.0358 - val_mape: 469735.3750\n",
            "Epoch 86/500\n",
            "20/20 [==============================] - 2s 109ms/step - loss: 0.0108 - mean_absolute_error: 0.0620 - mape: 586281.2500 - val_loss: 0.0062 - val_mean_absolute_error: 0.0342 - val_mape: 443781.8125\n",
            "Epoch 87/500\n",
            "20/20 [==============================] - 2s 111ms/step - loss: 0.0117 - mean_absolute_error: 0.0643 - mape: 20.0459 - val_loss: 0.0066 - val_mean_absolute_error: 0.0400 - val_mape: 431429.8750\n",
            "Epoch 88/500\n",
            "20/20 [==============================] - 2s 110ms/step - loss: 0.0177 - mean_absolute_error: 0.0941 - mape: 12.0409 - val_loss: 0.0063 - val_mean_absolute_error: 0.0365 - val_mape: 457841.5625\n",
            "Epoch 89/500\n",
            "20/20 [==============================] - 2s 111ms/step - loss: 0.0082 - mean_absolute_error: 0.0498 - mape: 551591.0000 - val_loss: 0.0061 - val_mean_absolute_error: 0.0345 - val_mape: 445149.9688\n",
            "Epoch 90/500\n",
            "20/20 [==============================] - 2s 109ms/step - loss: 0.0128 - mean_absolute_error: 0.0737 - mape: 10.5272 - val_loss: 0.0059 - val_mean_absolute_error: 0.0336 - val_mape: 454496.4062\n",
            "Epoch 91/500\n",
            "20/20 [==============================] - 2s 112ms/step - loss: 0.0170 - mean_absolute_error: 0.0874 - mape: 30.6033 - val_loss: 0.0061 - val_mean_absolute_error: 0.0348 - val_mape: 472467.2812\n",
            "Epoch 92/500\n",
            "20/20 [==============================] - 2s 111ms/step - loss: 0.0073 - mean_absolute_error: 0.0467 - mape: 239057.1250 - val_loss: 0.0059 - val_mean_absolute_error: 0.0343 - val_mape: 456681.7500\n",
            "Epoch 93/500\n",
            "20/20 [==============================] - 2s 111ms/step - loss: 0.0155 - mean_absolute_error: 0.0839 - mape: 30.1038 - val_loss: 0.0059 - val_mean_absolute_error: 0.0335 - val_mape: 471214.5625\n",
            "Epoch 94/500\n",
            "20/20 [==============================] - 2s 113ms/step - loss: 0.0113 - mean_absolute_error: 0.0685 - mape: 260995.4062 - val_loss: 0.0060 - val_mean_absolute_error: 0.0351 - val_mape: 483232.7188\n",
            "Epoch 95/500\n",
            "20/20 [==============================] - 2s 112ms/step - loss: 0.0084 - mean_absolute_error: 0.0511 - mape: 11.5256 - val_loss: 0.0060 - val_mean_absolute_error: 0.0349 - val_mape: 496776.9062\n",
            "Epoch 96/500\n",
            "20/20 [==============================] - 2s 111ms/step - loss: 0.0151 - mean_absolute_error: 0.0859 - mape: 11.0209 - val_loss: 0.0061 - val_mean_absolute_error: 0.0365 - val_mape: 508773.5938\n",
            "Epoch 97/500\n",
            "20/20 [==============================] - 2s 112ms/step - loss: 0.0106 - mean_absolute_error: 0.0586 - mape: 828269.5625 - val_loss: 0.0058 - val_mean_absolute_error: 0.0348 - val_mape: 471342.1875\n",
            "Epoch 98/500\n",
            "20/20 [==============================] - 2s 110ms/step - loss: 0.0096 - mean_absolute_error: 0.0570 - mape: 8.8949 - val_loss: 0.0059 - val_mean_absolute_error: 0.0354 - val_mape: 485031.9062\n",
            "Epoch 99/500\n",
            "20/20 [==============================] - 2s 113ms/step - loss: 0.0160 - mean_absolute_error: 0.0900 - mape: 11.4062 - val_loss: 0.0059 - val_mean_absolute_error: 0.0350 - val_mape: 507979.5000\n",
            "Epoch 100/500\n",
            "20/20 [==============================] - 2s 110ms/step - loss: 0.0070 - mean_absolute_error: 0.0448 - mape: 467912.2500 - val_loss: 0.0056 - val_mean_absolute_error: 0.0346 - val_mape: 448758.7812\n",
            "Epoch 101/500\n",
            "20/20 [==============================] - 2s 109ms/step - loss: 0.0126 - mean_absolute_error: 0.0720 - mape: 10.4743 - val_loss: 0.0055 - val_mean_absolute_error: 0.0340 - val_mape: 453141.2188\n",
            "Epoch 102/500\n",
            "20/20 [==============================] - 2s 116ms/step - loss: 0.0132 - mean_absolute_error: 0.0766 - mape: 622741.8125 - val_loss: 0.0056 - val_mean_absolute_error: 0.0338 - val_mape: 472213.4375\n",
            "Epoch 103/500\n",
            "20/20 [==============================] - 2s 111ms/step - loss: 0.0070 - mean_absolute_error: 0.0471 - mape: 16.5225 - val_loss: 0.0056 - val_mean_absolute_error: 0.0370 - val_mape: 416116.1250\n",
            "Epoch 104/500\n",
            "20/20 [==============================] - 2s 113ms/step - loss: 0.0123 - mean_absolute_error: 0.0754 - mape: 9.9498 - val_loss: 0.0057 - val_mean_absolute_error: 0.0377 - val_mape: 433559.9688\n",
            "Epoch 105/500\n",
            "20/20 [==============================] - 2s 114ms/step - loss: 0.0102 - mean_absolute_error: 0.0649 - mape: 560129.0625 - val_loss: 0.0060 - val_mean_absolute_error: 0.0412 - val_mape: 471101.1250\n",
            "Epoch 106/500\n",
            "20/20 [==============================] - 2s 112ms/step - loss: 0.0076 - mean_absolute_error: 0.0497 - mape: 12.8870 - val_loss: 0.0065 - val_mean_absolute_error: 0.0426 - val_mape: 60.9075\n",
            "Epoch 107/500\n",
            "20/20 [==============================] - 2s 114ms/step - loss: 0.0132 - mean_absolute_error: 0.0799 - mape: 10.3342 - val_loss: 0.0066 - val_mean_absolute_error: 0.0419 - val_mape: 61.9531\n",
            "Epoch 108/500\n",
            "20/20 [==============================] - 2s 113ms/step - loss: 0.0086 - mean_absolute_error: 0.0526 - mape: 335239.0938 - val_loss: 0.0056 - val_mean_absolute_error: 0.0361 - val_mape: 509523.7500\n",
            "Epoch 109/500\n",
            "20/20 [==============================] - 2s 113ms/step - loss: 0.0085 - mean_absolute_error: 0.0562 - mape: 22.3194 - val_loss: 0.0059 - val_mean_absolute_error: 0.0388 - val_mape: 511100.7188\n",
            "Epoch 110/500\n",
            "20/20 [==============================] - 2s 111ms/step - loss: 0.0139 - mean_absolute_error: 0.0847 - mape: 10.8172 - val_loss: 0.0061 - val_mean_absolute_error: 0.0398 - val_mape: 531194.0625\n",
            "Epoch 111/500\n",
            "20/20 [==============================] - 2s 112ms/step - loss: 0.0068 - mean_absolute_error: 0.0464 - mape: 264019.6875 - val_loss: 0.0052 - val_mean_absolute_error: 0.0339 - val_mape: 470465.9375\n",
            "Epoch 112/500\n",
            "20/20 [==============================] - 2s 113ms/step - loss: 0.0096 - mean_absolute_error: 0.0638 - mape: 9.2259 - val_loss: 0.0055 - val_mean_absolute_error: 0.0357 - val_mape: 490287.2812\n",
            "Epoch 113/500\n",
            "20/20 [==============================] - 2s 111ms/step - loss: 0.0136 - mean_absolute_error: 0.0794 - mape: 511585.7188 - val_loss: 0.0053 - val_mean_absolute_error: 0.0342 - val_mape: 502301.6875\n",
            "Epoch 114/500\n",
            "20/20 [==============================] - 2s 112ms/step - loss: 0.0066 - mean_absolute_error: 0.0429 - mape: 39.0234 - val_loss: 0.0054 - val_mean_absolute_error: 0.0350 - val_mape: 487478.5938\n",
            "Epoch 115/500\n",
            "20/20 [==============================] - 2s 114ms/step - loss: 0.0114 - mean_absolute_error: 0.0729 - mape: 9.7138 - val_loss: 0.0058 - val_mean_absolute_error: 0.0401 - val_mape: 517423.0000\n",
            "Epoch 116/500\n",
            "20/20 [==============================] - 2s 111ms/step - loss: 0.0095 - mean_absolute_error: 0.0602 - mape: 223152.2500 - val_loss: 0.0052 - val_mean_absolute_error: 0.0342 - val_mape: 482776.0312\n",
            "Epoch 117/500\n",
            "20/20 [==============================] - 2s 115ms/step - loss: 0.0065 - mean_absolute_error: 0.0455 - mape: 29.1029 - val_loss: 0.0050 - val_mean_absolute_error: 0.0335 - val_mape: 47.2665\n",
            "Epoch 118/500\n",
            "20/20 [==============================] - 2s 112ms/step - loss: 0.0111 - mean_absolute_error: 0.0724 - mape: 9.3682 - val_loss: 0.0051 - val_mean_absolute_error: 0.0342 - val_mape: 460651.6250\n",
            "Epoch 119/500\n",
            "20/20 [==============================] - 2s 114ms/step - loss: 0.0075 - mean_absolute_error: 0.0493 - mape: 577071.5000 - val_loss: 0.0048 - val_mean_absolute_error: 0.0321 - val_mape: 442243.7812\n",
            "Epoch 120/500\n",
            "20/20 [==============================] - 2s 112ms/step - loss: 0.0087 - mean_absolute_error: 0.0561 - mape: 11.8774 - val_loss: 0.0049 - val_mean_absolute_error: 0.0334 - val_mape: 447712.7812\n",
            "Epoch 121/500\n",
            "20/20 [==============================] - 2s 113ms/step - loss: 0.0122 - mean_absolute_error: 0.0763 - mape: 9.6737 - val_loss: 0.0049 - val_mean_absolute_error: 0.0326 - val_mape: 471957.9375\n",
            "Epoch 122/500\n",
            "20/20 [==============================] - 2s 112ms/step - loss: 0.0071 - mean_absolute_error: 0.0450 - mape: 1189603.1250 - val_loss: 0.0049 - val_mean_absolute_error: 0.0340 - val_mape: 465449.0938\n",
            "Epoch 123/500\n",
            "20/20 [==============================] - 2s 110ms/step - loss: 0.0091 - mean_absolute_error: 0.0632 - mape: 9.0963 - val_loss: 0.0052 - val_mean_absolute_error: 0.0359 - val_mape: 486132.1562\n",
            "Epoch 124/500\n",
            "20/20 [==============================] - 2s 113ms/step - loss: 0.0121 - mean_absolute_error: 0.0732 - mape: 593591.4375 - val_loss: 0.0049 - val_mean_absolute_error: 0.0334 - val_mape: 486443.1875\n",
            "Epoch 125/500\n",
            "20/20 [==============================] - 2s 112ms/step - loss: 0.0059 - mean_absolute_error: 0.0419 - mape: 32.3383 - val_loss: 0.0048 - val_mean_absolute_error: 0.0331 - val_mape: 465442.2812\n",
            "Epoch 126/500\n",
            "20/20 [==============================] - 2s 111ms/step - loss: 0.0103 - mean_absolute_error: 0.0685 - mape: 9.1002 - val_loss: 0.0054 - val_mean_absolute_error: 0.0390 - val_mape: 496002.1562\n",
            "Epoch 127/500\n",
            "20/20 [==============================] - 2s 113ms/step - loss: 0.0109 - mean_absolute_error: 0.0705 - mape: 584754.6250 - val_loss: 0.0049 - val_mean_absolute_error: 0.0354 - val_mape: 442415.3438\n",
            "Epoch 128/500\n",
            "20/20 [==============================] - 2s 112ms/step - loss: 0.0058 - mean_absolute_error: 0.0430 - mape: 8.7103 - val_loss: 0.0044 - val_mean_absolute_error: 0.0323 - val_mape: 377432.6250\n",
            "Epoch 129/500\n",
            "20/20 [==============================] - 2s 115ms/step - loss: 0.0112 - mean_absolute_error: 0.0733 - mape: 9.4541 - val_loss: 0.0044 - val_mean_absolute_error: 0.0324 - val_mape: 397916.4062\n",
            "Epoch 130/500\n",
            "20/20 [==============================] - 2s 112ms/step - loss: 0.0078 - mean_absolute_error: 0.0540 - mape: 101956.8359 - val_loss: 0.0045 - val_mean_absolute_error: 0.0336 - val_mape: 413317.4375\n",
            "Epoch 131/500\n",
            "20/20 [==============================] - 2s 115ms/step - loss: 0.0065 - mean_absolute_error: 0.0491 - mape: 7.7715 - val_loss: 0.0045 - val_mean_absolute_error: 0.0325 - val_mape: 427786.6875\n",
            "Epoch 132/500\n",
            "20/20 [==============================] - 2s 113ms/step - loss: 0.0120 - mean_absolute_error: 0.0782 - mape: 10.0028 - val_loss: 0.0046 - val_mean_absolute_error: 0.0341 - val_mape: 454630.4375\n",
            "Epoch 133/500\n",
            "20/20 [==============================] - 2s 113ms/step - loss: 0.0067 - mean_absolute_error: 0.0484 - mape: 44.0883 - val_loss: 0.0047 - val_mean_absolute_error: 0.0347 - val_mape: 471290.2500\n",
            "Epoch 134/500\n",
            "20/20 [==============================] - 2s 113ms/step - loss: 0.0081 - mean_absolute_error: 0.0583 - mape: 555536.4375 - val_loss: 0.0051 - val_mean_absolute_error: 0.0376 - val_mape: 496147.4375\n",
            "Epoch 135/500\n",
            "20/20 [==============================] - 2s 113ms/step - loss: 0.0095 - mean_absolute_error: 0.0637 - mape: 212459.7812 - val_loss: 0.0050 - val_mean_absolute_error: 0.0374 - val_mape: 494865.9375\n",
            "Epoch 136/500\n",
            "20/20 [==============================] - 2s 112ms/step - loss: 0.0053 - mean_absolute_error: 0.0393 - mape: 16.6132 - val_loss: 0.0043 - val_mean_absolute_error: 0.0324 - val_mape: 439542.7812\n",
            "Epoch 137/500\n",
            "20/20 [==============================] - 2s 112ms/step - loss: 0.0099 - mean_absolute_error: 0.0651 - mape: 8.5132 - val_loss: 0.0047 - val_mean_absolute_error: 0.0347 - val_mape: 468429.9062\n",
            "Epoch 138/500\n",
            "20/20 [==============================] - 2s 112ms/step - loss: 0.0083 - mean_absolute_error: 0.0584 - mape: 166625.2031 - val_loss: 0.0043 - val_mean_absolute_error: 0.0334 - val_mape: 438206.8125\n",
            "Epoch 139/500\n",
            "20/20 [==============================] - 2s 112ms/step - loss: 0.0055 - mean_absolute_error: 0.0411 - mape: 10.8886 - val_loss: 0.0047 - val_mean_absolute_error: 0.0357 - val_mape: 446585.0312\n",
            "Epoch 140/500\n",
            "20/20 [==============================] - 2s 113ms/step - loss: 0.0103 - mean_absolute_error: 0.0697 - mape: 8.9381 - val_loss: 0.0051 - val_mean_absolute_error: 0.0391 - val_mape: 474420.2500\n",
            "Epoch 141/500\n",
            "20/20 [==============================] - 2s 114ms/step - loss: 0.0081 - mean_absolute_error: 0.0536 - mape: 49.8220 - val_loss: 0.0043 - val_mean_absolute_error: 0.0339 - val_mape: 439398.6250\n",
            "Epoch 142/500\n",
            "20/20 [==============================] - 2s 111ms/step - loss: 0.0056 - mean_absolute_error: 0.0442 - mape: 117922.0469 - val_loss: 0.0049 - val_mean_absolute_error: 0.0383 - val_mape: 474513.3438\n",
            "Epoch 143/500\n",
            "20/20 [==============================] - 2s 111ms/step - loss: 0.0099 - mean_absolute_error: 0.0649 - mape: 8.1878 - val_loss: 0.0050 - val_mean_absolute_error: 0.0387 - val_mape: 491130.5312\n",
            "Epoch 144/500\n",
            "20/20 [==============================] - 2s 110ms/step - loss: 0.0062 - mean_absolute_error: 0.0463 - mape: 676966.9375 - val_loss: 0.0041 - val_mean_absolute_error: 0.0326 - val_mape: 430313.1250\n",
            "Epoch 145/500\n",
            "20/20 [==============================] - 2s 115ms/step - loss: 0.0067 - mean_absolute_error: 0.0519 - mape: 7.4478 - val_loss: 0.0055 - val_mean_absolute_error: 0.0451 - val_mape: 52.5962\n",
            "Epoch 146/500\n",
            "20/20 [==============================] - 2s 115ms/step - loss: 0.0090 - mean_absolute_error: 0.0635 - mape: 572976.0000 - val_loss: 0.0052 - val_mean_absolute_error: 0.0419 - val_mape: 478703.2188\n",
            "Epoch 147/500\n",
            "20/20 [==============================] - 2s 113ms/step - loss: 0.0048 - mean_absolute_error: 0.0387 - mape: 15.0479 - val_loss: 0.0039 - val_mean_absolute_error: 0.0310 - val_mape: 385639.3750\n",
            "Epoch 148/500\n",
            "20/20 [==============================] - 2s 112ms/step - loss: 0.0077 - mean_absolute_error: 0.0585 - mape: 7.9055 - val_loss: 0.0043 - val_mean_absolute_error: 0.0339 - val_mape: 418197.8438\n",
            "Epoch 149/500\n",
            "20/20 [==============================] - 2s 112ms/step - loss: 0.0096 - mean_absolute_error: 0.0627 - mape: 527784.4375 - val_loss: 0.0040 - val_mean_absolute_error: 0.0323 - val_mape: 388043.0625\n",
            "Epoch 150/500\n",
            "20/20 [==============================] - 2s 113ms/step - loss: 0.0052 - mean_absolute_error: 0.0403 - mape: 32.1668 - val_loss: 0.0038 - val_mean_absolute_error: 0.0313 - val_mape: 341612.9375\n",
            "Epoch 151/500\n",
            "20/20 [==============================] - 2s 111ms/step - loss: 0.0089 - mean_absolute_error: 0.0630 - mape: 8.0767 - val_loss: 0.0038 - val_mean_absolute_error: 0.0316 - val_mape: 355484.4062\n",
            "Epoch 152/500\n",
            "20/20 [==============================] - 2s 113ms/step - loss: 0.0076 - mean_absolute_error: 0.0542 - mape: 469413.7188 - val_loss: 0.0038 - val_mean_absolute_error: 0.0313 - val_mape: 348767.6875\n",
            "Epoch 153/500\n",
            "20/20 [==============================] - 2s 111ms/step - loss: 0.0056 - mean_absolute_error: 0.0456 - mape: 8.1141 - val_loss: 0.0037 - val_mean_absolute_error: 0.0312 - val_mape: 369803.7812\n",
            "Epoch 154/500\n",
            "20/20 [==============================] - 2s 111ms/step - loss: 0.0095 - mean_absolute_error: 0.0678 - mape: 9.0480 - val_loss: 0.0041 - val_mean_absolute_error: 0.0339 - val_mape: 403000.1875\n",
            "Epoch 155/500\n",
            "20/20 [==============================] - 2s 113ms/step - loss: 0.0067 - mean_absolute_error: 0.0498 - mape: 57464.2578 - val_loss: 0.0036 - val_mean_absolute_error: 0.0306 - val_mape: 362748.5938\n",
            "Epoch 156/500\n",
            "20/20 [==============================] - 2s 111ms/step - loss: 0.0068 - mean_absolute_error: 0.0518 - mape: 7.6344 - val_loss: 0.0037 - val_mean_absolute_error: 0.0316 - val_mape: 381788.4375\n",
            "Epoch 157/500\n",
            "20/20 [==============================] - 2s 112ms/step - loss: 0.0103 - mean_absolute_error: 0.0714 - mape: 286686.0000 - val_loss: 0.0038 - val_mean_absolute_error: 0.0321 - val_mape: 394481.5625\n",
            "Epoch 158/500\n",
            "20/20 [==============================] - 2s 112ms/step - loss: 0.0047 - mean_absolute_error: 0.0395 - mape: 23.9502 - val_loss: 0.0040 - val_mean_absolute_error: 0.0332 - val_mape: 413814.7500\n",
            "Epoch 159/500\n",
            "20/20 [==============================] - 2s 112ms/step - loss: 0.0083 - mean_absolute_error: 0.0610 - mape: 8.0205 - val_loss: 0.0045 - val_mean_absolute_error: 0.0386 - val_mape: 446472.9062\n",
            "Epoch 160/500\n",
            "20/20 [==============================] - 2s 112ms/step - loss: 0.0092 - mean_absolute_error: 0.0612 - mape: 105893.6875 - val_loss: 0.0038 - val_mean_absolute_error: 0.0333 - val_mape: 414483.0625\n",
            "Epoch 161/500\n",
            "20/20 [==============================] - 2s 113ms/step - loss: 0.0044 - mean_absolute_error: 0.0375 - mape: 8.9454 - val_loss: 0.0055 - val_mean_absolute_error: 0.0480 - val_mape: 478752.9375\n",
            "Epoch 162/500\n",
            "20/20 [==============================] - 2s 116ms/step - loss: 0.0086 - mean_absolute_error: 0.0630 - mape: 7.9975 - val_loss: 0.0056 - val_mean_absolute_error: 0.0487 - val_mape: 501153.7188\n",
            "Epoch 163/500\n",
            "20/20 [==============================] - 2s 113ms/step - loss: 0.0065 - mean_absolute_error: 0.0497 - mape: 972281.5625 - val_loss: 0.0038 - val_mean_absolute_error: 0.0336 - val_mape: 422534.6562\n",
            "Epoch 164/500\n",
            "20/20 [==============================] - 2s 113ms/step - loss: 0.0067 - mean_absolute_error: 0.0521 - mape: 32.6290 - val_loss: 0.0056 - val_mean_absolute_error: 0.0497 - val_mape: 489014.0312\n",
            "Epoch 165/500\n",
            "20/20 [==============================] - 2s 113ms/step - loss: 0.0082 - mean_absolute_error: 0.0622 - mape: 7.8557 - val_loss: 0.0052 - val_mean_absolute_error: 0.0452 - val_mape: 503001.1875\n"
          ],
          "name": "stdout"
        }
      ]
    },
    {
      "cell_type": "code",
      "metadata": {
        "id": "Yohc8zuNwWcr",
        "colab": {
          "base_uri": "https://localhost:8080/"
        },
        "outputId": "41993339-31b6-4ee8-e3cc-f761e62894c2"
      },
      "source": [
        "train_data_single"
      ],
      "execution_count": null,
      "outputs": [
        {
          "output_type": "execute_result",
          "data": {
            "text/plain": [
              "<RepeatDataset shapes: ((None, 320, 9), (None,)), types: (tf.float64, tf.float64)>"
            ]
          },
          "metadata": {
            "tags": []
          },
          "execution_count": 36
        }
      ]
    },
    {
      "cell_type": "code",
      "metadata": {
        "id": "ceVemGRBsKdQ"
      },
      "source": [
        "def plot_train_history(history, title):\n",
        "    loss = history.history['loss']\n",
        "    val_loss = history.history['val_loss']\n",
        "\n",
        "    epochs = range(len(loss))\n",
        "\n",
        "    plt.figure()\n",
        "\n",
        "    plt.plot(epochs, loss, 'b', label='Training loss')\n",
        "    plt.plot(epochs, val_loss, 'r', label='Validation loss')\n",
        "    plt.title(title)\n",
        "    plt.legend()\n",
        "\n",
        "    plt.show()"
      ],
      "execution_count": null,
      "outputs": []
    },
    {
      "cell_type": "code",
      "metadata": {
        "id": "cxS1XggxsgIh",
        "colab": {
          "base_uri": "https://localhost:8080/",
          "height": 281
        },
        "outputId": "d39890bb-c426-4e3c-ec50-a90d208fd150"
      },
      "source": [
        "plot_train_history(single_step_history,\n",
        "                   'Single Step Training and validation loss')"
      ],
      "execution_count": null,
      "outputs": [
        {
          "output_type": "display_data",
          "data": {
            "image/png": "[encoded data removed]",
            "text/plain": [
              "<Figure size 432x288 with 1 Axes>"
            ]
          },
          "metadata": {
            "tags": [],
            "needs_background": "light"
          }
        }
      ]
    },
    {
      "cell_type": "code",
      "metadata": {
        "id": "yKMxx9dDs_Sb"
      },
      "source": [
        "def create_time_steps(length):\n",
        "    return list(range(-length, 0))"
      ],
      "execution_count": null,
      "outputs": []
    },
    {
      "cell_type": "code",
      "metadata": {
        "id": "QRl2ONo1sgOH"
      },
      "source": [
        "def show_plot(plot_data, delta, title):\n",
        "    labels = ['History', 'True Future', 'Model Prediction']\n",
        "    marker = ['.-', 'rx', 'go']\n",
        "    time_steps = create_time_steps(plot_data[0].shape[0])\n",
        "    if delta:\n",
        "        future = delta\n",
        "    else:\n",
        "        future = 0\n",
        "\n",
        "    plt.title(title)\n",
        "    for i, x in enumerate(plot_data):\n",
        "        if i:\n",
        "            plt.plot(future, plot_data[i], marker[i], markersize=10,\n",
        "                   label=labels[i])\n",
        "        else:\n",
        "            plt.plot(time_steps, plot_data[i].flatten(), marker[i], label=labels[i])\n",
        "        plt.legend()\n",
        "        plt.xlim([time_steps[0], (future+5)*2])\n",
        "        plt.xlabel('Time-Step')\n",
        "    \n",
        "    return plt"
      ],
      "execution_count": null,
      "outputs": []
    },
    {
      "cell_type": "code",
      "metadata": {
        "id": "QCgMFgoMsgLP",
        "colab": {
          "base_uri": "https://localhost:8080/",
          "height": 851
        },
        "outputId": "ed75b646-019a-421e-ba51-dfbc262dfaff"
      },
      "source": [
        "for x, y in val_data_single.take(3):\n",
        "    plot = show_plot([x[0][:, 1].numpy(), y[0].numpy(),\n",
        "                    single_step_model.predict(x)[0]], 2,\n",
        "                   'Single Step Prediction')\n",
        "    plot.show()"
      ],
      "execution_count": null,
      "outputs": [
        {
          "output_type": "display_data",
          "data": {
            "image/png": "[encoded data removed]",
            "text/plain": [
              "<Figure size 432x288 with 1 Axes>"
            ]
          },
          "metadata": {
            "tags": [],
            "needs_background": "light"
          }
        },
        {
          "output_type": "display_data",
          "data": {
            "image/png": "[encoded data removed]",
            "text/plain": [
              "<Figure size 432x288 with 1 Axes>"
            ]
          },
          "metadata": {
            "tags": [],
            "needs_background": "light"
          }
        },
        {
          "output_type": "display_data",
          "data": {
            "image/png": "[encoded data removed]",
            "text/plain": [
              "<Figure size 432x288 with 1 Axes>"
            ]
          },
          "metadata": {
            "tags": [],
            "needs_background": "light"
          }
        }
      ]
    },
    {
      "cell_type": "markdown",
      "metadata": {
        "id": "-IVxVsl6yZPn"
      },
      "source": [
        "*How good is this prediction?*\n",
        "\n",
        "Loss is the penalty for a bad prediction. That is, loss is a number indicating how bad the model's prediction was on a single example. If the model's prediction is perfect, the loss is zero; otherwise, the loss is greater.\n",
        "\n",
        "With time series data it is more difficult to cross validate a model as we have to be cautious of temporal leakage. That is, the model uses past information to make predictions, therefore we cannot use k-fold validation or we would lose prediction power in the model. \n",
        "\n",
        "I will use Blocking Cross Validation to measure how well the model is performing. It works by adding margins at two positions. The first is between the training and validation folds in order to prevent the model from observing lag values which are used twice, once as a regressor and another as a response. The second is between the folds used at each iteration in order to prevent the model from memorizing patterns from an iteration to the next.\n",
        "\n"
      ]
    },
    {
      "cell_type": "code",
      "metadata": {
        "id": "aEv7h4cATdwJ"
      },
      "source": [
        "# Blocking Cross Validation\n",
        "n_splits = 10\n",
        "X = dataset[:,1:]\n",
        "y= dataset[:,0]\n",
        "\n",
        "class BlockingTimeSeriesSplit():\n",
        "    def __init__(self, n_splits):\n",
        "        self.n_splits = n_splits\n",
        "    \n",
        "    def get_n_splits(self, X, y, groups):\n",
        "        return self.n_splits\n",
        "    \n",
        "    def split(self, X, y=None, groups=None):\n",
        "        n_samples = len(X)\n",
        "        k_fold_size = n_samples // self.n_splits\n",
        "        indices = np.arange(n_samples)\n",
        "\n",
        "        margin = 0\n",
        "        for i in range(self.n_splits):\n",
        "            start = i * k_fold_size\n",
        "            stop = start + k_fold_size\n",
        "            mid = int(0.5 * (stop - start)) + start\n",
        "            yield indices[start: mid], indices[mid + margin: stop]\n",
        "\n",
        "# Keras Wrapper\n",
        "from keras.wrappers.scikit_learn import KerasClassifier\n",
        "def create_model():\n",
        "  single_step_model = tf.keras.models.Sequential()\n",
        "  single_step_model.add(tf.keras.layers.LSTM(4,    # Capacity best out of:2, 8, 32\n",
        "                                           kernel_regularizer = regularizers.l2(0.001), # Regularization - fight overfitting - is this correct?\n",
        "                                           input_shape=x_train_single.shape[-2:]))    # LSTM layer with 4 outputs and input shape of x_train_single.shape[-2:]\n",
        "  single_step_model.add(tf.keras.layers.Dropout(0.2))   # Add dropout rate\n",
        "  single_step_model.add(tf.keras.layers.Dense(1)) # \n",
        "  single_step_model.compile(optimizer=tf.keras.optimizers.RMSprop(), loss='mean_squared_error',  metrics=['mean_absolute_error', 'mape']) \n",
        "  return single_step_model\n"
      ],
      "execution_count": null,
      "outputs": []
    },
    {
      "cell_type": "code",
      "metadata": {
        "id": "6Y4cqG9FjU44",
        "colab": {
          "base_uri": "https://localhost:8080/"
        },
        "outputId": "b6343053-885a-4c02-b3ab-7c83340d73e8"
      },
      "source": [
        "single_step_model = KerasClassifier(build_fn=create_model)\n",
        "btscv = BlockingTimeSeriesSplit(n_splits=10)    # Or should I use TimeSeriesSplit?\n",
        "mse= -cross_val_score(single_step_model, x_train_single, y_train_single, cv=btscv, scoring='neg_mean_squared_error')\n",
        "mae = -cross_val_score(single_step_model, x_train_single, y_train_single, cv=btscv, scoring='neg_mean_absolute_error')\n",
        "#mape = -cross_val_score(single_step_model, x_train_single, y_train_single, cv=btscv, scoring='neg_mean_absolute_percentage_error') How do I get the MAPE?"
      ],
      "execution_count": null,
      "outputs": [
        {
          "output_type": "stream",
          "text": [
            "2/2 [==============================] - 2s 95ms/step - loss: 641.4139 - mean_absolute_error: 21.7650 - mape: 6490835.0000\n"
          ],
          "name": "stdout"
        },
        {
          "output_type": "stream",
          "text": [
            "/usr/local/lib/python3.7/dist-packages/tensorflow/python/keras/engine/sequential.py:455: UserWarning: `model.predict_classes()` is deprecated and will be removed after 2021-01-01. Please use instead:* `np.argmax(model.predict(x), axis=-1)`,   if your model does multi-class classification   (e.g. if it uses a `softmax` last-layer activation).* `(model.predict(x) > 0.5).astype(\"int32\")`,   if your model does binary classification   (e.g. if it uses a `sigmoid` last-layer activation).\n",
            "  warnings.warn('`model.predict_classes()` is deprecated and '\n"
          ],
          "name": "stderr"
        },
        {
          "output_type": "stream",
          "text": [
            "2/2 [==============================] - 2s 103ms/step - loss: 628.4930 - mean_absolute_error: 21.6862 - mape: 1791228.7500\n"
          ],
          "name": "stdout"
        },
        {
          "output_type": "stream",
          "text": [
            "/usr/local/lib/python3.7/dist-packages/tensorflow/python/keras/engine/sequential.py:455: UserWarning: `model.predict_classes()` is deprecated and will be removed after 2021-01-01. Please use instead:* `np.argmax(model.predict(x), axis=-1)`,   if your model does multi-class classification   (e.g. if it uses a `softmax` last-layer activation).* `(model.predict(x) > 0.5).astype(\"int32\")`,   if your model does binary classification   (e.g. if it uses a `sigmoid` last-layer activation).\n",
            "  warnings.warn('`model.predict_classes()` is deprecated and '\n"
          ],
          "name": "stderr"
        },
        {
          "output_type": "stream",
          "text": [
            "2/2 [==============================] - 2s 96ms/step - loss: 630.8304 - mean_absolute_error: 21.7382 - mape: 8707141.0000\n"
          ],
          "name": "stdout"
        },
        {
          "output_type": "stream",
          "text": [
            "/usr/local/lib/python3.7/dist-packages/tensorflow/python/keras/engine/sequential.py:455: UserWarning: `model.predict_classes()` is deprecated and will be removed after 2021-01-01. Please use instead:* `np.argmax(model.predict(x), axis=-1)`,   if your model does multi-class classification   (e.g. if it uses a `softmax` last-layer activation).* `(model.predict(x) > 0.5).astype(\"int32\")`,   if your model does binary classification   (e.g. if it uses a `sigmoid` last-layer activation).\n",
            "  warnings.warn('`model.predict_classes()` is deprecated and '\n"
          ],
          "name": "stderr"
        },
        {
          "output_type": "stream",
          "text": [
            "2/2 [==============================] - 2s 93ms/step - loss: 596.1930 - mean_absolute_error: 20.9018 - mape: 10296908.0000\n"
          ],
          "name": "stdout"
        },
        {
          "output_type": "stream",
          "text": [
            "/usr/local/lib/python3.7/dist-packages/tensorflow/python/keras/engine/sequential.py:455: UserWarning: `model.predict_classes()` is deprecated and will be removed after 2021-01-01. Please use instead:* `np.argmax(model.predict(x), axis=-1)`,   if your model does multi-class classification   (e.g. if it uses a `softmax` last-layer activation).* `(model.predict(x) > 0.5).astype(\"int32\")`,   if your model does binary classification   (e.g. if it uses a `sigmoid` last-layer activation).\n",
            "  warnings.warn('`model.predict_classes()` is deprecated and '\n"
          ],
          "name": "stderr"
        },
        {
          "output_type": "stream",
          "text": [
            "2/2 [==============================] - 2s 103ms/step - loss: 657.9388 - mean_absolute_error: 22.1187 - mape: 3843534.2500\n"
          ],
          "name": "stdout"
        },
        {
          "output_type": "stream",
          "text": [
            "/usr/local/lib/python3.7/dist-packages/tensorflow/python/keras/engine/sequential.py:455: UserWarning: `model.predict_classes()` is deprecated and will be removed after 2021-01-01. Please use instead:* `np.argmax(model.predict(x), axis=-1)`,   if your model does multi-class classification   (e.g. if it uses a `softmax` last-layer activation).* `(model.predict(x) > 0.5).astype(\"int32\")`,   if your model does binary classification   (e.g. if it uses a `sigmoid` last-layer activation).\n",
            "  warnings.warn('`model.predict_classes()` is deprecated and '\n"
          ],
          "name": "stderr"
        },
        {
          "output_type": "stream",
          "text": [
            "2/2 [==============================] - 3s 92ms/step - loss: 632.3392 - mean_absolute_error: 21.5781 - mape: 2183943.7500\n"
          ],
          "name": "stdout"
        },
        {
          "output_type": "stream",
          "text": [
            "/usr/local/lib/python3.7/dist-packages/tensorflow/python/keras/engine/sequential.py:455: UserWarning: `model.predict_classes()` is deprecated and will be removed after 2021-01-01. Please use instead:* `np.argmax(model.predict(x), axis=-1)`,   if your model does multi-class classification   (e.g. if it uses a `softmax` last-layer activation).* `(model.predict(x) > 0.5).astype(\"int32\")`,   if your model does binary classification   (e.g. if it uses a `sigmoid` last-layer activation).\n",
            "  warnings.warn('`model.predict_classes()` is deprecated and '\n"
          ],
          "name": "stderr"
        },
        {
          "output_type": "stream",
          "text": [
            "2/2 [==============================] - 2s 94ms/step - loss: 657.0968 - mean_absolute_error: 22.1083 - mape: 3296346.7500\n"
          ],
          "name": "stdout"
        },
        {
          "output_type": "stream",
          "text": [
            "/usr/local/lib/python3.7/dist-packages/tensorflow/python/keras/engine/sequential.py:455: UserWarning: `model.predict_classes()` is deprecated and will be removed after 2021-01-01. Please use instead:* `np.argmax(model.predict(x), axis=-1)`,   if your model does multi-class classification   (e.g. if it uses a `softmax` last-layer activation).* `(model.predict(x) > 0.5).astype(\"int32\")`,   if your model does binary classification   (e.g. if it uses a `sigmoid` last-layer activation).\n",
            "  warnings.warn('`model.predict_classes()` is deprecated and '\n"
          ],
          "name": "stderr"
        },
        {
          "output_type": "stream",
          "text": [
            "2/2 [==============================] - 2s 96ms/step - loss: 623.8106 - mean_absolute_error: 21.5832 - mape: 4166227.2500\n"
          ],
          "name": "stdout"
        },
        {
          "output_type": "stream",
          "text": [
            "/usr/local/lib/python3.7/dist-packages/tensorflow/python/keras/engine/sequential.py:455: UserWarning: `model.predict_classes()` is deprecated and will be removed after 2021-01-01. Please use instead:* `np.argmax(model.predict(x), axis=-1)`,   if your model does multi-class classification   (e.g. if it uses a `softmax` last-layer activation).* `(model.predict(x) > 0.5).astype(\"int32\")`,   if your model does binary classification   (e.g. if it uses a `sigmoid` last-layer activation).\n",
            "  warnings.warn('`model.predict_classes()` is deprecated and '\n"
          ],
          "name": "stderr"
        },
        {
          "output_type": "stream",
          "text": [
            "2/2 [==============================] - 2s 95ms/step - loss: 630.7447 - mean_absolute_error: 21.5181 - mape: 12311239.0000\n"
          ],
          "name": "stdout"
        },
        {
          "output_type": "stream",
          "text": [
            "/usr/local/lib/python3.7/dist-packages/tensorflow/python/keras/engine/sequential.py:455: UserWarning: `model.predict_classes()` is deprecated and will be removed after 2021-01-01. Please use instead:* `np.argmax(model.predict(x), axis=-1)`,   if your model does multi-class classification   (e.g. if it uses a `softmax` last-layer activation).* `(model.predict(x) > 0.5).astype(\"int32\")`,   if your model does binary classification   (e.g. if it uses a `sigmoid` last-layer activation).\n",
            "  warnings.warn('`model.predict_classes()` is deprecated and '\n"
          ],
          "name": "stderr"
        },
        {
          "output_type": "stream",
          "text": [
            "2/2 [==============================] - 2s 97ms/step - loss: 671.8548 - mean_absolute_error: 22.4164 - mape: 9091911.0000\n"
          ],
          "name": "stdout"
        },
        {
          "output_type": "stream",
          "text": [
            "/usr/local/lib/python3.7/dist-packages/tensorflow/python/keras/engine/sequential.py:455: UserWarning: `model.predict_classes()` is deprecated and will be removed after 2021-01-01. Please use instead:* `np.argmax(model.predict(x), axis=-1)`,   if your model does multi-class classification   (e.g. if it uses a `softmax` last-layer activation).* `(model.predict(x) > 0.5).astype(\"int32\")`,   if your model does binary classification   (e.g. if it uses a `sigmoid` last-layer activation).\n",
            "  warnings.warn('`model.predict_classes()` is deprecated and '\n"
          ],
          "name": "stderr"
        },
        {
          "output_type": "stream",
          "text": [
            "2/2 [==============================] - 2s 98ms/step - loss: 661.0768 - mean_absolute_error: 22.2118 - mape: 5644695.0000\n"
          ],
          "name": "stdout"
        },
        {
          "output_type": "stream",
          "text": [
            "/usr/local/lib/python3.7/dist-packages/tensorflow/python/keras/engine/sequential.py:455: UserWarning: `model.predict_classes()` is deprecated and will be removed after 2021-01-01. Please use instead:* `np.argmax(model.predict(x), axis=-1)`,   if your model does multi-class classification   (e.g. if it uses a `softmax` last-layer activation).* `(model.predict(x) > 0.5).astype(\"int32\")`,   if your model does binary classification   (e.g. if it uses a `sigmoid` last-layer activation).\n",
            "  warnings.warn('`model.predict_classes()` is deprecated and '\n"
          ],
          "name": "stderr"
        },
        {
          "output_type": "stream",
          "text": [
            "2/2 [==============================] - 2s 101ms/step - loss: 628.9359 - mean_absolute_error: 21.6788 - mape: 3556197.0000\n"
          ],
          "name": "stdout"
        },
        {
          "output_type": "stream",
          "text": [
            "/usr/local/lib/python3.7/dist-packages/tensorflow/python/keras/engine/sequential.py:455: UserWarning: `model.predict_classes()` is deprecated and will be removed after 2021-01-01. Please use instead:* `np.argmax(model.predict(x), axis=-1)`,   if your model does multi-class classification   (e.g. if it uses a `softmax` last-layer activation).* `(model.predict(x) > 0.5).astype(\"int32\")`,   if your model does binary classification   (e.g. if it uses a `sigmoid` last-layer activation).\n",
            "  warnings.warn('`model.predict_classes()` is deprecated and '\n"
          ],
          "name": "stderr"
        },
        {
          "output_type": "stream",
          "text": [
            "2/2 [==============================] - 3s 99ms/step - loss: 651.2943 - mean_absolute_error: 22.2018 - mape: 18659134.0000\n"
          ],
          "name": "stdout"
        },
        {
          "output_type": "stream",
          "text": [
            "/usr/local/lib/python3.7/dist-packages/tensorflow/python/keras/engine/sequential.py:455: UserWarning: `model.predict_classes()` is deprecated and will be removed after 2021-01-01. Please use instead:* `np.argmax(model.predict(x), axis=-1)`,   if your model does multi-class classification   (e.g. if it uses a `softmax` last-layer activation).* `(model.predict(x) > 0.5).astype(\"int32\")`,   if your model does binary classification   (e.g. if it uses a `sigmoid` last-layer activation).\n",
            "  warnings.warn('`model.predict_classes()` is deprecated and '\n"
          ],
          "name": "stderr"
        },
        {
          "output_type": "stream",
          "text": [
            "2/2 [==============================] - 2s 104ms/step - loss: 604.9247 - mean_absolute_error: 21.0988 - mape: 3722617.0000\n"
          ],
          "name": "stdout"
        },
        {
          "output_type": "stream",
          "text": [
            "/usr/local/lib/python3.7/dist-packages/tensorflow/python/keras/engine/sequential.py:455: UserWarning: `model.predict_classes()` is deprecated and will be removed after 2021-01-01. Please use instead:* `np.argmax(model.predict(x), axis=-1)`,   if your model does multi-class classification   (e.g. if it uses a `softmax` last-layer activation).* `(model.predict(x) > 0.5).astype(\"int32\")`,   if your model does binary classification   (e.g. if it uses a `sigmoid` last-layer activation).\n",
            "  warnings.warn('`model.predict_classes()` is deprecated and '\n"
          ],
          "name": "stderr"
        },
        {
          "output_type": "stream",
          "text": [
            "2/2 [==============================] - 2s 98ms/step - loss: 648.0346 - mean_absolute_error: 21.8773 - mape: 5144438.5000\n"
          ],
          "name": "stdout"
        },
        {
          "output_type": "stream",
          "text": [
            "/usr/local/lib/python3.7/dist-packages/tensorflow/python/keras/engine/sequential.py:455: UserWarning: `model.predict_classes()` is deprecated and will be removed after 2021-01-01. Please use instead:* `np.argmax(model.predict(x), axis=-1)`,   if your model does multi-class classification   (e.g. if it uses a `softmax` last-layer activation).* `(model.predict(x) > 0.5).astype(\"int32\")`,   if your model does binary classification   (e.g. if it uses a `sigmoid` last-layer activation).\n",
            "  warnings.warn('`model.predict_classes()` is deprecated and '\n"
          ],
          "name": "stderr"
        },
        {
          "output_type": "stream",
          "text": [
            "2/2 [==============================] - 2s 93ms/step - loss: 637.5922 - mean_absolute_error: 21.6681 - mape: 4912370.0000\n"
          ],
          "name": "stdout"
        },
        {
          "output_type": "stream",
          "text": [
            "/usr/local/lib/python3.7/dist-packages/tensorflow/python/keras/engine/sequential.py:455: UserWarning: `model.predict_classes()` is deprecated and will be removed after 2021-01-01. Please use instead:* `np.argmax(model.predict(x), axis=-1)`,   if your model does multi-class classification   (e.g. if it uses a `softmax` last-layer activation).* `(model.predict(x) > 0.5).astype(\"int32\")`,   if your model does binary classification   (e.g. if it uses a `sigmoid` last-layer activation).\n",
            "  warnings.warn('`model.predict_classes()` is deprecated and '\n"
          ],
          "name": "stderr"
        },
        {
          "output_type": "stream",
          "text": [
            "2/2 [==============================] - 2s 102ms/step - loss: 641.3688 - mean_absolute_error: 21.7336 - mape: 11791095.0000\n"
          ],
          "name": "stdout"
        },
        {
          "output_type": "stream",
          "text": [
            "/usr/local/lib/python3.7/dist-packages/tensorflow/python/keras/engine/sequential.py:455: UserWarning: `model.predict_classes()` is deprecated and will be removed after 2021-01-01. Please use instead:* `np.argmax(model.predict(x), axis=-1)`,   if your model does multi-class classification   (e.g. if it uses a `softmax` last-layer activation).* `(model.predict(x) > 0.5).astype(\"int32\")`,   if your model does binary classification   (e.g. if it uses a `sigmoid` last-layer activation).\n",
            "  warnings.warn('`model.predict_classes()` is deprecated and '\n"
          ],
          "name": "stderr"
        },
        {
          "output_type": "stream",
          "text": [
            "2/2 [==============================] - 2s 91ms/step - loss: 644.9628 - mean_absolute_error: 22.0628 - mape: 12636352.0000\n"
          ],
          "name": "stdout"
        },
        {
          "output_type": "stream",
          "text": [
            "/usr/local/lib/python3.7/dist-packages/tensorflow/python/keras/engine/sequential.py:455: UserWarning: `model.predict_classes()` is deprecated and will be removed after 2021-01-01. Please use instead:* `np.argmax(model.predict(x), axis=-1)`,   if your model does multi-class classification   (e.g. if it uses a `softmax` last-layer activation).* `(model.predict(x) > 0.5).astype(\"int32\")`,   if your model does binary classification   (e.g. if it uses a `sigmoid` last-layer activation).\n",
            "  warnings.warn('`model.predict_classes()` is deprecated and '\n"
          ],
          "name": "stderr"
        },
        {
          "output_type": "stream",
          "text": [
            "2/2 [==============================] - 2s 95ms/step - loss: 653.9515 - mean_absolute_error: 22.0180 - mape: 550652.3750\n"
          ],
          "name": "stdout"
        },
        {
          "output_type": "stream",
          "text": [
            "/usr/local/lib/python3.7/dist-packages/tensorflow/python/keras/engine/sequential.py:455: UserWarning: `model.predict_classes()` is deprecated and will be removed after 2021-01-01. Please use instead:* `np.argmax(model.predict(x), axis=-1)`,   if your model does multi-class classification   (e.g. if it uses a `softmax` last-layer activation).* `(model.predict(x) > 0.5).astype(\"int32\")`,   if your model does binary classification   (e.g. if it uses a `sigmoid` last-layer activation).\n",
            "  warnings.warn('`model.predict_classes()` is deprecated and '\n"
          ],
          "name": "stderr"
        },
        {
          "output_type": "stream",
          "text": [
            "2/2 [==============================] - 3s 96ms/step - loss: 672.0934 - mean_absolute_error: 22.4641 - mape: 14005009.0000\n"
          ],
          "name": "stdout"
        },
        {
          "output_type": "stream",
          "text": [
            "/usr/local/lib/python3.7/dist-packages/tensorflow/python/keras/engine/sequential.py:455: UserWarning: `model.predict_classes()` is deprecated and will be removed after 2021-01-01. Please use instead:* `np.argmax(model.predict(x), axis=-1)`,   if your model does multi-class classification   (e.g. if it uses a `softmax` last-layer activation).* `(model.predict(x) > 0.5).astype(\"int32\")`,   if your model does binary classification   (e.g. if it uses a `sigmoid` last-layer activation).\n",
            "  warnings.warn('`model.predict_classes()` is deprecated and '\n"
          ],
          "name": "stderr"
        }
      ]
    },
    {
      "cell_type": "code",
      "metadata": {
        "id": "gHw9kbs8soAz",
        "colab": {
          "base_uri": "https://localhost:8080/"
        },
        "outputId": "4b333abf-db65-46bf-d303-1ebd77f76d82"
      },
      "source": [
        "#TimeSeries Split\n",
        "from sklearn.model_selection import TimeSeriesSplit\n",
        "from sklearn.model_selection import KFold\n",
        "single_step_model = KerasClassifier(build_fn=create_model)\n",
        "tscv = TimeSeriesSplit(n_splits=10)\n",
        "mse= -cross_val_score(single_step_model, x_train_single, y_train_single, cv=tscv, scoring='neg_mean_squared_error')\n",
        "mae = -cross_val_score(single_step_model, x_train_single, y_train_single, cv=tscv, scoring='neg_mean_absolute_error')\n",
        "#R2 = cross_val_score(model, X_train, y_train, cv=tscv, scoring='r2')\n",
        "\n",
        "print(f\"MSE: {mse.mean()} (+/- {mse.std()}\")\n",
        "#print(f\"\\nR2: {R2.mean()} (+/- {R2.std()}\")"
      ],
      "execution_count": null,
      "outputs": [
        {
          "output_type": "stream",
          "text": [
            "3/3 [==============================] - 2s 103ms/step - loss: 2635.6409 - mean_absolute_error: 44.4175 - mape: 4709599.5000\n"
          ],
          "name": "stdout"
        },
        {
          "output_type": "stream",
          "text": [
            "/usr/local/lib/python3.7/dist-packages/tensorflow/python/keras/engine/sequential.py:455: UserWarning: `model.predict_classes()` is deprecated and will be removed after 2021-01-01. Please use instead:* `np.argmax(model.predict(x), axis=-1)`,   if your model does multi-class classification   (e.g. if it uses a `softmax` last-layer activation).* `(model.predict(x) > 0.5).astype(\"int32\")`,   if your model does binary classification   (e.g. if it uses a `sigmoid` last-layer activation).\n",
            "  warnings.warn('`model.predict_classes()` is deprecated and '\n"
          ],
          "name": "stderr"
        },
        {
          "output_type": "stream",
          "text": [
            "6/6 [==============================] - 3s 99ms/step - loss: 9755.7881 - mean_absolute_error: 85.5578 - mape: 2131028.2500\n"
          ],
          "name": "stdout"
        },
        {
          "output_type": "stream",
          "text": [
            "/usr/local/lib/python3.7/dist-packages/tensorflow/python/keras/engine/sequential.py:455: UserWarning: `model.predict_classes()` is deprecated and will be removed after 2021-01-01. Please use instead:* `np.argmax(model.predict(x), axis=-1)`,   if your model does multi-class classification   (e.g. if it uses a `softmax` last-layer activation).* `(model.predict(x) > 0.5).astype(\"int32\")`,   if your model does binary classification   (e.g. if it uses a `sigmoid` last-layer activation).\n",
            "  warnings.warn('`model.predict_classes()` is deprecated and '\n"
          ],
          "name": "stderr"
        },
        {
          "output_type": "stream",
          "text": [
            "8/8 [==============================] - 3s 98ms/step - loss: 21253.2129 - mean_absolute_error: 126.4039 - mape: 1679955.0000\n"
          ],
          "name": "stdout"
        },
        {
          "output_type": "stream",
          "text": [
            "/usr/local/lib/python3.7/dist-packages/tensorflow/python/keras/engine/sequential.py:455: UserWarning: `model.predict_classes()` is deprecated and will be removed after 2021-01-01. Please use instead:* `np.argmax(model.predict(x), axis=-1)`,   if your model does multi-class classification   (e.g. if it uses a `softmax` last-layer activation).* `(model.predict(x) > 0.5).astype(\"int32\")`,   if your model does binary classification   (e.g. if it uses a `sigmoid` last-layer activation).\n",
            "  warnings.warn('`model.predict_classes()` is deprecated and '\n"
          ],
          "name": "stderr"
        },
        {
          "output_type": "stream",
          "text": [
            "11/11 [==============================] - 3s 103ms/step - loss: 36856.2578 - mean_absolute_error: 166.4999 - mape: 156039.8281\n"
          ],
          "name": "stdout"
        },
        {
          "output_type": "stream",
          "text": [
            "/usr/local/lib/python3.7/dist-packages/tensorflow/python/keras/engine/sequential.py:455: UserWarning: `model.predict_classes()` is deprecated and will be removed after 2021-01-01. Please use instead:* `np.argmax(model.predict(x), axis=-1)`,   if your model does multi-class classification   (e.g. if it uses a `softmax` last-layer activation).* `(model.predict(x) > 0.5).astype(\"int32\")`,   if your model does binary classification   (e.g. if it uses a `sigmoid` last-layer activation).\n",
            "  warnings.warn('`model.predict_classes()` is deprecated and '\n"
          ],
          "name": "stderr"
        },
        {
          "output_type": "stream",
          "text": [
            "14/14 [==============================] - 3s 97ms/step - loss: 56954.4805 - mean_absolute_error: 206.9261 - mape: 765976.1250\n"
          ],
          "name": "stdout"
        },
        {
          "output_type": "stream",
          "text": [
            "/usr/local/lib/python3.7/dist-packages/tensorflow/python/keras/engine/sequential.py:455: UserWarning: `model.predict_classes()` is deprecated and will be removed after 2021-01-01. Please use instead:* `np.argmax(model.predict(x), axis=-1)`,   if your model does multi-class classification   (e.g. if it uses a `softmax` last-layer activation).* `(model.predict(x) > 0.5).astype(\"int32\")`,   if your model does binary classification   (e.g. if it uses a `sigmoid` last-layer activation).\n",
            "  warnings.warn('`model.predict_classes()` is deprecated and '\n"
          ],
          "name": "stderr"
        },
        {
          "output_type": "stream",
          "text": [
            "16/16 [==============================] - 4s 102ms/step - loss: 81053.6797 - mean_absolute_error: 246.7818 - mape: 130758.0156\n"
          ],
          "name": "stdout"
        },
        {
          "output_type": "stream",
          "text": [
            "/usr/local/lib/python3.7/dist-packages/tensorflow/python/keras/engine/sequential.py:455: UserWarning: `model.predict_classes()` is deprecated and will be removed after 2021-01-01. Please use instead:* `np.argmax(model.predict(x), axis=-1)`,   if your model does multi-class classification   (e.g. if it uses a `softmax` last-layer activation).* `(model.predict(x) > 0.5).astype(\"int32\")`,   if your model does binary classification   (e.g. if it uses a `sigmoid` last-layer activation).\n",
            "  warnings.warn('`model.predict_classes()` is deprecated and '\n"
          ],
          "name": "stderr"
        },
        {
          "output_type": "stream",
          "text": [
            "19/19 [==============================] - 4s 96ms/step - loss: 110344.6172 - mean_absolute_error: 288.1127 - mape: 413889.1875\n"
          ],
          "name": "stdout"
        },
        {
          "output_type": "stream",
          "text": [
            "/usr/local/lib/python3.7/dist-packages/tensorflow/python/keras/engine/sequential.py:455: UserWarning: `model.predict_classes()` is deprecated and will be removed after 2021-01-01. Please use instead:* `np.argmax(model.predict(x), axis=-1)`,   if your model does multi-class classification   (e.g. if it uses a `softmax` last-layer activation).* `(model.predict(x) > 0.5).astype(\"int32\")`,   if your model does binary classification   (e.g. if it uses a `sigmoid` last-layer activation).\n",
            "  warnings.warn('`model.predict_classes()` is deprecated and '\n"
          ],
          "name": "stderr"
        },
        {
          "output_type": "stream",
          "text": [
            "21/21 [==============================] - 4s 98ms/step - loss: 142685.6094 - mean_absolute_error: 327.6974 - mape: 61465.0742\n"
          ],
          "name": "stdout"
        },
        {
          "output_type": "stream",
          "text": [
            "/usr/local/lib/python3.7/dist-packages/tensorflow/python/keras/engine/sequential.py:455: UserWarning: `model.predict_classes()` is deprecated and will be removed after 2021-01-01. Please use instead:* `np.argmax(model.predict(x), axis=-1)`,   if your model does multi-class classification   (e.g. if it uses a `softmax` last-layer activation).* `(model.predict(x) > 0.5).astype(\"int32\")`,   if your model does binary classification   (e.g. if it uses a `sigmoid` last-layer activation).\n",
            "  warnings.warn('`model.predict_classes()` is deprecated and '\n"
          ],
          "name": "stderr"
        },
        {
          "output_type": "stream",
          "text": [
            "24/24 [==============================] - 5s 97ms/step - loss: 178772.5312 - mean_absolute_error: 367.1086 - mape: 54338.8633\n"
          ],
          "name": "stdout"
        },
        {
          "output_type": "stream",
          "text": [
            "/usr/local/lib/python3.7/dist-packages/tensorflow/python/keras/engine/sequential.py:455: UserWarning: `model.predict_classes()` is deprecated and will be removed after 2021-01-01. Please use instead:* `np.argmax(model.predict(x), axis=-1)`,   if your model does multi-class classification   (e.g. if it uses a `softmax` last-layer activation).* `(model.predict(x) > 0.5).astype(\"int32\")`,   if your model does binary classification   (e.g. if it uses a `sigmoid` last-layer activation).\n",
            "  warnings.warn('`model.predict_classes()` is deprecated and '\n"
          ],
          "name": "stderr"
        },
        {
          "output_type": "stream",
          "text": [
            "27/27 [==============================] - 5s 100ms/step - loss: 218625.4375 - mean_absolute_error: 406.2292 - mape: 259403.2969\n"
          ],
          "name": "stdout"
        },
        {
          "output_type": "stream",
          "text": [
            "/usr/local/lib/python3.7/dist-packages/tensorflow/python/keras/engine/sequential.py:455: UserWarning: `model.predict_classes()` is deprecated and will be removed after 2021-01-01. Please use instead:* `np.argmax(model.predict(x), axis=-1)`,   if your model does multi-class classification   (e.g. if it uses a `softmax` last-layer activation).* `(model.predict(x) > 0.5).astype(\"int32\")`,   if your model does binary classification   (e.g. if it uses a `sigmoid` last-layer activation).\n",
            "  warnings.warn('`model.predict_classes()` is deprecated and '\n"
          ],
          "name": "stderr"
        },
        {
          "output_type": "stream",
          "text": [
            "3/3 [==============================] - 2s 98ms/step - loss: 2606.1108 - mean_absolute_error: 44.0784 - mape: 7976.7432\n"
          ],
          "name": "stdout"
        },
        {
          "output_type": "stream",
          "text": [
            "/usr/local/lib/python3.7/dist-packages/tensorflow/python/keras/engine/sequential.py:455: UserWarning: `model.predict_classes()` is deprecated and will be removed after 2021-01-01. Please use instead:* `np.argmax(model.predict(x), axis=-1)`,   if your model does multi-class classification   (e.g. if it uses a `softmax` last-layer activation).* `(model.predict(x) > 0.5).astype(\"int32\")`,   if your model does binary classification   (e.g. if it uses a `sigmoid` last-layer activation).\n",
            "  warnings.warn('`model.predict_classes()` is deprecated and '\n"
          ],
          "name": "stderr"
        },
        {
          "output_type": "stream",
          "text": [
            "6/6 [==============================] - 3s 96ms/step - loss: 9710.1738 - mean_absolute_error: 85.2257 - mape: 594792.1250\n"
          ],
          "name": "stdout"
        },
        {
          "output_type": "stream",
          "text": [
            "/usr/local/lib/python3.7/dist-packages/tensorflow/python/keras/engine/sequential.py:455: UserWarning: `model.predict_classes()` is deprecated and will be removed after 2021-01-01. Please use instead:* `np.argmax(model.predict(x), axis=-1)`,   if your model does multi-class classification   (e.g. if it uses a `softmax` last-layer activation).* `(model.predict(x) > 0.5).astype(\"int32\")`,   if your model does binary classification   (e.g. if it uses a `sigmoid` last-layer activation).\n",
            "  warnings.warn('`model.predict_classes()` is deprecated and '\n"
          ],
          "name": "stderr"
        },
        {
          "output_type": "stream",
          "text": [
            "8/8 [==============================] - 3s 98ms/step - loss: 21058.6602 - mean_absolute_error: 125.6952 - mape: 680016.6250\n"
          ],
          "name": "stdout"
        },
        {
          "output_type": "stream",
          "text": [
            "/usr/local/lib/python3.7/dist-packages/tensorflow/python/keras/engine/sequential.py:455: UserWarning: `model.predict_classes()` is deprecated and will be removed after 2021-01-01. Please use instead:* `np.argmax(model.predict(x), axis=-1)`,   if your model does multi-class classification   (e.g. if it uses a `softmax` last-layer activation).* `(model.predict(x) > 0.5).astype(\"int32\")`,   if your model does binary classification   (e.g. if it uses a `sigmoid` last-layer activation).\n",
            "  warnings.warn('`model.predict_classes()` is deprecated and '\n"
          ],
          "name": "stderr"
        },
        {
          "output_type": "stream",
          "text": [
            "11/11 [==============================] - 3s 97ms/step - loss: 36951.3594 - mean_absolute_error: 166.7915 - mape: 992184.8750\n"
          ],
          "name": "stdout"
        },
        {
          "output_type": "stream",
          "text": [
            "/usr/local/lib/python3.7/dist-packages/tensorflow/python/keras/engine/sequential.py:455: UserWarning: `model.predict_classes()` is deprecated and will be removed after 2021-01-01. Please use instead:* `np.argmax(model.predict(x), axis=-1)`,   if your model does multi-class classification   (e.g. if it uses a `softmax` last-layer activation).* `(model.predict(x) > 0.5).astype(\"int32\")`,   if your model does binary classification   (e.g. if it uses a `sigmoid` last-layer activation).\n",
            "  warnings.warn('`model.predict_classes()` is deprecated and '\n"
          ],
          "name": "stderr"
        },
        {
          "output_type": "stream",
          "text": [
            "14/14 [==============================] - 3s 99ms/step - loss: 56857.9414 - mean_absolute_error: 206.7401 - mape: 212114.0000\n"
          ],
          "name": "stdout"
        },
        {
          "output_type": "stream",
          "text": [
            "/usr/local/lib/python3.7/dist-packages/tensorflow/python/keras/engine/sequential.py:455: UserWarning: `model.predict_classes()` is deprecated and will be removed after 2021-01-01. Please use instead:* `np.argmax(model.predict(x), axis=-1)`,   if your model does multi-class classification   (e.g. if it uses a `softmax` last-layer activation).* `(model.predict(x) > 0.5).astype(\"int32\")`,   if your model does binary classification   (e.g. if it uses a `sigmoid` last-layer activation).\n",
            "  warnings.warn('`model.predict_classes()` is deprecated and '\n"
          ],
          "name": "stderr"
        },
        {
          "output_type": "stream",
          "text": [
            "16/16 [==============================] - 4s 98ms/step - loss: 81183.0000 - mean_absolute_error: 247.0253 - mape: 755039.7500\n"
          ],
          "name": "stdout"
        },
        {
          "output_type": "stream",
          "text": [
            "/usr/local/lib/python3.7/dist-packages/tensorflow/python/keras/engine/sequential.py:455: UserWarning: `model.predict_classes()` is deprecated and will be removed after 2021-01-01. Please use instead:* `np.argmax(model.predict(x), axis=-1)`,   if your model does multi-class classification   (e.g. if it uses a `softmax` last-layer activation).* `(model.predict(x) > 0.5).astype(\"int32\")`,   if your model does binary classification   (e.g. if it uses a `sigmoid` last-layer activation).\n",
            "  warnings.warn('`model.predict_classes()` is deprecated and '\n"
          ],
          "name": "stderr"
        },
        {
          "output_type": "stream",
          "text": [
            "19/19 [==============================] - 4s 101ms/step - loss: 110173.8594 - mean_absolute_error: 287.8466 - mape: 611008.4375\n"
          ],
          "name": "stdout"
        },
        {
          "output_type": "stream",
          "text": [
            "/usr/local/lib/python3.7/dist-packages/tensorflow/python/keras/engine/sequential.py:455: UserWarning: `model.predict_classes()` is deprecated and will be removed after 2021-01-01. Please use instead:* `np.argmax(model.predict(x), axis=-1)`,   if your model does multi-class classification   (e.g. if it uses a `softmax` last-layer activation).* `(model.predict(x) > 0.5).astype(\"int32\")`,   if your model does binary classification   (e.g. if it uses a `sigmoid` last-layer activation).\n",
            "  warnings.warn('`model.predict_classes()` is deprecated and '\n"
          ],
          "name": "stderr"
        },
        {
          "output_type": "stream",
          "text": [
            "21/21 [==============================] - 4s 97ms/step - loss: 142505.8281 - mean_absolute_error: 327.4793 - mape: 5818.0737\n"
          ],
          "name": "stdout"
        },
        {
          "output_type": "stream",
          "text": [
            "/usr/local/lib/python3.7/dist-packages/tensorflow/python/keras/engine/sequential.py:455: UserWarning: `model.predict_classes()` is deprecated and will be removed after 2021-01-01. Please use instead:* `np.argmax(model.predict(x), axis=-1)`,   if your model does multi-class classification   (e.g. if it uses a `softmax` last-layer activation).* `(model.predict(x) > 0.5).astype(\"int32\")`,   if your model does binary classification   (e.g. if it uses a `sigmoid` last-layer activation).\n",
            "  warnings.warn('`model.predict_classes()` is deprecated and '\n"
          ],
          "name": "stderr"
        },
        {
          "output_type": "stream",
          "text": [
            "24/24 [==============================] - 5s 98ms/step - loss: 179369.6094 - mean_absolute_error: 367.8072 - mape: 389056.4688\n"
          ],
          "name": "stdout"
        },
        {
          "output_type": "stream",
          "text": [
            "/usr/local/lib/python3.7/dist-packages/tensorflow/python/keras/engine/sequential.py:455: UserWarning: `model.predict_classes()` is deprecated and will be removed after 2021-01-01. Please use instead:* `np.argmax(model.predict(x), axis=-1)`,   if your model does multi-class classification   (e.g. if it uses a `softmax` last-layer activation).* `(model.predict(x) > 0.5).astype(\"int32\")`,   if your model does binary classification   (e.g. if it uses a `sigmoid` last-layer activation).\n",
            "  warnings.warn('`model.predict_classes()` is deprecated and '\n"
          ],
          "name": "stderr"
        },
        {
          "output_type": "stream",
          "text": [
            "27/27 [==============================] - 5s 99ms/step - loss: 218922.3281 - mean_absolute_error: 406.3831 - mape: 619057.5625\n"
          ],
          "name": "stdout"
        },
        {
          "output_type": "stream",
          "text": [
            "/usr/local/lib/python3.7/dist-packages/tensorflow/python/keras/engine/sequential.py:455: UserWarning: `model.predict_classes()` is deprecated and will be removed after 2021-01-01. Please use instead:* `np.argmax(model.predict(x), axis=-1)`,   if your model does multi-class classification   (e.g. if it uses a `softmax` last-layer activation).* `(model.predict(x) > 0.5).astype(\"int32\")`,   if your model does binary classification   (e.g. if it uses a `sigmoid` last-layer activation).\n",
            "  warnings.warn('`model.predict_classes()` is deprecated and '\n"
          ],
          "name": "stderr"
        },
        {
          "output_type": "stream",
          "text": [
            "MSE: 0.4489474781329018 (+/- 0.1866174103865369\n"
          ],
          "name": "stdout"
        }
      ]
    },
    {
      "cell_type": "code",
      "metadata": {
        "id": "MmDbmXOfvwVc",
        "colab": {
          "base_uri": "https://localhost:8080/"
        },
        "outputId": "2b24b651-5339-42e6-c976-2d5c03019246"
      },
      "source": [
        "print('The mean squared errors for each of the 10 splits are:', mse)\n",
        "print('The mean mse for the folds is: ', (sum(mse)/10))\n",
        "\n",
        "print('The mean absolute errors for each of the 10 splits are:', mae)\n",
        "print('The mean mae for the folds is: ', (sum(mae)/10))"
      ],
      "execution_count": null,
      "outputs": [
        {
          "output_type": "stream",
          "text": [
            "The mean squared errors for each of the 10 splits are: [0.14323515 0.21606474 0.24301871 0.33731154 0.50601975 0.55845455\n",
            " 0.57216197 0.68120861 0.66847772 0.56352202]\n",
            "The mean mse for the folds is:  0.4489474781329018\n",
            "The mean absolute errors for each of the 10 splits are: [0.37552133 0.46240915 0.48902089 0.57902468 0.70567489 0.74606166\n",
            " 0.75142966 0.81928164 0.81558702 0.74872487]\n",
            "The mean mae for the folds is:  0.6492735768967053\n"
          ],
          "name": "stdout"
        }
      ]
    },
    {
      "cell_type": "code",
      "metadata": {
        "id": "-lq93UMec9W-",
        "colab": {
          "base_uri": "https://localhost:8080/"
        },
        "outputId": "7b353155-572d-436b-8649-ac31363dd789"
      },
      "source": [
        "df_results = pd.DataFrame(mse)\n",
        "df_results['RMSE'] = np.sqrt(df_results[0])\n",
        "df_results = df_results.rename(columns={0:'MSFT_MSE', 'RMSE':'MSFT_RMSE'})\n",
        "df_results"
      ],
      "execution_count": null,
      "outputs": [
        {
          "output_type": "execute_result",
          "data": {
            "text/html": [
              "<div>\n",
              "<style scoped>\n",
              "    .dataframe tbody tr th:only-of-type {\n",
              "        vertical-align: middle;\n",
              "    }\n",
              "\n",
              "    .dataframe tbody tr th {\n",
              "        vertical-align: top;\n",
              "    }\n",
              "\n",
              "    .dataframe thead th {\n",
              "        text-align: right;\n",
              "    }\n",
              "</style>\n",
              "<table border=\"1\" class=\"dataframe\">\n",
              "  <thead>\n",
              "    <tr style=\"text-align: right;\">\n",
              "      <th></th>\n",
              "      <th>MSFT_MSE</th>\n",
              "      <th>MSFT_RMSE</th>\n",
              "    </tr>\n",
              "  </thead>\n",
              "  <tbody>\n",
              "    <tr>\n",
              "      <th>0</th>\n",
              "      <td>0.143235</td>\n",
              "      <td>0.378464</td>\n",
              "    </tr>\n",
              "    <tr>\n",
              "      <th>1</th>\n",
              "      <td>0.216065</td>\n",
              "      <td>0.464828</td>\n",
              "    </tr>\n",
              "    <tr>\n",
              "      <th>2</th>\n",
              "      <td>0.243019</td>\n",
              "      <td>0.492969</td>\n",
              "    </tr>\n",
              "    <tr>\n",
              "      <th>3</th>\n",
              "      <td>0.337312</td>\n",
              "      <td>0.580785</td>\n",
              "    </tr>\n",
              "    <tr>\n",
              "      <th>4</th>\n",
              "      <td>0.506020</td>\n",
              "      <td>0.711351</td>\n",
              "    </tr>\n",
              "    <tr>\n",
              "      <th>5</th>\n",
              "      <td>0.558455</td>\n",
              "      <td>0.747298</td>\n",
              "    </tr>\n",
              "    <tr>\n",
              "      <th>6</th>\n",
              "      <td>0.572162</td>\n",
              "      <td>0.756414</td>\n",
              "    </tr>\n",
              "    <tr>\n",
              "      <th>7</th>\n",
              "      <td>0.681209</td>\n",
              "      <td>0.825354</td>\n",
              "    </tr>\n",
              "    <tr>\n",
              "      <th>8</th>\n",
              "      <td>0.668478</td>\n",
              "      <td>0.817605</td>\n",
              "    </tr>\n",
              "    <tr>\n",
              "      <th>9</th>\n",
              "      <td>0.563522</td>\n",
              "      <td>0.750681</td>\n",
              "    </tr>\n",
              "  </tbody>\n",
              "</table>\n",
              "</div>"
            ],
            "text/plain": [
              "   MSFT_MSE  MSFT_RMSE\n",
              "0  0.143235   0.378464\n",
              "1  0.216065   0.464828\n",
              "2  0.243019   0.492969\n",
              "3  0.337312   0.580785\n",
              "4  0.506020   0.711351\n",
              "5  0.558455   0.747298\n",
              "6  0.572162   0.756414\n",
              "7  0.681209   0.825354\n",
              "8  0.668478   0.817605\n",
              "9  0.563522   0.750681"
            ]
          },
          "metadata": {
            "tags": []
          },
          "execution_count": 46
        }
      ]
    },
    {
      "cell_type": "code",
      "metadata": {
        "id": "reC53qQxYSaQ"
      },
      "source": [
        "df_results.to_csv('MSFT_SENTIMENT_LSTM_HR.csv')\n"
      ],
      "execution_count": null,
      "outputs": []
    },
    {
      "cell_type": "code",
      "metadata": {
        "id": "C6W_pFU6biLn",
        "colab": {
          "base_uri": "https://localhost:8080/",
          "height": 290
        },
        "outputId": "cf05bc17-4881-442d-d90e-daa98f894878"
      },
      "source": [
        "df_results.describe()"
      ],
      "execution_count": null,
      "outputs": [
        {
          "output_type": "execute_result",
          "data": {
            "text/html": [
              "<div>\n",
              "<style scoped>\n",
              "    .dataframe tbody tr th:only-of-type {\n",
              "        vertical-align: middle;\n",
              "    }\n",
              "\n",
              "    .dataframe tbody tr th {\n",
              "        vertical-align: top;\n",
              "    }\n",
              "\n",
              "    .dataframe thead th {\n",
              "        text-align: right;\n",
              "    }\n",
              "</style>\n",
              "<table border=\"1\" class=\"dataframe\">\n",
              "  <thead>\n",
              "    <tr style=\"text-align: right;\">\n",
              "      <th></th>\n",
              "      <th>MSFT_MSE</th>\n",
              "      <th>MSFT_RMSE</th>\n",
              "    </tr>\n",
              "  </thead>\n",
              "  <tbody>\n",
              "    <tr>\n",
              "      <th>count</th>\n",
              "      <td>10.000000</td>\n",
              "      <td>10.000000</td>\n",
              "    </tr>\n",
              "    <tr>\n",
              "      <th>mean</th>\n",
              "      <td>0.448947</td>\n",
              "      <td>0.652575</td>\n",
              "    </tr>\n",
              "    <tr>\n",
              "      <th>std</th>\n",
              "      <td>0.196712</td>\n",
              "      <td>0.160186</td>\n",
              "    </tr>\n",
              "    <tr>\n",
              "      <th>min</th>\n",
              "      <td>0.143235</td>\n",
              "      <td>0.378464</td>\n",
              "    </tr>\n",
              "    <tr>\n",
              "      <th>25%</th>\n",
              "      <td>0.266592</td>\n",
              "      <td>0.514923</td>\n",
              "    </tr>\n",
              "    <tr>\n",
              "      <th>50%</th>\n",
              "      <td>0.532237</td>\n",
              "      <td>0.729324</td>\n",
              "    </tr>\n",
              "    <tr>\n",
              "      <th>75%</th>\n",
              "      <td>0.570002</td>\n",
              "      <td>0.754981</td>\n",
              "    </tr>\n",
              "    <tr>\n",
              "      <th>max</th>\n",
              "      <td>0.681209</td>\n",
              "      <td>0.825354</td>\n",
              "    </tr>\n",
              "  </tbody>\n",
              "</table>\n",
              "</div>"
            ],
            "text/plain": [
              "        MSFT_MSE  MSFT_RMSE\n",
              "count  10.000000  10.000000\n",
              "mean    0.448947   0.652575\n",
              "std     0.196712   0.160186\n",
              "min     0.143235   0.378464\n",
              "25%     0.266592   0.514923\n",
              "50%     0.532237   0.729324\n",
              "75%     0.570002   0.754981\n",
              "max     0.681209   0.825354"
            ]
          },
          "metadata": {
            "tags": []
          },
          "execution_count": 48
        }
      ]
    },
    {
      "cell_type": "code",
      "metadata": {
        "id": "lSGvNk8ZVjJI"
      },
      "source": [
        ""
      ],
      "execution_count": null,
      "outputs": []
    }
  ]
}